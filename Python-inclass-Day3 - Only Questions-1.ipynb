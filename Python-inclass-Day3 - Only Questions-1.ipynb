{
 "cells": [
  {
   "cell_type": "markdown",
   "metadata": {},
   "source": [
    "### IF Statement "
   ]
  },
  {
   "cell_type": "markdown",
   "metadata": {},
   "source": [
    "### Problems:"
   ]
  },
  {
   "cell_type": "markdown",
   "metadata": {},
   "source": [
    "#### 1. x = 20 and y = 30 You want to write a python code for x is is less then y?"
   ]
  },
  {
   "cell_type": "raw",
   "metadata": {},
   "source": [
    "Assigning x equal to 20\n",
    "Assigning y equal to 30\n",
    "If condition x is less then y then go to step 4\n",
    "print x is less then y"
   ]
  },
  {
   "cell_type": "code",
   "execution_count": null,
   "metadata": {},
   "outputs": [],
   "source": [
    "x = 20\n",
    "y = 30\n",
    "if(x < y):\n",
    "    print(\"x is less than y\")\n"
   ]
  },
  {
   "cell_type": "markdown",
   "metadata": {},
   "source": [
    "#### 2.The score for a certain Python course. The total score is 200, with 100 points for the theoritical work and 100 for practical. You want to display an error message or warning if the score exceeds 200."
   ]
  },
  {
   "cell_type": "raw",
   "metadata": {},
   "source": [
    "Variable theory is equal to 140\n",
    "variable practical is eqal to 145\n",
    "If condition for theory + practical greater than equal to 200 then go to step 4\n",
    "print invalid score"
   ]
  },
  {
   "cell_type": "code",
   "execution_count": 1,
   "metadata": {},
   "outputs": [
    {
     "name": "stdout",
     "output_type": "stream",
     "text": [
      "Invalid score\n"
     ]
    }
   ],
   "source": [
    "theory = 140\n",
    "practical = 145\n",
    "if(theory + practical > 200):\n",
    "    print(\"Invalid score\")"
   ]
  },
  {
   "cell_type": "markdown",
   "metadata": {},
   "source": [
    "# If-else Statement"
   ]
  },
  {
   "cell_type": "markdown",
   "metadata": {},
   "source": [
    "#### 1. Write a python code to check if a student has passed a subject based on a string input (Yes, No)"
   ]
  },
  {
   "cell_type": "raw",
   "metadata": {},
   "source": [
    "Create the variable is Subject = input is yes or no\n",
    "create If condition Subject == the string 'yes' then go to step 3, Else go to step 4\n",
    "print Cleared the test\n",
    "print Failed the test"
   ]
  },
  {
   "cell_type": "code",
   "execution_count": 5,
   "metadata": {},
   "outputs": [
    {
     "name": "stdout",
     "output_type": "stream",
     "text": [
      " yes\n",
      "Cleared the test.\n"
     ]
    }
   ],
   "source": [
    "Subject = input(\" \").lower()\n",
    "\n",
    "if Subject == \"yes\" :\n",
    "    print(\"Cleared the test.\")\n",
    "else :\n",
    "    print(\"Failed the test.\")\n",
    "\n"
   ]
  },
  {
   "cell_type": "markdown",
   "metadata": {},
   "source": [
    "#### 2. Take the password as an input and check if it is equal to 'great'. Show a message accordingly. Write a python code for this."
   ]
  },
  {
   "cell_type": "raw",
   "metadata": {},
   "source": [
    "Create the variable name Password\n",
    "Assiging  the variable Password input equal to 'Enter the password'\n",
    "Create if condition Password == the string 'great' then go to step 3,Else go to step 5\n",
    "print the 'Password Accepted'\n",
    "print the 'The wrong Password'"
   ]
  },
  {
   "cell_type": "code",
   "execution_count": 13,
   "metadata": {},
   "outputs": [
    {
     "name": "stdout",
     "output_type": "stream",
     "text": [
      "Enter the password: great\n",
      "Password Accepted\n"
     ]
    }
   ],
   "source": [
    "password = input('Enter the password: ').lower()\n",
    "\n",
    "if password == 'great':\n",
    "    print('Password Accepted')\n",
    "\n",
    "else:\n",
    "    print('The wrong password.')"
   ]
  },
  {
   "cell_type": "markdown",
   "metadata": {},
   "source": [
    "###  Nested if Statement"
   ]
  },
  {
   "cell_type": "markdown",
   "metadata": {},
   "source": [
    "### 1. Based on the users age, divide them in to three groups \n",
    "    Group 1 : Age <18 , Minors who are not eligible to work\n",
    "    Group 2 : 18<Age<60 , ELigible to work\n",
    "    Group 3 : >60, Too old to work as per govt. regulations. \n",
    "\n",
    "    Write a python code for the same"
   ]
  },
  {
   "cell_type": "raw",
   "metadata": {},
   "source": [
    "Create variable Name age eqaul to input \n",
    "if condition for age is < 18 go to step 3 , else go to step 5 \n",
    "print  Your Minor not Eligible to Work \n",
    "if condition for age >= 18 and age <= 60 go to step 5 , else go to step 6 \n",
    "print Your Eligible to Work fill in your details and apply \n",
    "print Your too old to work as per the Government rules  Please Collect your pension"
   ]
  },
  {
   "cell_type": "code",
   "execution_count": 8,
   "metadata": {},
   "outputs": [
    {
     "name": "stdout",
     "output_type": "stream",
     "text": [
      "6543\n",
      " Your too old to work as per the Government rules  Please Collect your pension\n"
     ]
    }
   ],
   "source": [
    "age = int(input())\n",
    "if age < 18:\n",
    "    print(\" Your Minor not Eligible to Work \") \n",
    "else:\n",
    "    if age >= 18 and age <= 60:\n",
    "        print(\" Your Eligible to Work fill in your details and apply \")\n",
    "    else:\n",
    "        print(\" Your too old to work as per the Government rules  Please Collect your pension\")\n"
   ]
  },
  {
   "cell_type": "markdown",
   "metadata": {},
   "source": [
    "# While Loop"
   ]
  },
  {
   "cell_type": "markdown",
   "metadata": {},
   "source": [
    "### 1. Take an integer as input from the user and print all the numbers from 0 to that number in reverse order. \n",
    "\n",
    "    Example : if the input is 3, the output should be\n",
    "    3\n",
    "    2\n",
    "    1"
   ]
  },
  {
   "cell_type": "raw",
   "metadata": {},
   "source": [
    "Create the variable n\n",
    "n assigning the input values\n",
    "while loop condition for n is greater then zero then go to step 4\n",
    "n is decrement equal to one\n",
    "print the n"
   ]
  },
  {
   "cell_type": "code",
   "execution_count": 20,
   "metadata": {},
   "outputs": [
    {
     "name": "stdout",
     "output_type": "stream",
     "text": [
      "3\n",
      "2\n",
      "1\n",
      "0\n"
     ]
    }
   ],
   "source": [
    "n = int(input())\n",
    "while n > 0:\n",
    "    n -= 1\n",
    "    print(n)"
   ]
  },
  {
   "cell_type": "markdown",
   "metadata": {},
   "source": [
    "### 2.  Write a python code to find the squares of all the numbers based on an input. \n",
    "\n",
    "    Example : If the input is 10, the output should be\n",
    "    1*1 ,2*2 ,3*3...... 10*10?"
   ]
  },
  {
   "cell_type": "raw",
   "metadata": {},
   "source": [
    "Create the variable i assigning to 1\n",
    "while loop condition of i if less then or equal to the 10 then go to step 3\n",
    "print the condition i ** 2\n",
    "increment the i equal to 1 here loop will happen untill reached to 10."
   ]
  },
  {
   "cell_type": "code",
   "execution_count": 21,
   "metadata": {},
   "outputs": [
    {
     "name": "stdout",
     "output_type": "stream",
     "text": [
      "1\n",
      "4\n",
      "9\n",
      "16\n",
      "25\n",
      "36\n",
      "49\n",
      "64\n",
      "81\n",
      "100\n"
     ]
    }
   ],
   "source": [
    "i = 1\n",
    "while i <= 10:\n",
    "    print(i ** 2)\n",
    "    i += 1"
   ]
  },
  {
   "cell_type": "markdown",
   "metadata": {},
   "source": [
    "# For Loop"
   ]
  },
  {
   "cell_type": "markdown",
   "metadata": {},
   "source": [
    "### 1. Write a python code to print the multiplication table of a given number.\n",
    "\n",
    "    Example : if the number is 3, the output should print the below :  \n",
    "    3 X 1 = 3\n",
    "    3 X 2 = 6\n",
    "    ...\n",
    "    3 X 10 =30"
   ]
  },
  {
   "cell_type": "raw",
   "metadata": {},
   "source": [
    "Create a number and store it in a variableis n.\n",
    "For loop condition i in the range between (1,11) and go to step 3\n",
    "In print statement the condition is n,'x',i,'=' ,n*i and it will Print the multiplication tables of a given number.\n",
    "Exit."
   ]
  },
  {
   "cell_type": "code",
   "execution_count": 6,
   "metadata": {
    "scrolled": true
   },
   "outputs": [
    {
     "name": "stdout",
     "output_type": "stream",
     "text": [
      "7\n",
      "7 x 1 = 7\n",
      "7 x 2 = 14\n",
      "7 x 3 = 21\n",
      "7 x 4 = 28\n",
      "7 x 5 = 35\n",
      "7 x 6 = 42\n",
      "7 x 7 = 49\n",
      "7 x 8 = 56\n",
      "7 x 9 = 63\n",
      "7 x 10 = 70\n"
     ]
    }
   ],
   "source": [
    "n=int(input())\n",
    "for i in range(1,11):\n",
    "    print(n,\"x\",i,\"=\",n*i)"
   ]
  },
  {
   "cell_type": "markdown",
   "metadata": {},
   "source": [
    "#### 2. Write a python code to print squares of all numbers present in a list = [1, 12, 24, 36, 11, 20,50]\n"
   ]
  },
  {
   "cell_type": "raw",
   "metadata": {},
   "source": [
    "Create the list name numbers  =[1, 22, 14, 64, 31, 120]\n",
    "Create the variable name square assigning the value = to Zero\n",
    "For loop condition for i in the numbers then go to step 4\n",
    "Create the square equal to i * i  \n",
    "Print square"
   ]
  },
  {
   "cell_type": "code",
   "execution_count": 40,
   "metadata": {
    "scrolled": false
   },
   "outputs": [
    {
     "name": "stdout",
     "output_type": "stream",
     "text": [
      "1\n",
      "484\n",
      "196\n",
      "4096\n",
      "961\n",
      "14400\n"
     ]
    }
   ],
   "source": [
    "numbers = [1, 22, 14, 64, 31, 120]\n",
    "\n",
    "# variable to store the square of each num temporary\n",
    "square = 0\n",
    "\n",
    "# iterating over the given list\n",
    "for value in numbers:\n",
    "    # calculating square of each number\n",
    "    square = value * value\n",
    "    # displaying the squares\n",
    "    print(square)"
   ]
  },
  {
   "cell_type": "markdown",
   "metadata": {},
   "source": [
    "# Additional Practice Programs"
   ]
  },
  {
   "cell_type": "markdown",
   "metadata": {},
   "source": [
    "#### 1. Write a python program that takes a list  ['red','black','blue']  and prints each element in the list using whle loop"
   ]
  },
  {
   "cell_type": "code",
   "execution_count": 12,
   "metadata": {
    "scrolled": true
   },
   "outputs": [
    {
     "name": "stdout",
     "output_type": "stream",
     "text": [
      "red\n",
      "black\n",
      "blue\n"
     ]
    }
   ],
   "source": [
    "colors = ['red','black','blue']\n",
    "i = 0\n",
    "while i < len(colors):\n",
    "    print(colors[i])\n",
    "    i+=1"
   ]
  },
  {
   "cell_type": "markdown",
   "metadata": {},
   "source": [
    "#### 2. Write the same program as above using a For loop?"
   ]
  },
  {
   "cell_type": "code",
   "execution_count": 13,
   "metadata": {},
   "outputs": [
    {
     "name": "stdout",
     "output_type": "stream",
     "text": [
      "red\n",
      "black\n",
      "blue\n"
     ]
    }
   ],
   "source": [
    "colors = ['red','black','blue']\n",
    "for i in range (len(colors)):\n",
    "    print(colors[i])"
   ]
  },
  {
   "cell_type": "markdown",
   "metadata": {},
   "source": [
    "#### 3. Python Program to find the LCM of two numbers?"
   ]
  },
  {
   "cell_type": "code",
   "execution_count": 15,
   "metadata": {
    "scrolled": true
   },
   "outputs": [
    {
     "name": "stdout",
     "output_type": "stream",
     "text": [
      "43\n",
      "654\n",
      "LCM is: 28122\n"
     ]
    }
   ],
   "source": [
    "a=int(input())\n",
    "b=int(input())\n",
    "if(a>b):\n",
    "    variable=a\n",
    "else:\n",
    "    variable=b\n",
    "while(1):\n",
    "    if(variable%a==0 and variable%b==0):\n",
    "        print(\"LCM is:\",variable)\n",
    "        break\n",
    "    variable=variable+1"
   ]
  },
  {
   "cell_type": "markdown",
   "metadata": {},
   "source": [
    "##### Explanation:"
   ]
  },
  {
   "cell_type": "raw",
   "metadata": {},
   "source": [
    "1.User must enter both the numbers and store it in separate variables.\n",
    "2.An if statement is used to find out which of the numbers is smaller and store in a variable.\n",
    "3.Then a while loop is used whose condition is always true (or 1) unless break is used.\n",
    "4.Then an if statement within the loop is used to check whether the value in the variable is divisible by both the numbers.\n",
    "5.If it is divisible, break statement breaks out of the loop.\n",
    "6.If it is not divisible, the value in the variable is incremented.\n",
    "7.The final LCM is printed."
   ]
  },
  {
   "cell_type": "markdown",
   "metadata": {},
   "source": [
    "#### 4. The Python Program to print the pascal’s triangle for n number of rows given by the user."
   ]
  },
  {
   "cell_type": "code",
   "execution_count": 17,
   "metadata": {},
   "outputs": [
    {
     "name": "stdout",
     "output_type": "stream",
     "text": [
      "8\n",
      "                              1 \n",
      "                           1      1 \n",
      "                        1      2      1 \n",
      "                     1      3      3      1 \n",
      "                  1      4      6      4      1 \n",
      "               1      5     10     10      5      1 \n",
      "            1      6     15     20     15      6      1 \n",
      "         1      7     21     35     35     21      7      1 \n"
     ]
    }
   ],
   "source": [
    "n=int(input())\n",
    "a=[]\n",
    "for i in range(n):\n",
    "    a.append([])\n",
    "    a[i].append(1)\n",
    "    for j in range(1,i):\n",
    "        a[i].append(a[i-1][j-1]+a[i-1][j])\n",
    "    if(n!=0):\n",
    "        a[i].append(1)\n",
    "for i in range(n):\n",
    "    print(\"   \"*(n-i),end=\" \",sep=\" \")\n",
    "    for j in range(0,i+1):\n",
    "        print('{0:6}'.format(a[i][j]),end=\" \",sep=\" \")\n",
    "    print()"
   ]
  },
  {
   "cell_type": "markdown",
   "metadata": {},
   "source": [
    "##### Explanation\n",
    "    1.User must enter the number of rows that the Pascal’s triangle should have.\n",
    "    2.The for loop is used to append sub-lists into an empty list defined earlier.\n",
    "    3.Then 1 is appended into all the sub-lists.\n",
    "    4.The for loop is used to determine the value of the number inside the triangle which is the sum of the two numbers above it.\n",
    "    5. The other for loop is used to print the Pascal’s triangle according to the format."
   ]
  },
  {
   "cell_type": "markdown",
   "metadata": {},
   "source": [
    "#### 5. Python Program to find the sum of series: 1 + 1/2 + 1/3 + ….. + 1/N."
   ]
  },
  {
   "cell_type": "code",
   "execution_count": 19,
   "metadata": {
    "scrolled": true
   },
   "outputs": [
    {
     "name": "stdout",
     "output_type": "stream",
     "text": [
      "654\n",
      "The sum of series is 7.06\n"
     ]
    }
   ],
   "source": [
    "n=int(input())\n",
    "summation=0\n",
    "for i in range(1,n+1):\n",
    "    summation=summation+(1/i)\n",
    "print(\"The sum of series is\",round(summation,2))"
   ]
  },
  {
   "cell_type": "markdown",
   "metadata": {},
   "source": [
    "#### Explanation"
   ]
  },
  {
   "cell_type": "markdown",
   "metadata": {},
   "source": [
    "    1.User must enter the number of terms to find the sum of.\n",
    "    2.The summation variable is initialized to 0.\n",
    "    3.The for loop is used to find the summation of the series and the number is incremented for each iteration.\n",
    "    4.The numbers are added to the summation variable and this continues till the value of i reaches the number of terms.\n",
    "    5.Then the summation of the series is printed."
   ]
  },
  {
   "cell_type": "markdown",
   "metadata": {},
   "source": [
    "# List Comprehensions"
   ]
  },
  {
   "cell_type": "markdown",
   "metadata": {},
   "source": [
    "#### 1. The Python program for squares range (1-10) \n",
    "\n",
    "* output squares = [0, 1, 4, 9, 16, 25, 36, 49, 64, 81, 100]"
   ]
  },
  {
   "cell_type": "code",
   "execution_count": 6,
   "metadata": {
    "scrolled": true
   },
   "outputs": [
    {
     "data": {
      "text/plain": [
       "[0, 1, 4, 9, 16, 25, 36, 49, 64, 81, 100]"
      ]
     },
     "execution_count": 6,
     "metadata": {},
     "output_type": "execute_result"
    }
   ],
   "source": [
    "squares = []\n",
    "for i in range(11):\n",
    "    squares.append(i*i)\n",
    "squares"
   ]
  },
  {
   "cell_type": "markdown",
   "metadata": {},
   "source": [
    "##### Create a code for the same question as above using a List comprehension"
   ]
  },
  {
   "cell_type": "code",
   "execution_count": 7,
   "metadata": {
    "scrolled": true
   },
   "outputs": [
    {
     "data": {
      "text/plain": [
       "[0, 1, 4, 9, 16, 25, 36, 49, 64, 81, 100]"
      ]
     },
     "execution_count": 7,
     "metadata": {},
     "output_type": "execute_result"
    }
   ],
   "source": [
    "squares = [i*i for i in range(11)]\n",
    "squares"
   ]
  },
  {
   "cell_type": "markdown",
   "metadata": {},
   "source": [
    "#### 2.Convert a list of integers to a list of strings. Use List comprehension?"
   ]
  },
  {
   "cell_type": "code",
   "execution_count": 20,
   "metadata": {},
   "outputs": [
    {
     "data": {
      "text/plain": [
       "['0', '1', '2', '3', '4', '5']"
      ]
     },
     "execution_count": 20,
     "metadata": {},
     "output_type": "execute_result"
    }
   ],
   "source": [
    "my_list = [0,1,2,3,4,5]\n",
    "[str(x) for x in my_list]"
   ]
  },
  {
   "cell_type": "markdown",
   "metadata": {},
   "source": [
    "#### 3. tuples from two lists with List Comprehensions?"
   ]
  },
  {
   "cell_type": "code",
   "execution_count": 24,
   "metadata": {},
   "outputs": [
    {
     "data": {
      "text/plain": [
       "[(0, 'zero'), (0, 'one'), (1, 'zero'), (1, 'one')]"
      ]
     },
     "execution_count": 24,
     "metadata": {},
     "output_type": "execute_result"
    }
   ],
   "source": [
    "list1 =[0,1]\n",
    "list2 =['zero','one']\n",
    "[(x,y) for x in list1 for y in list2]"
   ]
  },
  {
   "cell_type": "markdown",
   "metadata": {},
   "source": [
    "#### 4. Get Index of Each Element of List with enumerate and List Comprehensions?"
   ]
  },
  {
   "cell_type": "code",
   "execution_count": 26,
   "metadata": {},
   "outputs": [
    {
     "data": {
      "text/plain": [
       "[(0, 'a'), (1, 'b'), (2, 'c'), (3, 'd'), (4, 'e')]"
      ]
     },
     "execution_count": 26,
     "metadata": {},
     "output_type": "execute_result"
    }
   ],
   "source": [
    "list= ['a','b','c','d','e']\n",
    "[(i,j) for (i,j) in enumerate(list)]"
   ]
  }
 ],
 "metadata": {
  "kernelspec": {
   "display_name": "Python 3",
   "language": "python",
   "name": "python3"
  },
  "language_info": {
   "codemirror_mode": {
    "name": "ipython",
    "version": 3
   },
   "file_extension": ".py",
   "mimetype": "text/x-python",
   "name": "python",
   "nbconvert_exporter": "python",
   "pygments_lexer": "ipython3",
   "version": "3.7.3"
  }
 },
 "nbformat": 4,
 "nbformat_minor": 2
}
