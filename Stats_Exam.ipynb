{
 "cells": [
  {
   "cell_type": "markdown",
   "metadata": {},
   "source": [
    "# Question 4\n"
   ]
  },
  {
   "cell_type": "code",
   "execution_count": 17,
   "metadata": {},
   "outputs": [],
   "source": [
    "import pandas as pd\n",
    "P1=[15,14,20,15,16]\n",
    "P2=[10,14,9,10,11]\n",
    "P3=[17,12,14,15,12]\n",
    "y=[\"M1\",\"M1\",\"M1\",\"M1\",\"M1\"]\n",
    "x=pd.DataFrame(P1,index=y)\n",
    "x\n",
    "y1=[\"M2\",\"M2\",\"M2\",\"M2\",\"M2\"]\n",
    "x2=pd.DataFrame(P2,index=y1)\n",
    "y2=[\"M3\",\"M3\",\"M3\",\"M3\",\"M3\"]\n",
    "x3=pd.DataFrame(P3,index=y2)"
   ]
  },
  {
   "cell_type": "code",
   "execution_count": null,
   "metadata": {},
   "outputs": [],
   "source": []
  },
  {
   "cell_type": "code",
   "execution_count": 18,
   "metadata": {},
   "outputs": [
    {
     "data": {
      "text/plain": [
       "[15, 14, 20, 15, 16, 10, 14, 9, 10, 11, 17, 12, 14, 15, 12]"
      ]
     },
     "execution_count": 18,
     "metadata": {},
     "output_type": "execute_result"
    }
   ],
   "source": [
    "P_all=P1+P2+P3\n",
    "P_all"
   ]
  },
  {
   "cell_type": "code",
   "execution_count": 19,
   "metadata": {},
   "outputs": [
    {
     "data": {
      "text/plain": [
       "['M1',\n",
       " 'M1',\n",
       " 'M1',\n",
       " 'M1',\n",
       " 'M1',\n",
       " 'M2',\n",
       " 'M2',\n",
       " 'M2',\n",
       " 'M2',\n",
       " 'M2',\n",
       " 'M3',\n",
       " 'M3',\n",
       " 'M3',\n",
       " 'M3',\n",
       " 'M3']"
      ]
     },
     "execution_count": 19,
     "metadata": {},
     "output_type": "execute_result"
    }
   ],
   "source": [
    "y3=y+y1+y2\n",
    "y3"
   ]
  },
  {
   "cell_type": "code",
   "execution_count": 20,
   "metadata": {},
   "outputs": [
    {
     "data": {
      "text/html": [
       "<div>\n",
       "<style scoped>\n",
       "    .dataframe tbody tr th:only-of-type {\n",
       "        vertical-align: middle;\n",
       "    }\n",
       "\n",
       "    .dataframe tbody tr th {\n",
       "        vertical-align: top;\n",
       "    }\n",
       "\n",
       "    .dataframe thead th {\n",
       "        text-align: right;\n",
       "    }\n",
       "</style>\n",
       "<table border=\"1\" class=\"dataframe\">\n",
       "  <thead>\n",
       "    <tr style=\"text-align: right;\">\n",
       "      <th></th>\n",
       "      <th>0</th>\n",
       "    </tr>\n",
       "  </thead>\n",
       "  <tbody>\n",
       "    <tr>\n",
       "      <th>M1</th>\n",
       "      <td>15</td>\n",
       "    </tr>\n",
       "    <tr>\n",
       "      <th>M1</th>\n",
       "      <td>14</td>\n",
       "    </tr>\n",
       "    <tr>\n",
       "      <th>M1</th>\n",
       "      <td>20</td>\n",
       "    </tr>\n",
       "    <tr>\n",
       "      <th>M1</th>\n",
       "      <td>15</td>\n",
       "    </tr>\n",
       "    <tr>\n",
       "      <th>M1</th>\n",
       "      <td>16</td>\n",
       "    </tr>\n",
       "    <tr>\n",
       "      <th>M2</th>\n",
       "      <td>10</td>\n",
       "    </tr>\n",
       "    <tr>\n",
       "      <th>M2</th>\n",
       "      <td>14</td>\n",
       "    </tr>\n",
       "    <tr>\n",
       "      <th>M2</th>\n",
       "      <td>9</td>\n",
       "    </tr>\n",
       "    <tr>\n",
       "      <th>M2</th>\n",
       "      <td>10</td>\n",
       "    </tr>\n",
       "    <tr>\n",
       "      <th>M2</th>\n",
       "      <td>11</td>\n",
       "    </tr>\n",
       "    <tr>\n",
       "      <th>M3</th>\n",
       "      <td>17</td>\n",
       "    </tr>\n",
       "    <tr>\n",
       "      <th>M3</th>\n",
       "      <td>12</td>\n",
       "    </tr>\n",
       "    <tr>\n",
       "      <th>M3</th>\n",
       "      <td>14</td>\n",
       "    </tr>\n",
       "    <tr>\n",
       "      <th>M3</th>\n",
       "      <td>15</td>\n",
       "    </tr>\n",
       "    <tr>\n",
       "      <th>M3</th>\n",
       "      <td>12</td>\n",
       "    </tr>\n",
       "  </tbody>\n",
       "</table>\n",
       "</div>"
      ],
      "text/plain": [
       "     0\n",
       "M1  15\n",
       "M1  14\n",
       "M1  20\n",
       "M1  15\n",
       "M1  16\n",
       "M2  10\n",
       "M2  14\n",
       "M2   9\n",
       "M2  10\n",
       "M2  11\n",
       "M3  17\n",
       "M3  12\n",
       "M3  14\n",
       "M3  15\n",
       "M3  12"
      ]
     },
     "execution_count": 20,
     "metadata": {},
     "output_type": "execute_result"
    }
   ],
   "source": [
    "abc=pd.DataFrame(P_all,index=y3)\n",
    "abc"
   ]
  },
  {
   "cell_type": "code",
   "execution_count": 21,
   "metadata": {},
   "outputs": [
    {
     "data": {
      "text/html": [
       "<div>\n",
       "<style scoped>\n",
       "    .dataframe tbody tr th:only-of-type {\n",
       "        vertical-align: middle;\n",
       "    }\n",
       "\n",
       "    .dataframe tbody tr th {\n",
       "        vertical-align: top;\n",
       "    }\n",
       "\n",
       "    .dataframe thead th {\n",
       "        text-align: right;\n",
       "    }\n",
       "</style>\n",
       "<table border=\"1\" class=\"dataframe\">\n",
       "  <thead>\n",
       "    <tr style=\"text-align: right;\">\n",
       "      <th></th>\n",
       "      <th>Machines</th>\n",
       "      <th>defects</th>\n",
       "    </tr>\n",
       "  </thead>\n",
       "  <tbody>\n",
       "    <tr>\n",
       "      <th>0</th>\n",
       "      <td>M1</td>\n",
       "      <td>15</td>\n",
       "    </tr>\n",
       "    <tr>\n",
       "      <th>1</th>\n",
       "      <td>M1</td>\n",
       "      <td>14</td>\n",
       "    </tr>\n",
       "    <tr>\n",
       "      <th>2</th>\n",
       "      <td>M1</td>\n",
       "      <td>20</td>\n",
       "    </tr>\n",
       "    <tr>\n",
       "      <th>3</th>\n",
       "      <td>M1</td>\n",
       "      <td>15</td>\n",
       "    </tr>\n",
       "    <tr>\n",
       "      <th>4</th>\n",
       "      <td>M1</td>\n",
       "      <td>16</td>\n",
       "    </tr>\n",
       "    <tr>\n",
       "      <th>5</th>\n",
       "      <td>M2</td>\n",
       "      <td>10</td>\n",
       "    </tr>\n",
       "    <tr>\n",
       "      <th>6</th>\n",
       "      <td>M2</td>\n",
       "      <td>14</td>\n",
       "    </tr>\n",
       "    <tr>\n",
       "      <th>7</th>\n",
       "      <td>M2</td>\n",
       "      <td>9</td>\n",
       "    </tr>\n",
       "    <tr>\n",
       "      <th>8</th>\n",
       "      <td>M2</td>\n",
       "      <td>10</td>\n",
       "    </tr>\n",
       "    <tr>\n",
       "      <th>9</th>\n",
       "      <td>M2</td>\n",
       "      <td>11</td>\n",
       "    </tr>\n",
       "    <tr>\n",
       "      <th>10</th>\n",
       "      <td>M3</td>\n",
       "      <td>17</td>\n",
       "    </tr>\n",
       "    <tr>\n",
       "      <th>11</th>\n",
       "      <td>M3</td>\n",
       "      <td>12</td>\n",
       "    </tr>\n",
       "    <tr>\n",
       "      <th>12</th>\n",
       "      <td>M3</td>\n",
       "      <td>14</td>\n",
       "    </tr>\n",
       "    <tr>\n",
       "      <th>13</th>\n",
       "      <td>M3</td>\n",
       "      <td>15</td>\n",
       "    </tr>\n",
       "    <tr>\n",
       "      <th>14</th>\n",
       "      <td>M3</td>\n",
       "      <td>12</td>\n",
       "    </tr>\n",
       "  </tbody>\n",
       "</table>\n",
       "</div>"
      ],
      "text/plain": [
       "   Machines  defects\n",
       "0        M1       15\n",
       "1        M1       14\n",
       "2        M1       20\n",
       "3        M1       15\n",
       "4        M1       16\n",
       "5        M2       10\n",
       "6        M2       14\n",
       "7        M2        9\n",
       "8        M2       10\n",
       "9        M2       11\n",
       "10       M3       17\n",
       "11       M3       12\n",
       "12       M3       14\n",
       "13       M3       15\n",
       "14       M3       12"
      ]
     },
     "execution_count": 21,
     "metadata": {},
     "output_type": "execute_result"
    }
   ],
   "source": [
    "abc=abc.reset_index()\n",
    "abc.rename({\"index\":\"Machines\",0:\"defects\"},axis=1,inplace=True)\n",
    "abc"
   ]
  },
  {
   "cell_type": "code",
   "execution_count": 22,
   "metadata": {},
   "outputs": [],
   "source": [
    "# setting up hypothesis :\n",
    "\n",
    "# H0 : Performance of M1 = Performance of M2 = Performance of M3\n",
    "# H1 : Performance of M1 != Performance of M2 != Performance of M3"
   ]
  },
  {
   "cell_type": "code",
   "execution_count": 23,
   "metadata": {},
   "outputs": [
    {
     "data": {
      "text/plain": [
       "3.8852938346523933"
      ]
     },
     "execution_count": 23,
     "metadata": {},
     "output_type": "execute_result"
    }
   ],
   "source": [
    "# Critical Value\n",
    "\n",
    "# dfn= 3-1\n",
    "# dfd=(5-1)+(5-1)+(5-1)\n",
    "import scipy.stats as stats\n",
    "\n",
    "cv=stats.f.ppf(1-0.05, dfn=2, dfd= 12)\n",
    "cv"
   ]
  },
  {
   "cell_type": "code",
   "execution_count": 24,
   "metadata": {},
   "outputs": [],
   "source": [
    "import statsmodels.api as sms\n",
    "import statsmodels.formula.api as statsmodels\n",
    "from statsmodels.formula.api import ols"
   ]
  },
  {
   "cell_type": "code",
   "execution_count": 25,
   "metadata": {},
   "outputs": [],
   "source": [
    "# Fitting annova model using OLS\n",
    "\n",
    "model = ols(\"defects~Machines\",data=abc).fit()"
   ]
  },
  {
   "cell_type": "code",
   "execution_count": 26,
   "metadata": {},
   "outputs": [
    {
     "name": "stdout",
     "output_type": "stream",
     "text": [
      "            df  sum_sq    mean_sq         F    PR(>F)\n",
      "Machines   2.0    68.8  34.400000  7.532847  0.007596\n",
      "Residual  12.0    54.8   4.566667       NaN       NaN\n"
     ]
    }
   ],
   "source": [
    "print(sms.stats.anova_lm(model))"
   ]
  },
  {
   "cell_type": "code",
   "execution_count": null,
   "metadata": {},
   "outputs": [],
   "source": [
    "# Since the F stats in more than the F ctitical value (3.88) and hence it is clear that at leaset one machine performance is different. hence null hyp. is rejected.\n",
    "\n",
    "# Since p value is found out to be 0.007596 which is way less than 0.05 (alpha) amd since we reject the H0 and accecpt the H1 and vice versa."
   ]
  },
  {
   "cell_type": "markdown",
   "metadata": {},
   "source": [
    "# Question 7"
   ]
  },
  {
   "cell_type": "code",
   "execution_count": 40,
   "metadata": {},
   "outputs": [
    {
     "name": "stdout",
     "output_type": "stream",
     "text": [
      "Critical Value is :  1.7709333959867992\n"
     ]
    }
   ],
   "source": [
    "# Given :\n",
    "import numpy as np\n",
    "popmean = 200000\n",
    "n = 14  # from shape\n",
    "samples=[222600,268680,224400,240300,240000,231180,241020,225000,244500,243600,256200,274200,228000,220320]\n",
    "samplesd = np.std(samples)\n",
    "samplemean=np.mean(samples)\n",
    "\n",
    "# Step - 1 : Define null hyp.\n",
    "\n",
    "#           H0 : H color diamond is = Rs. 240,000 (continue with Musadilal Tibarumal)\n",
    "\n",
    "# Step - 2 : Define alternate hyp.\n",
    "#           H1 : H color diamond is < Rs. 240,000 (Replace Musadilal Tibarumal)\n",
    "\n",
    "# Step - 3 : One or two tail ?  : Its a one tail test\n",
    "\n",
    "# Step - 4 : identify the alpha \n",
    "#         alpha = 0.05\n",
    "            \n",
    "# Lest apply Ttest\n",
    "    \n",
    "# import library : \n",
    "import numpy as np\n",
    "import scipy.stats as stats\n",
    "\n",
    "# Finding CV\n",
    "\n",
    "cv = stats.t.isf(0.05,n-1)       # stats.norm.ppf/isf for +/-     # t stands for t table    # n-1 : degree of freedom\n",
    "print(\"Critical Value is : \",cv)"
   ]
  },
  {
   "cell_type": "code",
   "execution_count": 35,
   "metadata": {},
   "outputs": [
    {
     "data": {
      "text/plain": [
       "9.244930704530205"
      ]
     },
     "execution_count": 35,
     "metadata": {},
     "output_type": "execute_result"
    }
   ],
   "source": [
    "\n",
    "tstats = (samplemean-popmean)/(samplesd/np.sqrt(n))\n",
    "tstats"
   ]
  },
  {
   "cell_type": "code",
   "execution_count": 36,
   "metadata": {},
   "outputs": [
    {
     "data": {
      "text/plain": [
       "True"
      ]
     },
     "execution_count": 36,
     "metadata": {},
     "output_type": "execute_result"
    }
   ],
   "source": [
    "tstats>cv"
   ]
  },
  {
   "cell_type": "code",
   "execution_count": 44,
   "metadata": {},
   "outputs": [
    {
     "name": "stdout",
     "output_type": "stream",
     "text": [
      "8.908638137505921\n",
      "6.757682480947266e-07\n"
     ]
    }
   ],
   "source": [
    "# Through P value \n",
    "\n",
    "# one sample T test\n",
    "\n",
    "tstats,pvalue=stats.ttest_1samp(samples,200000)   # (data, population mean)\n",
    "\n",
    "print(tstats)\n",
    "print(pvalue)\n"
   ]
  },
  {
   "cell_type": "markdown",
   "metadata": {},
   "source": [
    "### Conclusion :     Tstats is more than cv also p-value is less than 0.05\n",
    "\n",
    "  ###  Hence we reject null hyp. \n",
    "\n"
   ]
  },
  {
   "cell_type": "code",
   "execution_count": 45,
   "metadata": {},
   "outputs": [],
   "source": [
    "# 1 A random sample of size 125 is collected and the following is determined, the sample mean is 521, sample standard deviation is 28. Determine a confidence interval of 95%.\n"
   ]
  },
  {
   "cell_type": "code",
   "execution_count": 46,
   "metadata": {},
   "outputs": [
    {
     "name": "stdout",
     "output_type": "stream",
     "text": [
      "Critical Value is :  1.6572349701441826\n"
     ]
    }
   ],
   "source": [
    "n = 125\n",
    "samplesd = 28\n",
    "samplemean= 521\n",
    "cv = stats.t.isf(0.05,n-1)       # stats.norm.ppf/isf for +/-     # t stands for t table    # n-1 : degree of freedom\n",
    "print(\"Critical Value is : \",cv)"
   ]
  },
  {
   "cell_type": "markdown",
   "metadata": {},
   "source": [
    "# Question 5"
   ]
  },
  {
   "cell_type": "code",
   "execution_count": 65,
   "metadata": {},
   "outputs": [],
   "source": [
    "# Step - 1 : Define null hyp.\n",
    "\n",
    "#           H0 : There is no discrimination\n",
    "\n",
    "# Step - 2 : Define alternate hyp.\n",
    "#           H1 : There is significant discrimination"
   ]
  },
  {
   "cell_type": "code",
   "execution_count": 57,
   "metadata": {},
   "outputs": [],
   "source": [
    "count1=np.array([[288,672],[36,204]])"
   ]
  },
  {
   "cell_type": "code",
   "execution_count": 61,
   "metadata": {},
   "outputs": [],
   "source": [
    "chi_sq_stat,pvalue,deg_freedom,exp_freq = stats.chi2_contingency(count1)"
   ]
  },
  {
   "cell_type": "code",
   "execution_count": 62,
   "metadata": {},
   "outputs": [
    {
     "data": {
      "text/plain": [
       "4.2174659535543936e-06"
      ]
     },
     "execution_count": 62,
     "metadata": {},
     "output_type": "execute_result"
    }
   ],
   "source": [
    "pvalue"
   ]
  },
  {
   "cell_type": "code",
   "execution_count": 63,
   "metadata": {},
   "outputs": [
    {
     "data": {
      "text/plain": [
       "21.163379418231017"
      ]
     },
     "execution_count": 63,
     "metadata": {},
     "output_type": "execute_result"
    }
   ],
   "source": [
    "chi_sq_stat"
   ]
  },
  {
   "cell_type": "code",
   "execution_count": 66,
   "metadata": {},
   "outputs": [],
   "source": [
    "### Conclusion : p-value is less than 0.05\n",
    "\n",
    "  ###  Hence we reject null hyp. \n",
    "\n"
   ]
  },
  {
   "cell_type": "code",
   "execution_count": null,
   "metadata": {},
   "outputs": [],
   "source": []
  },
  {
   "cell_type": "code",
   "execution_count": null,
   "metadata": {},
   "outputs": [],
   "source": []
  }
 ],
 "metadata": {
  "kernelspec": {
   "display_name": "Python 3",
   "language": "python",
   "name": "python3"
  },
  "language_info": {
   "codemirror_mode": {
    "name": "ipython",
    "version": 3
   },
   "file_extension": ".py",
   "mimetype": "text/x-python",
   "name": "python",
   "nbconvert_exporter": "python",
   "pygments_lexer": "ipython3",
   "version": "3.7.3"
  }
 },
 "nbformat": 4,
 "nbformat_minor": 4
}
