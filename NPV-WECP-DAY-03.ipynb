{
 "cells": [
  {
   "cell_type": "markdown",
   "metadata": {},
   "source": [
    "# Questions - 01"
   ]
  },
  {
   "cell_type": "code",
   "execution_count": 1,
   "metadata": {},
   "outputs": [
    {
     "name": "stdout",
     "output_type": "stream",
     "text": [
      "  EMP_ID SALARY_YEAR1 SALARY_YEAR2 SALARY_YEAR3 SALARY_YEAR4\n",
      "0   2101         1000         2000         3000         4000\n",
      "1   2102         2000         4000          NaN          NaN\n",
      "2   2103         3000         6000        12000        15000\n",
      "3   2104         4000         8000        16000        30000\n",
      "4   2106          NaN          NaN         6000         8000\n"
     ]
    }
   ],
   "source": [
    "# Calling libraries \n",
    "\n",
    "import pandas as pd\n",
    "\n",
    "# Creating an dataframe for  DATA01 & DATA02 as shown above:-\n",
    "\n",
    "DATA01 = pd.DataFrame({'EMP_ID': ['2101', '2102', '2103', '2104'],\n",
    "                     'SALARY_YEAR1': ['1000', '2000', '3000', '4000'],\n",
    "                     'SALARY_YEAR2': ['2000', '4000', '6000', '8000']})\n",
    "   \n",
    "DATA02 = pd.DataFrame({'EMP_ID': ['2101', '2106', '2103', '2104'],\n",
    "                          'SALARY_YEAR3': ['3000', '6000', '12000', '16000'],\n",
    "                          'SALARY_YEAR4': ['4000', '8000', '15000', '30000']})\n",
    "                          \n",
    "# Write a code Merge the two dataframes and name or assign it to 'DATA'.\n",
    "\n",
    "DATA = pd.merge(DATA01,DATA02,how='outer',on='EMP_ID')\n",
    "\n",
    "# Write a code to print the dataframe.\n",
    "\n",
    "print(DATA)"
   ]
  },
  {
   "cell_type": "markdown",
   "metadata": {},
   "source": [
    "# Question - 02"
   ]
  },
  {
   "cell_type": "code",
   "execution_count": 2,
   "metadata": {},
   "outputs": [
    {
     "name": "stdout",
     "output_type": "stream",
     "text": [
      "     SALARY_YEAR1 SALARY_YEAR2 SALARY_YEAR3 SALARY_YEAR4\n",
      "2101         1000         2000         3000         4000\n",
      "2103         3000         6000        12000        15000\n",
      "2104         4000         8000        16000        30000\n"
     ]
    }
   ],
   "source": [
    "# Calling libraries \n",
    "\n",
    "import pandas as pd\n",
    "\n",
    "# Creating an dataframe for  DATA01 & DATA02 as shown above:-\n",
    "\n",
    "DATA01 = pd.DataFrame({'SALARY_YEAR1': ['1000', '2000', '3000', '4000'],\n",
    "                     'SALARY_YEAR2': ['2000', '4000', '6000', '8000']},\n",
    "                    index= ['2101', '2102', '2103', '2104'])\n",
    "   \n",
    "DATA02 = pd.DataFrame({'SALARY_YEAR3': ['3000', '6000', '12000', '16000'],\n",
    "                          'SALARY_YEAR4': ['4000', '8000', '15000', '30000']},\n",
    "                      index= ['2101', '2106', '2103', '2104'])\n",
    "                      \n",
    "# Write a code to inner join the the two dataframes and assign/name it as DATA.\n",
    "\n",
    "DATA = DATA01.join(DATA02,how ='inner')\n",
    "\n",
    "\n",
    "# Write a code to print the dataframe.\n",
    "\n",
    "print(DATA)"
   ]
  },
  {
   "cell_type": "markdown",
   "metadata": {},
   "source": [
    "# Question - 03"
   ]
  },
  {
   "cell_type": "code",
   "execution_count": 3,
   "metadata": {},
   "outputs": [
    {
     "name": "stdout",
     "output_type": "stream",
     "text": [
      "        Name Gender  age coach_no  Class  Ticket_no  Fare\n",
      "0   Karthika      F   21      A01      2        111  1000\n",
      "1   Abhishek      M   25      A03      2        112  1000\n",
      "2      Edwin      M   29      A03      2        113  1000\n",
      "3       Alex      M   26      A05      1        114  2000\n",
      "4    Deepika      F   23      A01      2        115  1000\n",
      "5      Vinay      M   26      A05      1        116  2000\n",
      "6      Vimal      M   24      A03      2        117  1000\n",
      "7     Archit      M   28      A05      1        118  2000\n",
      "8     Harsha      M   27      A06      1        119  2000\n",
      "9     Varsha      F   22      A01      2        120  1000\n",
      "10   Deepthi      F   22      A02      3        121   500\n",
      "11   Alekhya      F   23      A02      3        122   500\n"
     ]
    }
   ],
   "source": [
    "# Calling libraries\n",
    "\n",
    "import pandas as pd\n",
    "\n",
    "# Creating an dataframe for  DATA01 as shown above:-\n",
    "\n",
    "DATA01 = pd.DataFrame({'Name':['Karthika', 'Abhishek', 'Edwin', 'Alex', 'Deepika','Vinay','Vimal','Archit','Harsha','Varsha','Deepthi','Alekhya'],\n",
    "                     'sex':['F', 'M', 'M', 'M', 'F','M','M','M','M','F','F','F'],'age':[21,25,29,26,23,26,24,28,27,22,22,23],\n",
    "                     'coach_no':['A01','A03','A03','A05','A01','A05','A03','A05','A06','A01','A02','A02'],\n",
    "                     'Class':[2,2,2,1,2,1,2,1,1,2,3,3],\n",
    "                     'Ticket_no':[111,112,113,114,115,116,117,118,119,120,121,122],\n",
    "                     'Fare':[1000,1000,1000,2000,1000,2000,1000,2000,2000,1000,500,500]})\n",
    "\n",
    "# Write a code to Rename the column from sex to Gender and assign it to the new dataframe named as DATA02.\n",
    "\n",
    "DATA02=DATA01.rename(columns= {'sex':'Gender'})\n",
    "\n",
    "# Write a code to print the dataframe.\n",
    "\n",
    "print(DATA02)\n"
   ]
  },
  {
   "cell_type": "markdown",
   "metadata": {},
   "source": [
    "# Question - 04"
   ]
  },
  {
   "cell_type": "code",
   "execution_count": 4,
   "metadata": {},
   "outputs": [
    {
     "name": "stdout",
     "output_type": "stream",
     "text": [
      "        Name sex  age coach_no  Class  Fare\n",
      "0   Karthika   F   21      A01      2  1000\n",
      "1   Abhishek   M   25      A03      2  1000\n",
      "2      Edwin   M   29      A03      2  1000\n",
      "3       Alex   M   26      A05      1  2000\n",
      "4    Deepika   F   23      A01      2  1000\n",
      "5      Vinay   M   26      A05      1  2000\n",
      "6      Vimal   M   24      A03      2  1000\n",
      "7     Archit   M   28      A05      1  2000\n",
      "8     Harsha   M   27      A06      1  2000\n",
      "9     Varsha   F   22      A01      2  1000\n",
      "10   Deepthi   F   22      A02      3   500\n",
      "11   Alekhya   F   23      A02      3   500\n"
     ]
    }
   ],
   "source": [
    "# Calling libraries\n",
    "\n",
    "import pandas as pd\n",
    "\n",
    "# Creating an dataframe for  DATA01 as shown above:-\n",
    "\n",
    "DATA01 = pd.DataFrame({'Name':['Karthika', 'Abhishek', 'Edwin', 'Alex', 'Deepika','Vinay','Vimal','Archit','Harsha','Varsha','Deepthi','Alekhya'],\n",
    "                     'sex':['F', 'M', 'M', 'M', 'F','M','M','M','M','F','F','F'],'age':[21,25,29,26,23,26,24,28,27,22,22,23],\n",
    "                     'coach_no':['A01','A03','A03','A05','A01','A05','A03','A05','A06','A01','A02','A02'],\n",
    "                     'Class':[2,2,2,1,2,1,2,1,1,2,3,3],\n",
    "                     'Ticket_no':[111,112,113,114,115,116,117,118,119,120,121,122],\n",
    "                     'Fare':[1000,1000,1000,2000,1000,2000,1000,2000,2000,1000,500,500]})\n",
    "\n",
    "# Write a code to Drop the column from Ticket_no and assign it to the new dataframe named as DATA02.\n",
    "\n",
    "DATA02=DATA01.drop('Ticket_no',axis=1) \n",
    "\n",
    "# Write a code to print the dataframe.\n",
    "\n",
    "print(DATA02)"
   ]
  },
  {
   "cell_type": "markdown",
   "metadata": {},
   "source": [
    "# Question - 05"
   ]
  },
  {
   "cell_type": "code",
   "execution_count": 5,
   "metadata": {},
   "outputs": [
    {
     "name": "stdout",
     "output_type": "stream",
     "text": [
      "       Name sex  age coach_no  Class  Ticket_no  Fare\n",
      "5     Vinay   M   26      A05      1        116  2000\n",
      "6     Vimal   M   24      A03      2        117  1000\n",
      "7    Archit   M   28      A05      1        118  2000\n",
      "8    Harsha   M   27      A06      1        119  2000\n",
      "9    Varsha   F   22      A01      2        120  1000\n",
      "10  Deepthi   F   22      A02      3        121   500\n",
      "11  Alekhya   F   23      A02      3        122   500\n"
     ]
    }
   ],
   "source": [
    "# Calling libraries\n",
    "\n",
    "import pandas as pd\n",
    "\n",
    "# Creating an dataframe for  DATA01 as shown above:-\n",
    "\n",
    "DATA01 = pd.DataFrame({'Name':['Kartika', 'Abhishek', 'Edwin', 'Alex', 'Deepika','Vinay','Vimal','Archit','Harsha','Varsha','Deepthi','Alekhya'],\n",
    "                     'sex':['F', 'M', 'M', 'M', 'F','M','M','M','M','F','F','F'],'age':[21,25,29,26,23,26,24,28,27,22,22,23],\n",
    "                     'coach_no':['A01','A03','A03','A05','A01','A05','A03','A05','A06','A01','A02','A02'],\n",
    "                     'Class':[2,2,2,1,2,1,2,1,1,2,3,3],\n",
    "                     'Ticket_no':[111,112,113,114,115,116,117,118,119,120,121,122],\n",
    "                     'Fare':[1000,1000,1000,2000,1000,2000,1000,2000,2000,1000,500,500]})\n",
    "\n",
    "#Write a code to Drop the first five rows from DATA01 and assign it to the new dataframe named as DATA02.\n",
    "\n",
    "DATA02=DATA01.drop(DATA01.index[0:5])\n",
    "\n",
    "# Write a code to print the dataframe.\n",
    "\n",
    "print(DATA02)\n"
   ]
  },
  {
   "cell_type": "markdown",
   "metadata": {},
   "source": [
    "# Question - 06"
   ]
  },
  {
   "cell_type": "code",
   "execution_count": 6,
   "metadata": {},
   "outputs": [
    {
     "name": "stdout",
     "output_type": "stream",
     "text": [
      "        Name sex coach_no  Class  Ticket_no  Fare\n",
      "0    Kartika   F      A01      2        111  1000\n",
      "1   Abhishek   M      A03      2        112  1000\n",
      "2      Edwin   M      A03      2        113  1000\n",
      "3       Alex   M      A05      1        114  2000\n",
      "4    Deepika   F      A01      2        115  1000\n",
      "5      Vinay   M      A05      1        116  2000\n",
      "6      Vimal   M      A03      2        117  1000\n",
      "7     Archit   M      A05      1        118  2000\n",
      "8     Harsha   M      A06      1        119  2000\n",
      "9     Varsha   F      A01      2        120  1000\n",
      "10   Deepthi   F      A02      3        121   500\n",
      "11   Alekhya   F      A02      3        122   500\n"
     ]
    }
   ],
   "source": [
    "# Calling libraries\n",
    "\n",
    "import pandas as pd\n",
    "\n",
    "# Creating an dataframe for  DATA01 as shown above:-\n",
    "\n",
    "DATA01 = pd.DataFrame({'Name':['Kartika', 'Abhishek', 'Edwin', 'Alex', 'Deepika','Vinay','Vimal','Archit','Harsha','Varsha','Deepthi','Alekhya'],\n",
    "                     'sex':['F', 'M', 'M', 'M', 'F','M','M','M','M','F','F','F'],'age':[21,25,29,26,23,26,24,28,27,22,22,23],\n",
    "                     'coach_no':['A01','A03','A03','A05','A01','A05','A03','A05','A06','A01','A02','A02'],\n",
    "                     'Class':[2,2,2,1,2,1,2,1,1,2,3,3],\n",
    "                     'Ticket_no':[111,112,113,114,115,116,117,118,119,120,121,122],\n",
    "                     'Fare':[1000,1000,1000,2000,1000,2000,1000,2000,2000,1000,500,500]})\n",
    "\n",
    "# Write a code to Drop the third column age from DATA01 and assign it to the new dataframe named as DATA02.\n",
    "\n",
    "DATA02=DATA01.drop(DATA01.columns[2],axis=1)\n",
    "\n",
    "# Write a code to print the dataframe.\n",
    "\n",
    "print(DATA02)\n"
   ]
  },
  {
   "cell_type": "markdown",
   "metadata": {},
   "source": [
    "# Question  - 07"
   ]
  },
  {
   "cell_type": "code",
   "execution_count": 7,
   "metadata": {},
   "outputs": [
    {
     "name": "stdout",
     "output_type": "stream",
     "text": [
      "True     7\n",
      "False    5\n",
      "dtype: int64\n"
     ]
    }
   ],
   "source": [
    "# Calling libraries\n",
    "\n",
    "import pandas as pd\n",
    "\n",
    "# Creating an dataframe for  DATA01 as shown above:-\n",
    "\n",
    "DATA01 = pd.DataFrame({'Name':['Kartika', 'Abhishek', 'Edwin', 'Alex', 'Deepika','Vinay','Vimal','Archit','Harsha','Varsha','Deepthi','Alekhya'],\n",
    "                     'sex':['F', 'M', 'M', 'M', 'F','M','M','M','M','F','F','F'],'age':[21,25,29,26,23,26,24,28,27,22,22,23],\n",
    "                     'coach_no':['A01','A03','A03','A05','A01','A05','A03','A05','A06','A01','A02','A02'],\n",
    "                     'Class':[2,2,2,1,2,1,2,1,1,2,3,3],\n",
    "                     'Ticket_no':[111,112,113,114,115,116,117,118,119,120,121,122],\n",
    "                     'Fare':[1000,1000,1000,2000,1000,2000,1000,2000,2000,1000,500,500]})\n",
    "\n",
    "# Write a code to identify duplicates in coach_no .\n",
    "\n",
    "DATA02 = DATA01.duplicated(['coach_no'])\n",
    "\n",
    "# Write a code to print the count of duplicates in boolean format.\n",
    "\n",
    "print(DATA02.value_counts())"
   ]
  },
  {
   "cell_type": "markdown",
   "metadata": {},
   "source": [
    "# Question - 08"
   ]
  },
  {
   "cell_type": "code",
   "execution_count": 8,
   "metadata": {},
   "outputs": [
    {
     "name": "stdout",
     "output_type": "stream",
     "text": [
      "        Name sex  age coach_no  Class  Ticket_no  Fare       classes\n",
      "0    Kartika   F   21      A01      2        111  1000       sleeper\n",
      "1   Abhishek   M   25      A03      2        112  1000       sleeper\n",
      "2      Edwin   M   29      A03      2        113  1000       sleeper\n",
      "3       Alex   M   26      A05      1        114  2000    AC-sleeper\n",
      "4    Deepika   F   23      A01      2        115  1000       sleeper\n",
      "5      Vinay   M   26      A05      1        116  2000    AC-sleeper\n",
      "6      Vimal   M   24      A03      2        117  1000       sleeper\n",
      "7     Archit   M   28      A05      1        118  2000    AC-sleeper\n",
      "8     Harsha   M   27      A06      1        119  2000    AC-sleeper\n",
      "9     Varsha   F   22      A01      2        120  1000       sleeper\n",
      "10   Deepthi   F   22      A02      3        121   500  semi-sleeper\n",
      "11   Alekhya   F   23      A02      3        122   500  semi-sleeper\n"
     ]
    }
   ],
   "source": [
    "# Calling libraries\n",
    "\n",
    "import pandas as pd\n",
    "\n",
    "# Creating an dataframe for  DATA01 as shown above:-\n",
    "\n",
    "DATA01 = pd.DataFrame({'Name':['Kartika', 'Abhishek', 'Edwin', 'Alex', 'Deepika','Vinay','Vimal','Archit','Harsha','Varsha','Deepthi','Alekhya'],\n",
    "                     'sex':['F', 'M', 'M', 'M', 'F','M','M','M','M','F','F','F'],'age':[21,25,29,26,23,26,24,28,27,22,22,23],\n",
    "                     'coach_no':['A01','A03','A03','A05','A01','A05','A03','A05','A06','A01','A02','A02'],\n",
    "                     'Class':[2,2,2,1,2,1,2,1,1,2,3,3],\n",
    "                     'Ticket_no':[111,112,113,114,115,116,117,118,119,120,121,122],\n",
    "                     'Fare':[1000,1000,1000,2000,1000,2000,1000,2000,2000,1000,500,500]})\n",
    "\n",
    "\n",
    "# Write a code to create an dictionary keys as 3 ,2 and 1 values : semi-sleeper for 3 ,sleeper for 2 , AC-sleeper  for 1 name the dictionary as classes.\n",
    "\n",
    "classes={3 : 'semi-sleeper',2 : 'sleeper' , 1 : 'AC-sleeper'}\n",
    "\n",
    "# Write a code to create a column as classes and map the semi-sleeper ,sleeper and  AC-sleeper in that respective class for the given dataset.\n",
    "\n",
    "DATA01['classes']=DATA01['Class'].map(classes)\n",
    "\n",
    "# Write a code to print the dataframe.\n",
    "\n",
    "print(DATA01)"
   ]
  },
  {
   "cell_type": "markdown",
   "metadata": {},
   "source": [
    "# Question - 09"
   ]
  },
  {
   "cell_type": "code",
   "execution_count": 9,
   "metadata": {},
   "outputs": [
    {
     "name": "stdout",
     "output_type": "stream",
     "text": [
      "Class\n",
      "1    2000.0\n",
      "2    1000.0\n",
      "3     500.0\n",
      "Name: Fare, dtype: float64\n"
     ]
    }
   ],
   "source": [
    "# Calling libraries\n",
    "\n",
    "import pandas as pd\n",
    "\n",
    "# Creating an dataframe for  DATA01 as shown above:-\n",
    "\n",
    "DATA01 = pd.DataFrame({'Name':['Kartika', 'Abhishek', 'Edwin', 'Alex', 'Deepika','Vinay','Vimal','Archit','Harsha','Varsha','Deepthi','Alekhya'],\n",
    "                     'sex':['F', 'M', 'M', 'M', 'F','M','M','M','M','F','F','F'],'age':[21,25,29,26,23,26,24,28,27,22,22,23],\n",
    "                     'coach_no':['A01','A03','A03','A05','A01','A05','A03','A05','A06','A01','A02','A02'],\n",
    "                     'Class':[2,2,2,1,2,1,2,1,1,2,3,3],\n",
    "                     'Ticket_no':[111,112,113,114,115,116,117,118,119,120,121,122],\n",
    "                     'Fare':[1000,1000,1000,2000,1000,2000,1000,2000,2000,1000,500,500]})\n",
    "\n",
    "\n",
    "#  Write a code to print the average fare for all individual classes. [Hint :- use group by]\n",
    "\n",
    "print(DATA01.groupby('Class').mean()['Fare'])\n"
   ]
  },
  {
   "cell_type": "markdown",
   "metadata": {},
   "source": [
    "# Question - 10"
   ]
  },
  {
   "cell_type": "code",
   "execution_count": 10,
   "metadata": {},
   "outputs": [
    {
     "name": "stdout",
     "output_type": "stream",
     "text": [
      "Class      1     2     3\n",
      "sex                     \n",
      "F        NaN  22.0  22.5\n",
      "M      26.75  26.0   NaN\n"
     ]
    }
   ],
   "source": [
    "# Calling libraries\n",
    "\n",
    "import pandas as pd\n",
    "\n",
    "# Creating an dataframe for  DATA01 as shown above:-\n",
    "\n",
    "DATA01 = pd.DataFrame({'Name':['Kartika', 'Abhishek', 'Edwin', 'Alex', 'Deepika','Vinay','Vimal','Archit','Harsha','Varsha','Deepthi','Alekhya'],\n",
    "                     'sex':['F', 'M', 'M', 'M', 'F','M','M','M','M','F','F','F'],'age':[21,25,29,26,23,26,24,28,27,22,22,23],\n",
    "                     'coach_no':['A01','A03','A03','A05','A01','A05','A03','A05','A06','A01','A02','A02'],\n",
    "                     'Class':[2,2,2,1,2,1,2,1,1,2,3,3],\n",
    "                     'Ticket_no':[111,112,113,114,115,116,117,118,119,120,121,122],\n",
    "                     'Fare':[1000,1000,1000,2000,1000,2000,1000,2000,2000,1000,500,500]})\n",
    "\n",
    "\n",
    "# Write a code to print the average age of all genders as per there respective passenger class from the given dataset.[use - pivot_table]\n",
    "\n",
    "\n",
    "print(DATA01.pivot_table(index='sex',columns = 'Class',values='age', aggfunc='mean'))\n"
   ]
  },
  {
   "cell_type": "code",
   "execution_count": null,
   "metadata": {},
   "outputs": [],
   "source": []
  }
 ],
 "metadata": {
  "kernelspec": {
   "display_name": "Python 3",
   "language": "python",
   "name": "python3"
  },
  "language_info": {
   "codemirror_mode": {
    "name": "ipython",
    "version": 3
   },
   "file_extension": ".py",
   "mimetype": "text/x-python",
   "name": "python",
   "nbconvert_exporter": "python",
   "pygments_lexer": "ipython3",
   "version": "3.7.3"
  }
 },
 "nbformat": 4,
 "nbformat_minor": 2
}
