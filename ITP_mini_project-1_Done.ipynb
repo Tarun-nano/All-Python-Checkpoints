{
 "cells": [
  {
   "cell_type": "markdown",
   "metadata": {},
   "source": [
    "# <center>PGP Data Science Engineering</center>\n",
    "## <center>Introduction to Programming – Mini Project:</center>\n"
   ]
  },
  {
   "cell_type": "markdown",
   "metadata": {},
   "source": [
    "### Problem 1:\n",
    "\n",
    "1. Write a program to calculate area of shapes. Your program should be capable of calculating the area of a square, rectangle, triangle and a circle. The user should be presented with options to select the shape. Based on which shape is chosed by the user, the program should ask for the appropriate input and print the resulting area on the screen.\n",
    "\n",
    "When the program is run, the screen should display something like this:\n",
    "\n",
    "**Which shape would you like to calculate the area for? Please enter the option number-**<br>\n",
    "**1. Square**<br>\n",
    "**2. Rectangle**<br>\n",
    "**3. Triangle**<br>\n",
    "**4. Circle**<br>\n",
    "**Enter Option: _**\n",
    "\n",
    "Say the user enters the option 1.\n",
    "\n",
    "**Please enter the length of a side: _**\n",
    "\n",
    "If the user enters a value of 5. The output should be:\n",
    "\n",
    "**The area of the square is 25**\n",
    "\n",
    "This program should indicate that the input is invalid if the user enters a character instead of a number as input. For instance if the user enters a value of ‘a’ instead of 5 in the previous example the program should prompt:\n",
    "\n",
    "**Invalid input, please enter a number: _**\n"
   ]
  },
  {
   "cell_type": "code",
   "execution_count": null,
   "metadata": {},
   "outputs": [],
   "source": [
    "a=int(input(print(\"Which shape would you like to calculate the area for ? \\n Please enter your choice \\n 1. Square \\n 2. Rectangle \\n 3. Triangle \\n 4. Circle \\n Please enter your choice\")))\n",
    "if a==1:\n",
    "    x=float(input(print(\"enter the side in meter\")))\n",
    "    print(\"The area of square is : \",x*x)\n",
    "\n",
    "elif a==2:\n",
    "    x=float(input(print(\"enter the length in meter\")))\n",
    "    y=float(input(print(\"enter the breath in meter\")))\n",
    "    print(\"The area of rectangle is : \",x*y)\n",
    "\n",
    "elif a==3:\n",
    "    x=float(input(print(\"enter the first side in meter\")))\n",
    "    y=float(input(print(\"enter the second side in meter\")))\n",
    "    z=float(input(print(\"enter the third side in meter\")))\n",
    "    s1=(x+y+x)/2\n",
    "    s2=sqrt((s1-x)*(s1-y)*(s1-z))\n",
    "    print(\"The area of tringle is : \",s2)\n",
    "\n",
    "elif a==4:\n",
    "    x=float(input(print(\"enter the radius in meter\")))\n",
    "    print(\"The area of circle is : \",3.14*(x*x))\n",
    "    \n",
    "else:\n",
    "    print(\"wrong choice\")\n",
    "\n",
    "\n",
    "\n",
    "\n",
    "\n"
   ]
  },
  {
   "cell_type": "markdown",
   "metadata": {},
   "source": [
    "### Problem 2:\n",
    "\n",
    "Create and encrypter in python based on the ceaser cipher. It is a substitution cipher where each character of the original text is shifted a certain number characters in the alphabet. Write a function that would require 2 arguments – the input text to be encrypted and a key. For eg: Given the input text ‘hello’ and the key 3, the resulting encryted text would be ‘khoor’. Here you can see that every character in the string hello is shifted by 3 characters. ‘h’ has shifted to ‘k’, ‘e’ has shifted to ‘h’ and so on. If a key of 5 were used, the resulting string would be ‘mjqqt’. This function should be capable of ignoring any characters which are not alphabets. Th2 character ‘z’ entered b\n",
    "y the user for a key of 3 would result in ‘c’.\n",
    "\n",
    "Usage:<br>\n",
    "**encrypt(‘hello world!’, 3)**<br>\n",
    "**‘khoor zruog!’**\n",
    "\n",
    "Similarly create decrypter which can decode the encryted text when provided the input text and key\n",
    "\n",
    "Usage:<br>\n",
    "**decrypt(‘khoor zruog!’, 3)**<br>\n",
    "**‘hello world!’**\n",
    "\n",
    "For the sake of simplicity you can assume that input solely consists of lowercase alphabets, spaces and punctuation symbols. Numbers in the input text would also be ignored similar to symbols."
   ]
  },
  {
   "cell_type": "code",
   "execution_count": 75,
   "metadata": {},
   "outputs": [],
   "source": [
    "def encrypt(x,y):\n",
    "    a=list(x)\n",
    "    for i in x:\n",
    "        if ord(i)>=65 and ord(i)<=122:\n",
    "            print(chr(ord(i)+y))\n",
    "        elif ord(i)<65 or ord(i)>122:\n",
    "            print(i)\n",
    "            "
   ]
  },
  {
   "cell_type": "code",
   "execution_count": 80,
   "metadata": {},
   "outputs": [
    {
     "name": "stdout",
     "output_type": "stream",
     "text": [
      "W\n",
      "d\n",
      "u\n",
      "x\n",
      "q\n",
      "!\n",
      " \n",
      "w\n",
      "|\n",
      "d\n",
      "j\n",
      "l\n"
     ]
    }
   ],
   "source": [
    "encrypt(\"Tarun! tyagi\",3)"
   ]
  },
  {
   "cell_type": "code",
   "execution_count": null,
   "metadata": {},
   "outputs": [],
   "source": []
  }
 ],
 "metadata": {
  "kernelspec": {
   "display_name": "Python 3",
   "language": "python",
   "name": "python3"
  },
  "language_info": {
   "codemirror_mode": {
    "name": "ipython",
    "version": 3
   },
   "file_extension": ".py",
   "mimetype": "text/x-python",
   "name": "python",
   "nbconvert_exporter": "python",
   "pygments_lexer": "ipython3",
   "version": "3.7.3"
  }
 },
 "nbformat": 4,
 "nbformat_minor": 2
}
