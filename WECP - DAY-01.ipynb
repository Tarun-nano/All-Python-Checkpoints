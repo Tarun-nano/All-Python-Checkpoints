{
 "cells": [
  {
   "cell_type": "markdown",
   "metadata": {},
   "source": [
    "# question - 01\n",
    "\n",
    "\n",
    "Create an empty array of 20 0's and replace the 6th object with the number 5.\n",
    "\n",
    "\n",
    "CODING/OUTPUT FORMAT:\n",
    "\n",
    "Step 1:- Create an empty array with 20 zeros\n",
    "\n",
    "Step 2:- Replace the sixth object with number 5\n",
    "\n",
    "Step 3:- Print the array"
   ]
  },
  {
   "cell_type": "code",
   "execution_count": 1,
   "metadata": {},
   "outputs": [
    {
     "name": "stdout",
     "output_type": "stream",
     "text": [
      "[0. 0. 0. 0. 0. 5. 0. 0. 0. 0. 0. 0. 0. 0. 0. 0. 0. 0. 0. 0.]\n"
     ]
    }
   ],
   "source": [
    "#Calling Libraries.\n",
    "\n",
    "import numpy as np\n",
    "\n",
    "\n",
    "#Write a code to retrive the empty array with 20 zeros.\n",
    "\n",
    "arr=np.zeros(20)\n",
    "\n",
    "\n",
    "#write a code replace the sixth object with number 5.\n",
    "\n",
    "arr[5]=5\n",
    "\n",
    "\n",
    "# write a code to print the array.\n",
    "\n",
    "print(arr)\n"
   ]
  },
  {
   "cell_type": "markdown",
   "metadata": {},
   "source": [
    "# question - 2\n",
    "\n",
    "\n",
    "Create an array containing 30 1's and Replace all the one's with 100.\n",
    "\n",
    "\n",
    "CODING/OUTPUT FORMAT:\n",
    "\n",
    "Step 1:- Create an empty array with 30 ones.\n",
    "\n",
    "Step 2:- Replace all the numbers in the array with number 100.\n",
    "\n",
    "Step 3:- Print the array."
   ]
  },
  {
   "cell_type": "code",
   "execution_count": 2,
   "metadata": {},
   "outputs": [
    {
     "name": "stdout",
     "output_type": "stream",
     "text": [
      "[100. 100. 100. 100. 100. 100. 100. 100. 100. 100. 100. 100. 100. 100.\n",
      " 100. 100. 100. 100. 100. 100. 100. 100. 100. 100. 100. 100. 100. 100.\n",
      " 100. 100.]\n"
     ]
    }
   ],
   "source": [
    "# calling library.\n",
    "\n",
    "import numpy as np\n",
    "\n",
    "# Write a code to retrive the empty array with 30 one's.\n",
    "\n",
    "arr = np.ones(30)\n",
    "\n",
    "# Write a code replace all the values in the aray with number 100 .\n",
    "\n",
    "arr[:]=100\n",
    "\n",
    "#write a code to print the array.\n",
    "\n",
    "print(arr)"
   ]
  },
  {
   "cell_type": "markdown",
   "metadata": {},
   "source": [
    "# question - 3\n",
    "\n",
    "Create an array of integers starting from 21 until 31 (both included) and name it as array1 and create an array of\n",
    "integers starting from 11 until 21 (both included) and name it as array2. Calculate the difference between array1 and\n",
    "array2.\n",
    "\n",
    "\n",
    "\n",
    "\n",
    "CODING/OUTPUT FORMAT:\n",
    "\n",
    "\n",
    "\n",
    "Step 1:- Create an array of integers begins with 21 upto 31 and name/assign it to array1 .\n",
    "\n",
    "Step 2:- Create an array of integers begins with 11 upto 21 and name/assign it to array2 .\n",
    "\n",
    "Step 3:- Calculate the difference between array1 and array2.\n",
    "\n",
    "Step 4:- Print the array."
   ]
  },
  {
   "cell_type": "code",
   "execution_count": 3,
   "metadata": {},
   "outputs": [
    {
     "name": "stdout",
     "output_type": "stream",
     "text": [
      "[10 10 10 10 10 10 10 10 10 10 10]\n"
     ]
    }
   ],
   "source": [
    "#calling library\n",
    "import numpy as np\n",
    "\n",
    "\n",
    "\n",
    "# Write a code to create an array of integers starts with 21 and upto 31 and name/assign it to array1.\n",
    "\n",
    "\n",
    "array1= np.arange(21,32)\n",
    "\n",
    "\n",
    "# Write a code to create an array of integers starts with 11 and upto 22 and name/assign it to array2.\n",
    "\n",
    "array2= np.arange(11,22)\n",
    "\n",
    "# Write a code to retrive the difference between array1 and array2 and assign/name it to array3.\n",
    "\n",
    "array3=array1-array2\n",
    "\n",
    "#Write a code to print the array3.\n",
    "\n",
    "print(array3)\n"
   ]
  },
  {
   "cell_type": "markdown",
   "metadata": {},
   "source": [
    "# question - 4\n",
    "\n",
    "Create an array of all even integers from 2 to 10 (both included) and name/assign it to a1 and create an array of all even integers from 22 to 30 (both included) and name/assign it to a2 ,Use the 2 arrays as rows(first row as a1, second row as a2) and create a matrix\n",
    "[ Hint - Use stack function from numpy ].\n",
    "\n",
    "\n",
    "CODING/OUTPUT FORMAT:\n",
    "\n",
    "\n",
    "\n",
    "Step 1:- Create an array of all even integers begins with 2 upto 10 and name/assign it to a1 .\n",
    "\n",
    "Step 2:- Create an array of all even integers begins with 22 upto 30 and name/assign it to a2 .\n",
    "\n",
    "Step 3:- Create a matrix from the above two arrays rows and name/assign it to a3 .[use stack function from numpy]\n",
    "\n",
    "Step 4:- Print the matrix a3.\n",
    "\n"
   ]
  },
  {
   "cell_type": "code",
   "execution_count": 4,
   "metadata": {},
   "outputs": [
    {
     "name": "stdout",
     "output_type": "stream",
     "text": [
      "[[ 2  4  6  8 10]\n",
      " [22 24 26 28 30]]\n"
     ]
    }
   ],
   "source": [
    "#calling library\n",
    "import numpy as np\n",
    "\n",
    "#write a code to Create an array of all even integers begins with 2 upto 10 and name/assign it to a1.\n",
    "\n",
    "a1=np.arange(2,11,2)\n",
    "\n",
    "#write a code to Create an array of all even integers begins with 22 upto 30 and name/assign it to a2 .\n",
    "a2 = np.arange(22,31,2)\n",
    "\n",
    "#write a code to Create a matrix from the above two arrays rows and name/assign it to a3 .[use stack function from numpy]\n",
    "a3=np.stack((a1,a2))\n",
    "\n",
    "#write a code to the print the matrix a3.\n",
    "\n",
    "print(a3)"
   ]
  },
  {
   "cell_type": "markdown",
   "metadata": {},
   "source": [
    "# question - 5\n",
    "﻿Create a 5x6 matrix with values ranging from 0 to 29 (both included) and retrieve the value intersecting at 2nd row and 3rd column.\n",
    "\n",
    "\n",
    "CODING/OUTPUT FORMAT:\n",
    "\n",
    "\n",
    "\n",
    "Step 1:- Create an 5x6 matrix the values ranging from 0 to 29 (both included).\n",
    "\n",
    "Step 2:- Print the value intersecting at 2nd row and 3rd column."
   ]
  },
  {
   "cell_type": "code",
   "execution_count": 5,
   "metadata": {},
   "outputs": [
    {
     "name": "stdout",
     "output_type": "stream",
     "text": [
      "8\n"
     ]
    }
   ],
   "source": [
    "#calling libraries\n",
    "import numpy as np\n",
    "\n",
    "# Write a code to Create an 5x6 matrix the values ranging from 0 to 29 .[use arange,reshape]\n",
    "\n",
    "arr_matrix=np.arange(30).reshape(5,6)\n",
    "\n",
    "# Write a code to print the value that intersecting the 2nd row and 3rd column.\n",
    "\n",
    "print(arr_matrix[1,2])"
   ]
  },
  {
   "cell_type": "markdown",
   "metadata": {},
   "source": [
    "# QUESTION - 6\n",
    "\n",
    "﻿Create an identity matrix of shape 5x5 and replace the 0's with the value 21\n",
    "\n",
    "\n",
    "CODING/OUTPUT FORMAT:\n",
    "\n",
    "\n",
    "\n",
    "Step 1:- Create an 5x5 identity matrix .\n",
    "\n",
    "Step 2:- Replace all the 0's with the value 21.\n",
    "\n",
    "Step 3 : Print the matrix."
   ]
  },
  {
   "cell_type": "code",
   "execution_count": 6,
   "metadata": {},
   "outputs": [
    {
     "name": "stdout",
     "output_type": "stream",
     "text": [
      "[[ 1. 21. 21. 21. 21.]\n",
      " [21.  1. 21. 21. 21.]\n",
      " [21. 21.  1. 21. 21.]\n",
      " [21. 21. 21.  1. 21.]\n",
      " [21. 21. 21. 21.  1.]]\n"
     ]
    }
   ],
   "source": [
    "#calling libraries\n",
    "\n",
    "import numpy as np\n",
    "\n",
    "# Write a code to Create an 5x5 identity matrix .[use eye/identity from numpy library]\n",
    "\n",
    "arr=np.eye(5)\n",
    "\n",
    "# Write a code to Create to replace all the 0's with the value 21.\n",
    "\n",
    "arr[arr == 0] = 21\n",
    "\n",
    "# Write a code to print the matrix.\n",
    "\n",
    "print(arr)\n"
   ]
  },
  {
   "cell_type": "markdown",
   "metadata": {},
   "source": [
    "# QUESTION - 7\n",
    "Create an array of 30 linearly spaced points between 0 to 100 (both included):\n",
    "\n",
    "\n",
    "CODING/OUTPUT FORMAT:\n",
    "\n",
    "\n",
    "\n",
    "Step 1:- Create an array with an 30 linearly spaced points between 0 and 100. Hint:[Use linspace from Numpy Library]\n",
    "\n",
    "Step 2:- print the array."
   ]
  },
  {
   "cell_type": "code",
   "execution_count": 7,
   "metadata": {},
   "outputs": [
    {
     "name": "stdout",
     "output_type": "stream",
     "text": [
      "[  0.           3.44827586   6.89655172  10.34482759  13.79310345\n",
      "  17.24137931  20.68965517  24.13793103  27.5862069   31.03448276\n",
      "  34.48275862  37.93103448  41.37931034  44.82758621  48.27586207\n",
      "  51.72413793  55.17241379  58.62068966  62.06896552  65.51724138\n",
      "  68.96551724  72.4137931   75.86206897  79.31034483  82.75862069\n",
      "  86.20689655  89.65517241  93.10344828  96.55172414 100.        ]\n"
     ]
    }
   ],
   "source": [
    "#calling library\n",
    "\n",
    "import numpy as np\n",
    "\n",
    "# Write a code to create an array ranging from 0 to 100 with 30 linearly spaced point [USE linspace from Numpy Library]\n",
    "\n",
    "arr=np.linspace(0,100,30)\n",
    "\n",
    "# Write a code to print the array.\n",
    "\n",
    "print(arr)"
   ]
  },
  {
   "cell_type": "markdown",
   "metadata": {},
   "source": [
    "# QUESTIONS - 8\n",
    "\n",
    "Using the below given Matrix, generate the output for the below questions.\n",
    "\n",
    "\n",
    "array([[ 1, 2, 3, 4, 5, 6, 7, 8, 9, 10],\n",
    "\n",
    " [ 11, 12, 13, 14, 15, 16, 17, 18, 19, 20],\n",
    "\n",
    " [ 21, 22, 23, 24, 25, 26, 27, 28, 29, 30],\n",
    "\n",
    " [ 31, 32, 33, 34, 35, 36, 37, 38, 39, 40],\n",
    "\n",
    " [ 41, 42, 43, 44, 45, 46, 47, 48, 49, 50],\n",
    "\n",
    " [ 51, 52, 53, 54, 55, 56, 57, 58, 59, 60],\n",
    "\n",
    " [ 61, 62, 63, 64, 65, 66, 67, 68, 69, 70],\n",
    "\n",
    " [ 71, 72, 73, 74, 75, 76, 77, 78, 79, 80],\n",
    "\n",
    " [ 81, 82, 83, 84, 85, 86, 87, 88, 89, 90],\n",
    "\n",
    " [ 91, 92, 93, 94, 95, 96, 97, 98, 99, 100]])\n",
    "\n",
    "\n",
    "\n",
    "Retrieve the last 2 rows and first 3 column values of the above matrix using index & selection technique.\n",
    "\n",
    "\n",
    "CODING/OUTPUT FORMAT:-\n",
    "\n",
    "\n",
    "\n",
    "Step 1 : View the above matrix and write a code to print the last 2 rows and first 3 columns."
   ]
  },
  {
   "cell_type": "code",
   "execution_count": 8,
   "metadata": {},
   "outputs": [
    {
     "name": "stdout",
     "output_type": "stream",
     "text": [
      "[[81 82 83]\n",
      " [91 92 93]]\n"
     ]
    }
   ],
   "source": [
    "# Calling libraries\n",
    "\n",
    "import numpy as np\n",
    "\n",
    "# The below code generate the values ranging from 1 to 100 and create a 10x10 matrix.\n",
    "\n",
    "matrix = np.arange(1,101).reshape(10,10)\n",
    "\n",
    "# write a code to print the last 2 rows and first 3 columns.\n",
    "\n",
    "print(matrix[8:,0:3])"
   ]
  },
  {
   "cell_type": "markdown",
   "metadata": {},
   "source": [
    "# QUESTION - 9\n",
    "\n",
    "Using the below given Matrix, generate the output for the below questions.\n",
    "\n",
    "\n",
    "array([[ 1, 2, 3, 4, 5, 6, 7, 8, 9, 10],\n",
    "\n",
    " [ 11, 12, 13, 14, 15, 16, 17, 18, 19, 20],\n",
    "\n",
    " [ 21, 22, 23, 24, 25, 26, 27, 28, 29, 30],\n",
    "\n",
    " [ 31, 32, 33, 34, 35, 36, 37, 38, 39, 40],\n",
    "\n",
    " [ 41, 42, 43, 44, 45, 46, 47, 48, 49, 50],\n",
    "\n",
    " [ 51, 52, 53, 54, 55, 56, 57, 58, 59, 60],\n",
    "\n",
    " [ 61, 62, 63, 64, 65, 66, 67, 68, 69, 70],\n",
    "\n",
    " [ 71, 72, 73, 74, 75, 76, 77, 78, 79, 80],\n",
    "\n",
    " [ 81, 82, 83, 84, 85, 86, 87, 88, 89, 90],\n",
    "\n",
    " [ 91, 92, 93, 94, 95, 96, 97, 98, 99, 100]])\n",
    "\n",
    "\n",
    "\n",
    " Retrieve the value 55 from the above matrix using index & selection technique.\n",
    "\n",
    "\n",
    "CODING/OUTPUT FORMAT:-\n",
    "\n",
    "﻿\n",
    "\n",
    "Step 1 :- View the above matrix and write a code to print the value 55 from the above matrix using index & selection technique."
   ]
  },
  {
   "cell_type": "code",
   "execution_count": 9,
   "metadata": {},
   "outputs": [
    {
     "name": "stdout",
     "output_type": "stream",
     "text": [
      "55\n"
     ]
    }
   ],
   "source": [
    "# Calling libraries\n",
    "\n",
    "import numpy as np\n",
    "\n",
    "# The below code generate the values ranging from 1 to 100 and create a 10x10 matrix.\n",
    "\n",
    "matrix = np.arange(1,101).reshape(10,10)\n",
    "\n",
    "\n",
    "# Write a code to print the value 55 using index and selection technique.\n",
    "\n",
    "print(matrix[5,4])"
   ]
  },
  {
   "cell_type": "markdown",
   "metadata": {},
   "source": [
    "# QUESTION- 10\n",
    "Using the below given Matrix, generate the output for the below questions.\n",
    "\n",
    "\n",
    "array([[ 1, 2, 3, 4, 5, 6, 7, 8, 9, 10],\n",
    "\n",
    " [ 11, 12, 13, 14, 15, 16, 17, 18, 19, 20],\n",
    "\n",
    " [ 21, 22, 23, 24, 25, 26, 27, 28, 29, 30],\n",
    "\n",
    " [ 31, 32, 33, 34, 35, 36, 37, 38, 39, 40],\n",
    "\n",
    " [ 41, 42, 43, 44, 45, 46, 47, 48, 49, 50],\n",
    "\n",
    " [ 51, 52, 53, 54, 55, 56, 57, 58, 59, 60],\n",
    "\n",
    " [ 61, 62, 63, 64, 65, 66, 67, 68, 69, 70],\n",
    "\n",
    " [ 71, 72, 73, 74, 75, 76, 77, 78, 79, 80],\n",
    "\n",
    " [ 81, 82, 83, 84, 85, 86, 87, 88, 89, 90],\n",
    "\n",
    " [ 91, 92, 93, 94, 95, 96, 97, 98, 99, 100]])\n",
    "\n",
    "\n",
    "\n",
    "Retrieve all the values from the 3rd column in the above matrix\n",
    "\n",
    "\n",
    "CODING/OUTPUT FORMAT:-\n",
    "\n",
    "﻿\n",
    "\n",
    "Step 1 :- View the above matrix and write a code to print all the values from 3rd column.\n",
    "\n"
   ]
  },
  {
   "cell_type": "code",
   "execution_count": 10,
   "metadata": {},
   "outputs": [
    {
     "name": "stdout",
     "output_type": "stream",
     "text": [
      "[ 3 13 23 33 43 53 63 73 83 93]\n"
     ]
    }
   ],
   "source": [
    "# Calling libraries\n",
    "\n",
    "import numpy as np\n",
    "\n",
    "# The below code generate the values ranging from 1 to 100 and create a 10x10 matrix.\n",
    "\n",
    "matrix = np.arange(1,101).reshape(10,10)\n",
    "\n",
    "\n",
    "# Write a code to print the values from 3rd column,using index and selection technique.\n",
    "\n",
    "print(matrix[:,2])"
   ]
  },
  {
   "cell_type": "markdown",
   "metadata": {},
   "source": [
    "# QUESTION - 11\n",
    "\n",
    "Using the below given Matrix, generate the output for the below questions.\n",
    "\n",
    "\n",
    "array([[ 1, 2, 3, 4, 5, 6, 7, 8, 9, 10],\n",
    "\n",
    " [ 11, 12, 13, 14, 15, 16, 17, 18, 19, 20],\n",
    "\n",
    " [ 21, 22, 23, 24, 25, 26, 27, 28, 29, 30],\n",
    "\n",
    " [ 31, 32, 33, 34, 35, 36, 37, 38, 39, 40],\n",
    "\n",
    " [ 41, 42, 43, 44, 45, 46, 47, 48, 49, 50],\n",
    "\n",
    " [ 51, 52, 53, 54, 55, 56, 57, 58, 59, 60],\n",
    "\n",
    " [ 61, 62, 63, 64, 65, 66, 67, 68, 69, 70],\n",
    "\n",
    " [ 71, 72, 73, 74, 75, 76, 77, 78, 79, 80],\n",
    "\n",
    " [ 81, 82, 83, 84, 85, 86, 87, 88, 89, 90],\n",
    "\n",
    " [ 91, 92, 93, 94, 95, 96, 97, 98, 99, 100]])\n",
    "\n",
    "\n",
    "\n",
    "Retrieve the values from the 4th row in the above matrix\n",
    "\n",
    "\n",
    "CODING/OUTPUT FORMAT:-\n",
    "\n",
    "﻿\n",
    "\n",
    "Step 1 :- View the above matrix and write a code to print the values from fourth row.\n",
    "\n",
    "﻿"
   ]
  },
  {
   "cell_type": "code",
   "execution_count": 11,
   "metadata": {},
   "outputs": [
    {
     "name": "stdout",
     "output_type": "stream",
     "text": [
      "[31 32 33 34 35 36 37 38 39 40]\n"
     ]
    }
   ],
   "source": [
    "# Calling libraries\n",
    "\n",
    "import numpy as np\n",
    "\n",
    "# The below code generate the values ranging from 1 to 100 and create a 10x10 matrix.\n",
    "\n",
    "matrix = np.arange(1,101).reshape(10,10)\n",
    "\n",
    "\n",
    "# Write a code to print the values from fourth row.,using index and selection technique.\n",
    "\n",
    "print(matrix[3,:])"
   ]
  },
  {
   "cell_type": "markdown",
   "metadata": {},
   "source": [
    "# QUESTION - 12\n",
    "Using the below given Matrix, generate the output for the below questions.\n",
    "\n",
    "\n",
    "array([[ 1, 2, 3, 4, 5, 6, 7, 8, 9, 10],\n",
    "\n",
    " [ 11, 12, 13, 14, 15, 16, 17, 18, 19, 20],\n",
    "\n",
    " [ 21, 22, 23, 24, 25, 26, 27, 28, 29, 30],\n",
    "\n",
    " [ 31, 32, 33, 34, 35, 36, 37, 38, 39, 40],\n",
    "\n",
    " [ 41, 42, 43, 44, 45, 46, 47, 48, 49, 50],\n",
    "\n",
    " [ 51, 52, 53, 54, 55, 56, 57, 58, 59, 60],\n",
    "\n",
    " [ 61, 62, 63, 64, 65, 66, 67, 68, 69, 70],\n",
    "\n",
    " [ 71, 72, 73, 74, 75, 76, 77, 78, 79, 80],\n",
    "\n",
    " [ 81, 82, 83, 84, 85, 86, 87, 88, 89, 90],\n",
    "\n",
    " [ 91, 92, 93, 94, 95, 96, 97, 98, 99, 100]])\n",
    "\n",
    "\n",
    "\n",
    "Retrieve all the values from the 2nd & 4th rows in the above matrix.\n",
    "\n",
    "\n",
    "CODING/OUTPUT FORMAT:-\n",
    "\n",
    "﻿\n",
    "\n",
    "Step 1 :- View the above matrix and write a code to print the second and fourth row of the matrix above."
   ]
  },
  {
   "cell_type": "code",
   "execution_count": 12,
   "metadata": {},
   "outputs": [
    {
     "name": "stdout",
     "output_type": "stream",
     "text": [
      "[[11 12 13 14 15 16 17 18 19 20]\n",
      " [31 32 33 34 35 36 37 38 39 40]]\n"
     ]
    }
   ],
   "source": [
    "# Calling libraries\n",
    "\n",
    "import numpy as np\n",
    "\n",
    "# The below code generate the values ranging from 1 to 100 and create a 10x10 matrix.\n",
    "\n",
    "matrix = np.arange(1,101).reshape(10,10)\n",
    "\n",
    "\n",
    "# write a code to print the values from second and fourth row,using index and selection technique.\n",
    "\n",
    "print(matrix[(1,3),:])\n"
   ]
  },
  {
   "cell_type": "markdown",
   "metadata": {},
   "source": [
    "# QUESTION - 13\n",
    "\n",
    "Using the below given Matrix, generate the output for the below questions.\n",
    "\n",
    "\n",
    "array([[ 1, 2, 3, 4, 5, 6, 7, 8, 9, 10],\n",
    "\n",
    " [ 11, 12, 13, 14, 15, 16, 17, 18, 19, 20],\n",
    "\n",
    " [ 21, 22, 23, 24, 25, 26, 27, 28, 29, 30],\n",
    "\n",
    " [ 31, 32, 33, 34, 35, 36, 37, 38, 39, 40],\n",
    "\n",
    " [ 41, 42, 43, 44, 45, 46, 47, 48, 49, 50],\n",
    "\n",
    " [ 51, 52, 53, 54, 55, 56, 57, 58, 59, 60],\n",
    "\n",
    " [ 61, 62, 63, 64, 65, 66, 67, 68, 69, 70],\n",
    "\n",
    " [ 71, 72, 73, 74, 75, 76, 77, 78, 79, 80],\n",
    "\n",
    " [ 81, 82, 83, 84, 85, 86, 87, 88, 89, 90],\n",
    "\n",
    " [ 91, 92, 93, 94, 95, 96, 97, 98, 99, 100]])\n",
    "\n",
    "\n",
    "\n",
    "Calculate sum of all the values in the matrix.\n",
    "\n",
    "\n",
    "CODING/OUTPUT FORMAT:-\n",
    "\n",
    "﻿\n",
    "\n",
    "Step 1 :- View the above matrix and write a code to print the total sum of all the values in the matrix."
   ]
  },
  {
   "cell_type": "code",
   "execution_count": 13,
   "metadata": {},
   "outputs": [
    {
     "name": "stdout",
     "output_type": "stream",
     "text": [
      "5050\n"
     ]
    }
   ],
   "source": [
    "# Calling libraries\n",
    "\n",
    "import numpy as np\n",
    "\n",
    "# The below code generate the values ranging from 1 to 100 and create a 10x10 matrix.\n",
    "\n",
    "matrix = np.arange(1,101).reshape(10,10)\n",
    "\n",
    "\n",
    "# write a code to print the sum of all the values in the matrix.\n",
    "\n",
    "print(matrix.sum())"
   ]
  },
  {
   "cell_type": "code",
   "execution_count": null,
   "metadata": {},
   "outputs": [],
   "source": []
  }
 ],
 "metadata": {
  "kernelspec": {
   "display_name": "Python 3",
   "language": "python",
   "name": "python3"
  },
  "language_info": {
   "codemirror_mode": {
    "name": "ipython",
    "version": 3
   },
   "file_extension": ".py",
   "mimetype": "text/x-python",
   "name": "python",
   "nbconvert_exporter": "python",
   "pygments_lexer": "ipython3",
   "version": "3.7.3"
  }
 },
 "nbformat": 4,
 "nbformat_minor": 2
}
