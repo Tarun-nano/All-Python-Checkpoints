{
 "cells": [
  {
   "cell_type": "markdown",
   "metadata": {},
   "source": [
    "### If Statement:"
   ]
  },
  {
   "cell_type": "markdown",
   "metadata": {},
   "source": [
    "#### 1. Write a python code to check if 120 is greater than 73 using if statement?"
   ]
  },
  {
   "cell_type": "raw",
   "metadata": {},
   "source": [
    "Assiging variable a is 73\n",
    "Assiging variable b is 120\n",
    "If condition for b>a than go to step 4\n",
    "print'b is greater than a'"
   ]
  },
  {
   "cell_type": "markdown",
   "metadata": {},
   "source": [
    "#### Write Python Code"
   ]
  },
  {
   "cell_type": "code",
   "execution_count": 37,
   "metadata": {
    "scrolled": true
   },
   "outputs": [
    {
     "name": "stdout",
     "output_type": "stream",
     "text": [
      "b is greater than a\n"
     ]
    }
   ],
   "source": [
    "a = 73\n",
    "b = 120\n",
    "if b > a:\n",
    "    print(\"b is greater than a\") "
   ]
  },
  {
   "cell_type": "markdown",
   "metadata": {},
   "source": [
    "### IF-ELSE Statement:"
   ]
  },
  {
   "cell_type": "markdown",
   "metadata": {},
   "source": [
    "#### 1. Write a python code which takes two numbers a = 123,b = 133 and prints the biggest number\n",
    "    condition 1 : b>a\n",
    "    condition 2 : else\n",
    "    print which is correct"
   ]
  },
  {
   "cell_type": "raw",
   "metadata": {},
   "source": [
    "Assiging variable a is 123\n",
    "Assiging variable b is 133\n",
    "if condition b>a then go to step 4 else goto step 5\n",
    "print b is greater than a\n",
    "print b is less than a"
   ]
  },
  {
   "cell_type": "markdown",
   "metadata": {},
   "source": [
    "#### Write Python Code"
   ]
  },
  {
   "cell_type": "code",
   "execution_count": 38,
   "metadata": {},
   "outputs": [
    {
     "name": "stdout",
     "output_type": "stream",
     "text": [
      "b is greater than a\n"
     ]
    }
   ],
   "source": [
    "a = 123\n",
    "b = 133\n",
    "if b > a:\n",
    "      print(\"b is greater than a\")\n",
    "else:\n",
    "      print(\"b is less than a\")"
   ]
  },
  {
   "cell_type": "markdown",
   "metadata": {},
   "source": [
    "### Nested-If Statement"
   ]
  },
  {
   "cell_type": "markdown",
   "metadata": {},
   "source": [
    "#### 1. Problem:Write a python code that takes an input from the user and shows if that number is positive or negative. Also, check if the number is two digit. "
   ]
  },
  {
   "cell_type": "raw",
   "metadata": {},
   "source": [
    "Assigning the num eqaul to 12\n",
    "if condition is num>0 the go to step 3, else go to step 4\n",
    "print the number positive\n",
    "print the number is negative\n",
    "Another if condition is -99<=num then go to step 6\n",
    "print twi digit negative number"
   ]
  },
  {
   "cell_type": "markdown",
   "metadata": {},
   "source": [
    "#### Write Python Code"
   ]
  },
  {
   "cell_type": "code",
   "execution_count": 39,
   "metadata": {},
   "outputs": [
    {
     "name": "stdout",
     "output_type": "stream",
     "text": [
      "Negative Number\n",
      "Two digit Negative Number\n"
     ]
    }
   ],
   "source": [
    "num = -12\n",
    "if num > 0:\n",
    "    print(\"Positive Number\")\n",
    "else:\n",
    "    print(\"Negative Number\")\n",
    "    #nested if\n",
    "    if -99<=num:\n",
    "        print(\"Two digit Negative Number\")"
   ]
  },
  {
   "cell_type": "markdown",
   "metadata": {},
   "source": [
    "## While Loop"
   ]
  },
  {
   "cell_type": "markdown",
   "metadata": {},
   "source": [
    "#### 1. Write a python code to give the below output\n",
    "    Input:10\n",
    "    Output:0,1,4,9,16,25,36,49,64,81"
   ]
  },
  {
   "cell_type": "raw",
   "metadata": {},
   "source": [
    "Take variable a = 0\n",
    "while condition is a less then 10 goto step 3\n",
    "    print condition is a**2\n",
    "    create increment a equal to a+1\n"
   ]
  },
  {
   "cell_type": "markdown",
   "metadata": {},
   "source": [
    "#### Write Python Code"
   ]
  },
  {
   "cell_type": "code",
   "execution_count": 40,
   "metadata": {},
   "outputs": [
    {
     "name": "stdout",
     "output_type": "stream",
     "text": [
      "0\n",
      "1\n",
      "4\n",
      "9\n",
      "16\n",
      "25\n",
      "36\n",
      "49\n",
      "64\n",
      "81\n"
     ]
    }
   ],
   "source": [
    "a = 0;\n",
    "while  a < 10 :\n",
    "    print (a**2)\n",
    "    a = a + 1"
   ]
  },
  {
   "cell_type": "markdown",
   "metadata": {},
   "source": [
    "## For Loop"
   ]
  },
  {
   "cell_type": "markdown",
   "metadata": {},
   "source": [
    "#### 1. Use a range of 1 to 100 numbers and find out the sum of all the numbers between 1 and 100. \n",
    "    For the numbers in the range (1,100):1+2+3+4+5......+100 = 4950"
   ]
  },
  {
   "cell_type": "raw",
   "metadata": {},
   "source": [
    "Assigning the sum eqaul to 0\n",
    "For condition in range (1,100) than goto step 3\n",
    "sum = sum+value\n",
    "print the sum"
   ]
  },
  {
   "cell_type": "markdown",
   "metadata": {},
   "source": [
    "#### Write Python Code"
   ]
  },
  {
   "cell_type": "code",
   "execution_count": 41,
   "metadata": {},
   "outputs": [
    {
     "name": "stdout",
     "output_type": "stream",
     "text": [
      "4950\n"
     ]
    }
   ],
   "source": [
    "sum = 0\n",
    "# iterating over natural numbers using range()\n",
    "for value in range(1, 100):\n",
    "    # calculating sum\n",
    "    sum = sum + value\n",
    "# displaying sum of first 5 natural numbers\n",
    "print(sum)"
   ]
  },
  {
   "cell_type": "markdown",
   "metadata": {},
   "source": [
    "### Some Python Programs"
   ]
  },
  {
   "cell_type": "markdown",
   "metadata": {},
   "source": [
    "#### 1. Write a program which will find all such numbers which are divisible by 7 but are not a multiple of 5, between 202 and 320 (both included)."
   ]
  },
  {
   "cell_type": "code",
   "execution_count": 28,
   "metadata": {},
   "outputs": [
    {
     "name": "stdout",
     "output_type": "stream",
     "text": [
      "203,217,224,231,238,252,259,266,273,287,294,301,308\n"
     ]
    }
   ],
   "source": [
    "Emty_list=[]\n",
    "for i in range(202, 320):\n",
    "    if (i%7==0) and (i%5!=0):\n",
    "        Emty_list.append(str(i))\n",
    "\n",
    "print(','.join(Emty_list))"
   ]
  },
  {
   "cell_type": "markdown",
   "metadata": {},
   "source": [
    "#### 2. With a given integral number n, write a program to generate a dictionary that contains the elements (i, i*i) \n",
    "    input:9\n",
    "\n",
    "    Output: {1: 1, 2: 4, 3: 9, 4: 16, 5: 25, 6: 36, 7: 49, 8: 64, 9: 81, 10: 100}"
   ]
  },
  {
   "cell_type": "code",
   "execution_count": 45,
   "metadata": {},
   "outputs": [
    {
     "name": "stdout",
     "output_type": "stream",
     "text": [
      "10\n"
     ]
    },
    {
     "data": {
      "text/plain": [
       "{1: 1, 2: 4, 3: 9, 4: 16, 5: 25, 6: 36, 7: 49, 8: 64, 9: 81, 10: 100}"
      ]
     },
     "execution_count": 45,
     "metadata": {},
     "output_type": "execute_result"
    }
   ],
   "source": [
    "n=int(input())\n",
    "d=dict()\n",
    "for i in range(1,n+1):\n",
    "    d[i]=i*i\n",
    "d"
   ]
  },
  {
   "cell_type": "markdown",
   "metadata": {},
   "source": [
    "#### 3. Python Program to count the number of vowels in a string. Take the string input from the user."
   ]
  },
  {
   "cell_type": "code",
   "execution_count": 13,
   "metadata": {},
   "outputs": [
    {
     "name": "stdout",
     "output_type": "stream",
     "text": [
      "Enter string:a\n",
      "Number of vowels are:\n",
      "1\n"
     ]
    }
   ],
   "source": [
    "string=input(\"Enter string:\")\n",
    "vowels=0\n",
    "for i in string:\n",
    "      if(i=='a' or i=='e' or i=='i' or i=='o' or i=='u' or i=='A' or i=='E' or i=='I' or i=='O' or i=='U'):\n",
    "            vowels=vowels+1\n",
    "print(\"Number of vowels are:\")\n",
    "print(vowels)"
   ]
  },
  {
   "cell_type": "markdown",
   "metadata": {},
   "source": [
    "### List comprehension"
   ]
  },
  {
   "cell_type": "markdown",
   "metadata": {},
   "source": [
    "#### 1. Use list comprehension to sort a given list of strings\n",
    "    Input: Great,learning,ML,world,python,Sql\n",
    "    Output: Great,ML,Sql,learning,python,world"
   ]
  },
  {
   "cell_type": "code",
   "execution_count": 47,
   "metadata": {},
   "outputs": [
    {
     "name": "stdout",
     "output_type": "stream",
     "text": [
      "Great,learning,ML,world,python,Sql\n",
      "Great,ML,Sql,learning,python,world\n"
     ]
    }
   ],
   "source": [
    "items=[x for x in input().split(',')]\n",
    "items.sort()\n",
    "print(','.join(items))"
   ]
  },
  {
   "cell_type": "markdown",
   "metadata": {},
   "source": [
    "#### 2. list comprehension\n",
    "\n",
    "    INPUT: 1,2,3,4,5,6\n",
    "\n",
    "    Output should be: 1,3,5"
   ]
  },
  {
   "cell_type": "code",
   "execution_count": 27,
   "metadata": {},
   "outputs": [
    {
     "name": "stdout",
     "output_type": "stream",
     "text": [
      " 1,2,3,4,5,6\n",
      " 1,3,5\n"
     ]
    }
   ],
   "source": [
    "values = input()\n",
    "numbers = [x for x in values.split(\",\") if int(x)%2!=0]\n",
    "print(\",\".join(numbers))"
   ]
  }
 ],
 "metadata": {
  "kernelspec": {
   "display_name": "Python 3",
   "language": "python",
   "name": "python3"
  },
  "language_info": {
   "codemirror_mode": {
    "name": "ipython",
    "version": 3
   },
   "file_extension": ".py",
   "mimetype": "text/x-python",
   "name": "python",
   "nbconvert_exporter": "python",
   "pygments_lexer": "ipython3",
   "version": "3.7.3"
  }
 },
 "nbformat": 4,
 "nbformat_minor": 2
}
