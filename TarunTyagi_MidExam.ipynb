{
 "cells": [
  {
   "cell_type": "markdown",
   "metadata": {},
   "source": [
    "#                                       SECTION A\n",
    "\n",
    "\n",
    "\n",
    "# Q1. List the difference between Tuple and List?\n",
    "\n",
    "There are several differences that can be seen between tuples and list, some of them are mentioned below:\n",
    "1. list are defined by square brackets \"[]\" whereas tuples are defined in paranthesis \"()\"\n",
    "2. lists are mutable meaning they can be modified according to the user, even after they are defined, however tuples are immutable meaning they cannot be modified once created.\n",
    "3. lists have variety of functions that can be performed whereas tuples only have very few limited set of functions that can be performed."
   ]
  },
  {
   "cell_type": "markdown",
   "metadata": {},
   "source": [
    "# Q2.What is a dictionary in Python and write a syntax to create a dictionary?\n",
    "\n",
    "A dictionary can be broken down in two main parts that are (keys) and (key values). keys can understood as labels for columns while the key values are the elements present in the columns. A dictionary is always defined in curly brackets \"{}\".\n",
    "\n",
    "Syntax:   \n",
    "\n",
    "dict_name={key:key_value,key:key_value}\n",
    "\n",
    "example: \n",
    "\n",
    "dict_name={\"Name\":\"Tarun\",\"Age\":23}"
   ]
  },
  {
   "cell_type": "markdown",
   "metadata": {},
   "source": [
    "# Q3. For the give List, print all the elements in reverse without the keyword reverse.\n"
   ]
  },
  {
   "cell_type": "code",
   "execution_count": 1,
   "metadata": {},
   "outputs": [
    {
     "name": "stdout",
     "output_type": "stream",
     "text": [
      "[100, 90, 80, 70, 60, 50, 40, 30, 20, 10]\n"
     ]
    }
   ],
   "source": [
    "List  = [ 10,20,30,40,50,60,70,80,90,100]\n",
    "x=List[::-1]\n",
    "print(x)"
   ]
  },
  {
   "cell_type": "markdown",
   "metadata": {},
   "source": [
    "# Q4. Write a code to print only the even numbers till 11."
   ]
  },
  {
   "cell_type": "code",
   "execution_count": 2,
   "metadata": {},
   "outputs": [
    {
     "name": "stdout",
     "output_type": "stream",
     "text": [
      "2\n",
      "4\n",
      "6\n",
      "8\n",
      "10\n"
     ]
    }
   ],
   "source": [
    "for i in range(1,12):\n",
    "    if i%2==0:\n",
    "        print(i)"
   ]
  },
  {
   "cell_type": "markdown",
   "metadata": {},
   "source": [
    "# SECTION B\n",
    "\n",
    "# Q1. Write a Python program to find those numbers which are divisible by 7 and multiple of 5, between 1500 and 2700 (both included).\n",
    "Desired output:\n",
    "1505,1540,1575,1610,1645,1680,1715,1750,1785,1820,1855,1890,1925,1960,1995,2030,2065,2100,2135,2170,2205,2240,\n",
    "2275,2310,2345,2380,2415,2450,2485,2520,2555,2590,2625,2660,2695.\n"
   ]
  },
  {
   "cell_type": "code",
   "execution_count": null,
   "metadata": {},
   "outputs": [],
   "source": [
    "for i in range(1500,2701):\n",
    "    if i%7==0 and i%5==0:\n",
    "        print(i)"
   ]
  },
  {
   "cell_type": "markdown",
   "metadata": {},
   "source": [
    "# Q2. Get sum of squares of all even and odd numbers between 1000 and 5000 (include both) in separate list"
   ]
  },
  {
   "cell_type": "code",
   "execution_count": 47,
   "metadata": {},
   "outputs": [
    {
     "name": "stdout",
     "output_type": "stream",
     "text": [
      "even sum:  20679668000\n",
      "\n",
      "\n",
      "odd sum :  20666666000\n"
     ]
    }
   ],
   "source": [
    "even=[]\n",
    "odd=[]\n",
    "sum1=[]\n",
    "\n",
    "for i in range(1000,5001):\n",
    "    if i%2==0:\n",
    "        even.append(i*i)\n",
    "    else:\n",
    "        odd.append(i*i)\n",
    "print(\"even sum: \",sum(even))\n",
    "print()\n",
    "print()\n",
    "print(\"odd sum : \",sum(odd))"
   ]
  },
  {
   "cell_type": "markdown",
   "metadata": {},
   "source": [
    "# Q3. Write a code to display “hello world” 5 times without changing the given while condition (While count<=10)\n"
   ]
  },
  {
   "cell_type": "code",
   "execution_count": 26,
   "metadata": {},
   "outputs": [
    {
     "name": "stdout",
     "output_type": "stream",
     "text": [
      "hello world\n",
      "hello world\n",
      "hello world\n",
      "hello world\n",
      "hello world\n"
     ]
    }
   ],
   "source": [
    "count=0\n",
    "while count<=10:\n",
    "    print(\"hello world\")\n",
    "    count=count+1\n",
    "    if count==5:\n",
    "        break"
   ]
  },
  {
   "cell_type": "markdown",
   "metadata": {},
   "source": [
    "# Q4. Write a function to find the factor of 24."
   ]
  },
  {
   "cell_type": "code",
   "execution_count": 28,
   "metadata": {},
   "outputs": [
    {
     "name": "stdout",
     "output_type": "stream",
     "text": [
      "1\n",
      "2\n",
      "3\n",
      "4\n",
      "6\n",
      "8\n",
      "12\n",
      "24\n"
     ]
    }
   ],
   "source": [
    "for i in range(1,25):\n",
    "    if 24%i==0:\n",
    "        print(i)"
   ]
  },
  {
   "cell_type": "markdown",
   "metadata": {},
   "source": [
    "# Q5. Ask the user for a string and print out whether this string is a palindrome or not.\n",
    "# A palindrome is a string that reads the same forwards and backwards."
   ]
  },
  {
   "cell_type": "code",
   "execution_count": 32,
   "metadata": {},
   "outputs": [
    {
     "name": "stdout",
     "output_type": "stream",
     "text": [
      "enter the string : taruh\n",
      "the string is non palindrome\n"
     ]
    }
   ],
   "source": [
    "str1=str(input(\"enter the string : \"))\n",
    "str2=str1[::-1]\n",
    "if str1==str2:\n",
    "    print(\"the string is palindrome\")\n",
    "else:\n",
    "    print(\"the string is non palindrome\")"
   ]
  },
  {
   "cell_type": "markdown",
   "metadata": {},
   "source": [
    "# Section C\n",
    "\n",
    "# Q1. Write a Python Program to swap the first and last elements in the list\n",
    "\n",
    "1.\tMake a user input program\n",
    "2.\tGet the count of how many elements should be there in the list\n",
    "3.\tEnter the elements one by one and create a list\n",
    "4.\tCreate a  program to swap the first and last elements in the list\n",
    "5.\tDisplay the results of the list before and after\n"
   ]
  },
  {
   "cell_type": "code",
   "execution_count": 44,
   "metadata": {},
   "outputs": [
    {
     "name": "stdout",
     "output_type": "stream",
     "text": [
      "enter how many elements you want in a list4\n",
      "enter the element : 1\n",
      "enter the element : 2\n",
      "enter the element : 3\n",
      "enter the element : 4\n",
      "[1.0, 2.0, 3.0, 4.0]\n",
      "after swap :  [4.0, 2.0, 3.0, 1.0]\n"
     ]
    }
   ],
   "source": [
    "x=int(input(\"enter how many elements you want in a list\"))\n",
    "y=[]\n",
    "\n",
    "for i in range(0,x):\n",
    "    q=float(input(\"enter the element : \"))\n",
    "    y.append(q)\n",
    "print(y)\n",
    "a=y[0]\n",
    "b=y[x-1]\n",
    "y[0]=b\n",
    "y[x-1]=a\n",
    "print(\"after swap : \",y)\n"
   ]
  },
  {
   "cell_type": "code",
   "execution_count": null,
   "metadata": {},
   "outputs": [],
   "source": []
  }
 ],
 "metadata": {
  "kernelspec": {
   "display_name": "Python 3",
   "language": "python",
   "name": "python3"
  },
  "language_info": {
   "codemirror_mode": {
    "name": "ipython",
    "version": 3
   },
   "file_extension": ".py",
   "mimetype": "text/x-python",
   "name": "python",
   "nbconvert_exporter": "python",
   "pygments_lexer": "ipython3",
   "version": "3.7.3"
  }
 },
 "nbformat": 4,
 "nbformat_minor": 2
}
