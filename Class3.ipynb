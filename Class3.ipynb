{
 "cells": [
  {
   "cell_type": "code",
   "execution_count": null,
   "metadata": {},
   "outputs": [],
   "source": [
    "import pandas as pd"
   ]
  },
  {
   "cell_type": "code",
   "execution_count": 17,
   "metadata": {},
   "outputs": [],
   "source": [
    "list1 =[21,35,24,36,356,[[215],[3256],[3526]],[3215,644,6962]]"
   ]
  },
  {
   "cell_type": "code",
   "execution_count": 18,
   "metadata": {},
   "outputs": [
    {
     "data": {
      "text/html": [
       "<div>\n",
       "<style scoped>\n",
       "    .dataframe tbody tr th:only-of-type {\n",
       "        vertical-align: middle;\n",
       "    }\n",
       "\n",
       "    .dataframe tbody tr th {\n",
       "        vertical-align: top;\n",
       "    }\n",
       "\n",
       "    .dataframe thead th {\n",
       "        text-align: right;\n",
       "    }\n",
       "</style>\n",
       "<table border=\"1\" class=\"dataframe\">\n",
       "  <thead>\n",
       "    <tr style=\"text-align: right;\">\n",
       "      <th></th>\n",
       "      <th>0</th>\n",
       "    </tr>\n",
       "  </thead>\n",
       "  <tbody>\n",
       "    <tr>\n",
       "      <th>0</th>\n",
       "      <td>21</td>\n",
       "    </tr>\n",
       "    <tr>\n",
       "      <th>1</th>\n",
       "      <td>35</td>\n",
       "    </tr>\n",
       "    <tr>\n",
       "      <th>2</th>\n",
       "      <td>24</td>\n",
       "    </tr>\n",
       "    <tr>\n",
       "      <th>3</th>\n",
       "      <td>36</td>\n",
       "    </tr>\n",
       "    <tr>\n",
       "      <th>4</th>\n",
       "      <td>356</td>\n",
       "    </tr>\n",
       "    <tr>\n",
       "      <th>5</th>\n",
       "      <td>[[215], [3256], [3526]]</td>\n",
       "    </tr>\n",
       "    <tr>\n",
       "      <th>6</th>\n",
       "      <td>[3215, 644, 6962]</td>\n",
       "    </tr>\n",
       "  </tbody>\n",
       "</table>\n",
       "</div>"
      ],
      "text/plain": [
       "                         0\n",
       "0                       21\n",
       "1                       35\n",
       "2                       24\n",
       "3                       36\n",
       "4                      356\n",
       "5  [[215], [3256], [3526]]\n",
       "6        [3215, 644, 6962]"
      ]
     },
     "execution_count": 18,
     "metadata": {},
     "output_type": "execute_result"
    }
   ],
   "source": [
    "pd.DataFrame(list1)    # Converting list into DataFrame"
   ]
  },
  {
   "cell_type": "code",
   "execution_count": 19,
   "metadata": {},
   "outputs": [
    {
     "data": {
      "text/html": [
       "<div>\n",
       "<style scoped>\n",
       "    .dataframe tbody tr th:only-of-type {\n",
       "        vertical-align: middle;\n",
       "    }\n",
       "\n",
       "    .dataframe tbody tr th {\n",
       "        vertical-align: top;\n",
       "    }\n",
       "\n",
       "    .dataframe thead th {\n",
       "        text-align: right;\n",
       "    }\n",
       "</style>\n",
       "<table border=\"1\" class=\"dataframe\">\n",
       "  <thead>\n",
       "    <tr style=\"text-align: right;\">\n",
       "      <th></th>\n",
       "      <th>0</th>\n",
       "    </tr>\n",
       "  </thead>\n",
       "  <tbody>\n",
       "    <tr>\n",
       "      <th>0</th>\n",
       "      <td>215</td>\n",
       "    </tr>\n",
       "    <tr>\n",
       "      <th>1</th>\n",
       "      <td>3256</td>\n",
       "    </tr>\n",
       "    <tr>\n",
       "      <th>2</th>\n",
       "      <td>3526</td>\n",
       "    </tr>\n",
       "  </tbody>\n",
       "</table>\n",
       "</div>"
      ],
      "text/plain": [
       "      0\n",
       "0   215\n",
       "1  3256\n",
       "2  3526"
      ]
     },
     "execution_count": 19,
     "metadata": {},
     "output_type": "execute_result"
    }
   ],
   "source": [
    "pd.DataFrame(list1[5])"
   ]
  },
  {
   "cell_type": "code",
   "execution_count": 22,
   "metadata": {},
   "outputs": [
    {
     "data": {
      "text/html": [
       "<div>\n",
       "<style scoped>\n",
       "    .dataframe tbody tr th:only-of-type {\n",
       "        vertical-align: middle;\n",
       "    }\n",
       "\n",
       "    .dataframe tbody tr th {\n",
       "        vertical-align: top;\n",
       "    }\n",
       "\n",
       "    .dataframe thead th {\n",
       "        text-align: right;\n",
       "    }\n",
       "</style>\n",
       "<table border=\"1\" class=\"dataframe\">\n",
       "  <thead>\n",
       "    <tr style=\"text-align: right;\">\n",
       "      <th></th>\n",
       "      <th>0</th>\n",
       "    </tr>\n",
       "  </thead>\n",
       "  <tbody>\n",
       "    <tr>\n",
       "      <th>0</th>\n",
       "      <td>215</td>\n",
       "    </tr>\n",
       "  </tbody>\n",
       "</table>\n",
       "</div>"
      ],
      "text/plain": [
       "     0\n",
       "0  215"
      ]
     },
     "execution_count": 22,
     "metadata": {},
     "output_type": "execute_result"
    }
   ],
   "source": [
    "pd.DataFrame(list1[5][0])    #Doubt : How to add multiple list items in a DataFrame"
   ]
  },
  {
   "cell_type": "markdown",
   "metadata": {},
   "source": [
    "# Q. Temp conversion I F to C\n"
   ]
  },
  {
   "cell_type": "code",
   "execution_count": null,
   "metadata": {},
   "outputs": [],
   "source": [
    "temp=float(input(print(\"enter the temperature\")))\n",
    "c=(temp-32)*(5/9)\n",
    "print(\"temp. in celcius = \",c)"
   ]
  },
  {
   "cell_type": "markdown",
   "metadata": {},
   "source": [
    "# 1. input the user which conversion he wants to be done (for c to f : press 1, for f to c : press 2)\n",
    "\n",
    "# 2. ask the user to input the temperature\n",
    "\n",
    "# 3. store the given temperature in a float variable\n",
    "# 4. set the IF condition \n",
    "# 5. calculate the result using fourmula\n"
   ]
  },
  {
   "cell_type": "code",
   "execution_count": null,
   "metadata": {},
   "outputs": [],
   "source": [
    "a=int(input(print(\"****tell us what conversion u want to perform ***\\n***Press 1 for Celcius to Fahrenheit***\\n***Press 2 for Fahrenheit to Celcius****\")))\n",
    "if(a==1):\n",
    "    temp=float(input(print(\"please enter the temperature in degree Celcius\")))\n",
    "    c=temp*(9/5)+32\n",
    "    print(\"temp. in fahrenheit = \",c)\n",
    "elif(a==2):\n",
    "    temp=float(input(print(\"please enter the temperature in degree Fahrenheit\")))\n",
    "    c=(temp-32)*(5/9)\n",
    "    print(\"temp. in celcius = \",c)\n",
    "else:\n",
    "    print(\"wrong input\")"
   ]
  },
  {
   "cell_type": "code",
   "execution_count": null,
   "metadata": {},
   "outputs": [],
   "source": [
    "a=int(input(print(\"****tell us what conversion u want to perform ***\\n***Press 1 for Celcius to Fahrenheit***\\n***Press 2 for Fahrenheit to Celcius****\")))\n",
    "if(a==1):\n",
    "    temp=float(input(print(\"please enter the temperature in degree Celcius\")))\n",
    "    c=temp*(9/5)+32\n",
    "    print(\"temp. in fahrenheit = \",c)\n",
    "else:\n",
    "    temp=float(input(print(\"please enter the temperature in degree Fahrenheit\")))\n",
    "    c=(temp-32)*(5/9)\n",
    "    print(\"temp. in celcius = \",f)\n"
   ]
  },
  {
   "cell_type": "code",
   "execution_count": null,
   "metadata": {},
   "outputs": [],
   "source": [
    "a=input(print(\"****tell us what conversion u want to perform ***\\n***Press 1 for Celcius to Fahrenheit***\\n***Press 2 for Fahrenheit to Celcius****\"))\n",
    "while(a==1 or a==2):\n",
    "    if(a==1):\n",
    "        temp=input(print(\"please enter the temperature in degree Celcius\"))\n",
    "        c=temp*(9/5)+32\n",
    "        print(\"temp. in fahrenheit = \",c)\n",
    "    else:\n",
    "        temp=input(print(\"please enter the temperature in degree Fahrenheit\"))\n",
    "        c=(temp-32)*(5/9)\n",
    "        print(\"temp. in celcius = \",f)\n"
   ]
  },
  {
   "cell_type": "code",
   "execution_count": null,
   "metadata": {},
   "outputs": [],
   "source": [
    "a=int(input(print(\"****tell us what conversion u want to perform ***\\n***Press 1 for Celcius to Fahrenheit***\\n***Press 2 for Fahrenheit to Celcius****\")))\n",
    "\n",
    "while(a!=1 or a!=2):\n",
    "    \n",
    "    a=int(input(print(\"****wrong input*****\\n****tell us what conversion u want to perform ***\\n***Press 1 for Celcius to Fahrenheit***\\n***Press 2 for Fahrenheit to Celcius****\")))\n",
    "    if(a==1 or a==2):\n",
    "        break\n",
    "\n",
    "if(a==1):\n",
    "    temp=float(input(print(\"please enter the temperature in degree Celcius\")))\n",
    "    c=temp*(9/5)+32\n",
    "    print(\"temp. in fahrenheit = \",c)\n",
    "            \n",
    "\n",
    "else:\n",
    "    temp=float(input(print(\"please enter the temperature in degree Fahrenheit\")))\n",
    "    c=(temp-32)*(5/9)\n",
    "    print(\"temp. in celcius = \",c)\n",
    "    "
   ]
  },
  {
   "cell_type": "markdown",
   "metadata": {},
   "source": [
    "# while loop : "
   ]
  },
  {
   "cell_type": "code",
   "execution_count": null,
   "metadata": {},
   "outputs": [],
   "source": [
    "i=1\n",
    "while i<=10:\n",
    "\n",
    "    print(i)\n",
    "    i=i+1\n",
    "    "
   ]
  },
  {
   "cell_type": "code",
   "execution_count": null,
   "metadata": {},
   "outputs": [],
   "source": [
    "i=1          #### loop is running 10 time but only prints from 5\n",
    "while (i<=10):\n",
    "    i=i+1\n",
    "    if(i>=5):\n",
    "        print(i)\n",
    "        \n",
    "    else:\n",
    "        continue\n"
   ]
  },
  {
   "cell_type": "code",
   "execution_count": null,
   "metadata": {},
   "outputs": [],
   "source": [
    "i=1\n",
    "while i<=10:\n",
    "    \n",
    "    print(i)\n",
    "    i=i+1\n",
    "    "
   ]
  },
  {
   "cell_type": "code",
   "execution_count": null,
   "metadata": {},
   "outputs": [],
   "source": [
    "list1=[1,2,3,4,5,6,7,8,9]\n",
    "evenlist=[]\n",
    "oddlist=[]\n",
    "for i in range(0,len(list1)):\n",
    "    if list1[i]%2==0:\n",
    "        evenlist.append(list1[i])\n",
    "    else:\n",
    "        oddlist.append(list1[i])"
   ]
  },
  {
   "cell_type": "code",
   "execution_count": null,
   "metadata": {},
   "outputs": [],
   "source": [
    "evenlist"
   ]
  },
  {
   "cell_type": "code",
   "execution_count": null,
   "metadata": {},
   "outputs": [],
   "source": [
    "oddlist"
   ]
  },
  {
   "cell_type": "code",
   "execution_count": null,
   "metadata": {},
   "outputs": [],
   "source": [
    "neweven=[]\n",
    "newodd=[]\n",
    "i=0\n",
    "while list1[i]%2==0:\n",
    "    neweven.append(list1[i])\n",
    "    i=i+1\n",
    "\n"
   ]
  },
  {
   "cell_type": "code",
   "execution_count": null,
   "metadata": {},
   "outputs": [],
   "source": [
    "neweven"
   ]
  },
  {
   "cell_type": "code",
   "execution_count": null,
   "metadata": {},
   "outputs": [],
   "source": [
    "list2=[1,2,3,4,5,6,7,8,9,12]\n",
    "\n",
    "blanklist=[]\n",
    "\n",
    "i=0\n",
    "while i<len(list2):\n",
    "    if (list2[i]%2==0):\n",
    "        blanklist.append(list2[i])\n",
    "    i=i+1\n",
    "blanklist"
   ]
  },
  {
   "cell_type": "code",
   "execution_count": null,
   "metadata": {},
   "outputs": [],
   "source": [
    "blanklist"
   ]
  },
  {
   "cell_type": "code",
   "execution_count": null,
   "metadata": {},
   "outputs": [],
   "source": [
    "letters=\"Python is Good\""
   ]
  },
  {
   "cell_type": "code",
   "execution_count": null,
   "metadata": {},
   "outputs": [],
   "source": [
    "st=input(print(\"enter your name\"))\n"
   ]
  },
  {
   "cell_type": "code",
   "execution_count": null,
   "metadata": {},
   "outputs": [],
   "source": []
  },
  {
   "cell_type": "code",
   "execution_count": null,
   "metadata": {},
   "outputs": [],
   "source": []
  },
  {
   "cell_type": "code",
   "execution_count": null,
   "metadata": {},
   "outputs": [],
   "source": []
  },
  {
   "cell_type": "code",
   "execution_count": null,
   "metadata": {},
   "outputs": [],
   "source": [
    "a=list(st)"
   ]
  },
  {
   "cell_type": "code",
   "execution_count": null,
   "metadata": {},
   "outputs": [],
   "source": [
    "len(a)"
   ]
  },
  {
   "cell_type": "code",
   "execution_count": null,
   "metadata": {},
   "outputs": [],
   "source": [
    "if(len(a)%2==0):\n",
    "    print(\"even\")\n",
    "else:\n",
    "    print(\"odd\")"
   ]
  },
  {
   "cell_type": "code",
   "execution_count": null,
   "metadata": {},
   "outputs": [],
   "source": [
    "st=input(print(\"enter your name\"))\n",
    "a=list(st)\n",
    "len(a)\n",
    "if(len(a)%2==0):\n",
    "    print(\"even\")\n",
    "else:\n",
    "    print(\"odd\")"
   ]
  },
  {
   "cell_type": "code",
   "execution_count": null,
   "metadata": {},
   "outputs": [],
   "source": [
    "k=input(print(\"enter your name\"))\n",
    "\n",
    "while len(k)<6:\n",
    "    k=input(\"enter name again\")\n",
    "\n",
    "x=\"e\"\n",
    "if x in k :\n",
    "    print(\"it has e\")\n",
    "    "
   ]
  },
  {
   "cell_type": "markdown",
   "metadata": {},
   "source": [
    "# if Else Syntax\n",
    "if (condition):\n",
    "    <do something>\n",
    "elif(condition):\n",
    "  <do something>\n",
    "elif(condition):\n",
    "  <do something>\n",
    "else:         ##### else cannot be used before elif\n",
    "      \n",
    "      "
   ]
  },
  {
   "cell_type": "code",
   "execution_count": null,
   "metadata": {},
   "outputs": [],
   "source": [
    "# if 80 and above - excellent\n",
    "# if 70 and above - good\n",
    "# if 60 and above - average\n",
    "# if less than 60 - not accecptable\n",
    "# this is an example of nested if\n",
    "\n",
    "passmarks = 105\n",
    "if passmarks>100:\n",
    "    print(\"error\")\n",
    "if passmarks<=100 and passmarks>80:\n",
    "    print(\"excellent\")\n",
    "elif passmarks>=60 and passmarks>70:\n",
    "    print(\"good\")\n",
    "elif passmarks>=70 and passmarks>60:\n",
    "    print(\"average\")\n",
    "else:\n",
    "    print(\"not accecptable\")"
   ]
  },
  {
   "cell_type": "code",
   "execution_count": null,
   "metadata": {},
   "outputs": [],
   "source": [
    "# Functions ....\n",
    "\n",
    "def add(x,y):\n",
    "    return(x+y)"
   ]
  },
  {
   "cell_type": "code",
   "execution_count": null,
   "metadata": {},
   "outputs": [],
   "source": [
    "add(190,258)"
   ]
  },
  {
   "cell_type": "code",
   "execution_count": null,
   "metadata": {},
   "outputs": [],
   "source": [
    "def sqr(x):\n",
    "    return(x*x)"
   ]
  },
  {
   "cell_type": "code",
   "execution_count": null,
   "metadata": {},
   "outputs": [],
   "source": [
    "sqr(9)"
   ]
  },
  {
   "cell_type": "code",
   "execution_count": null,
   "metadata": {},
   "outputs": [],
   "source": [
    "def grades(marks):"
   ]
  },
  {
   "cell_type": "code",
   "execution_count": null,
   "metadata": {},
   "outputs": [],
   "source": [
    "a=list(st)\n",
    "len(a)\n",
    "if(len(a)%2==0):\n",
    "    print(\"even\")\n",
    "else:\n",
    "    print(\"odd\")"
   ]
  },
  {
   "cell_type": "code",
   "execution_count": null,
   "metadata": {},
   "outputs": [],
   "source": [
    "letters=\"Python is Good\"\n",
    "split_l=letters.split()\n",
    "for i in range(0,len(split_l)):\n",
    "    if len(split_l[i])%2==0:\n",
    "        print(split_l[i])\n",
    "        "
   ]
  },
  {
   "cell_type": "code",
   "execution_count": 1,
   "metadata": {},
   "outputs": [],
   "source": [
    "\n",
    "def grades(marks):\n",
    "    if marks>=80:\n",
    "        return(\"excellent\")\n",
    "    elif marks>=70:\n",
    "        return(\"good\")\n",
    "    elif marks>=60:\n",
    "        return(\"average\")\n",
    "    else:\n",
    "        return(\"not accecptable\")\n",
    "    \n",
    "    \n",
    "    \n",
    "    \n",
    "    "
   ]
  },
  {
   "cell_type": "code",
   "execution_count": 2,
   "metadata": {},
   "outputs": [
    {
     "data": {
      "text/plain": [
       "'excellent'"
      ]
     },
     "execution_count": 2,
     "metadata": {},
     "output_type": "execute_result"
    }
   ],
   "source": [
    "grades(82)"
   ]
  },
  {
   "cell_type": "code",
   "execution_count": null,
   "metadata": {},
   "outputs": [],
   "source": [
    "bin(1)"
   ]
  },
  {
   "cell_type": "code",
   "execution_count": null,
   "metadata": {},
   "outputs": [],
   "source": []
  },
  {
   "cell_type": "code",
   "execution_count": null,
   "metadata": {},
   "outputs": [],
   "source": []
  },
  {
   "cell_type": "code",
   "execution_count": null,
   "metadata": {},
   "outputs": [],
   "source": []
  },
  {
   "cell_type": "code",
   "execution_count": null,
   "metadata": {},
   "outputs": [],
   "source": []
  },
  {
   "cell_type": "code",
   "execution_count": null,
   "metadata": {},
   "outputs": [],
   "source": []
  }
 ],
 "metadata": {
  "kernelspec": {
   "display_name": "Python 3",
   "language": "python",
   "name": "python3"
  },
  "language_info": {
   "codemirror_mode": {
    "name": "ipython",
    "version": 3
   },
   "file_extension": ".py",
   "mimetype": "text/x-python",
   "name": "python",
   "nbconvert_exporter": "python",
   "pygments_lexer": "ipython3",
   "version": "3.7.3"
  }
 },
 "nbformat": 4,
 "nbformat_minor": 2
}
