{
 "cells": [
  {
   "cell_type": "code",
   "execution_count": 1,
   "metadata": {},
   "outputs": [],
   "source": [
    "# importing some needed libraries\n",
    "\n",
    "import pandas as pd\n",
    "import seaborn as sns\n",
    "import numpy as np\n",
    "import matplotlib.pyplot as plt\n",
    "import plotly.offline as ply\n",
    "import plotly.express as px\n",
    "\n",
    "\n",
    "pd.set_option(\"display.max_rows\",None)\n",
    "pd.set_option(\"display.max_columns\",None)"
   ]
  },
  {
   "cell_type": "code",
   "execution_count": 2,
   "metadata": {},
   "outputs": [],
   "source": [
    "# importing dataset into two dataframes so that we could work on one and keep one for references"
   ]
  },
  {
   "cell_type": "code",
   "execution_count": 3,
   "metadata": {},
   "outputs": [],
   "source": [
    "jobs=pd.read_csv(\"C:\\\\Users\\Asus\\\\Downloads\\\\Compressed\\\\new-york-city-current-job-postings\\\\nyc-jobs.csv\")"
   ]
  },
  {
   "cell_type": "code",
   "execution_count": 4,
   "metadata": {},
   "outputs": [],
   "source": [
    "jbdata=pd.read_csv(\"C:\\\\Users\\Asus\\\\Downloads\\\\Compressed\\\\new-york-city-current-job-postings\\\\nyc-jobs.csv\")"
   ]
  },
  {
   "cell_type": "code",
   "execution_count": 5,
   "metadata": {},
   "outputs": [],
   "source": [
    "#Checking the top view of our data "
   ]
  },
  {
   "cell_type": "code",
   "execution_count": 6,
   "metadata": {},
   "outputs": [
    {
     "data": {
      "text/html": [
       "<div>\n",
       "<style scoped>\n",
       "    .dataframe tbody tr th:only-of-type {\n",
       "        vertical-align: middle;\n",
       "    }\n",
       "\n",
       "    .dataframe tbody tr th {\n",
       "        vertical-align: top;\n",
       "    }\n",
       "\n",
       "    .dataframe thead th {\n",
       "        text-align: right;\n",
       "    }\n",
       "</style>\n",
       "<table border=\"1\" class=\"dataframe\">\n",
       "  <thead>\n",
       "    <tr style=\"text-align: right;\">\n",
       "      <th></th>\n",
       "      <th>Job ID</th>\n",
       "      <th>Agency</th>\n",
       "      <th>Posting Type</th>\n",
       "      <th># Of Positions</th>\n",
       "      <th>Business Title</th>\n",
       "      <th>Civil Service Title</th>\n",
       "      <th>Title Code No</th>\n",
       "      <th>Level</th>\n",
       "      <th>Job Category</th>\n",
       "      <th>Full-Time/Part-Time indicator</th>\n",
       "      <th>Salary Range From</th>\n",
       "      <th>Salary Range To</th>\n",
       "      <th>Salary Frequency</th>\n",
       "      <th>Work Location</th>\n",
       "      <th>Division/Work Unit</th>\n",
       "      <th>Job Description</th>\n",
       "      <th>Minimum Qual Requirements</th>\n",
       "      <th>Preferred Skills</th>\n",
       "      <th>Additional Information</th>\n",
       "      <th>To Apply</th>\n",
       "      <th>Hours/Shift</th>\n",
       "      <th>Work Location 1</th>\n",
       "      <th>Recruitment Contact</th>\n",
       "      <th>Residency Requirement</th>\n",
       "      <th>Posting Date</th>\n",
       "      <th>Post Until</th>\n",
       "      <th>Posting Updated</th>\n",
       "      <th>Process Date</th>\n",
       "    </tr>\n",
       "  </thead>\n",
       "  <tbody>\n",
       "    <tr>\n",
       "      <th>0</th>\n",
       "      <td>87990</td>\n",
       "      <td>DEPARTMENT OF BUSINESS SERV.</td>\n",
       "      <td>Internal</td>\n",
       "      <td>1</td>\n",
       "      <td>Account Manager</td>\n",
       "      <td>CONTRACT REVIEWER (OFFICE OF L</td>\n",
       "      <td>40563</td>\n",
       "      <td>1</td>\n",
       "      <td>NaN</td>\n",
       "      <td>NaN</td>\n",
       "      <td>42405.00</td>\n",
       "      <td>65485.00</td>\n",
       "      <td>Annual</td>\n",
       "      <td>110 William St. N Y</td>\n",
       "      <td>Strategy &amp; Analytics</td>\n",
       "      <td>Division of Economic &amp; Financial Opportunity (...</td>\n",
       "      <td>1.\\tA baccalaureate degree from an accredited ...</td>\n",
       "      <td>â€¢\\tExcellent interpersonal and organizationa...</td>\n",
       "      <td>Salary range for this position is: $42,405 - $...</td>\n",
       "      <td>NaN</td>\n",
       "      <td>NaN</td>\n",
       "      <td>NaN</td>\n",
       "      <td>NaN</td>\n",
       "      <td>New York City residency is generally required ...</td>\n",
       "      <td>2011-06-24T00:00:00.000</td>\n",
       "      <td>NaN</td>\n",
       "      <td>2011-06-24T00:00:00.000</td>\n",
       "      <td>2019-07-30T00:00:00.000</td>\n",
       "    </tr>\n",
       "    <tr>\n",
       "      <th>1</th>\n",
       "      <td>97899</td>\n",
       "      <td>DEPARTMENT OF BUSINESS SERV.</td>\n",
       "      <td>Internal</td>\n",
       "      <td>1</td>\n",
       "      <td>EXECUTIVE DIRECTOR, BUSINESS DEVELOPMENT</td>\n",
       "      <td>ADMINISTRATIVE BUSINESS PROMOT</td>\n",
       "      <td>10009</td>\n",
       "      <td>M3</td>\n",
       "      <td>NaN</td>\n",
       "      <td>F</td>\n",
       "      <td>60740.00</td>\n",
       "      <td>162014.00</td>\n",
       "      <td>Annual</td>\n",
       "      <td>110 William St. N Y</td>\n",
       "      <td>Tech Talent Pipeline</td>\n",
       "      <td>The New York City Department of Small Business...</td>\n",
       "      <td>1. A baccalaureate degree from an accredited c...</td>\n",
       "      <td>NaN</td>\n",
       "      <td>NaN</td>\n",
       "      <td>In addition to applying through this website, ...</td>\n",
       "      <td>NaN</td>\n",
       "      <td>NaN</td>\n",
       "      <td>NaN</td>\n",
       "      <td>New York City residency is generally required ...</td>\n",
       "      <td>2012-01-26T00:00:00.000</td>\n",
       "      <td>NaN</td>\n",
       "      <td>2012-01-26T00:00:00.000</td>\n",
       "      <td>2019-07-30T00:00:00.000</td>\n",
       "    </tr>\n",
       "    <tr>\n",
       "      <th>2</th>\n",
       "      <td>132292</td>\n",
       "      <td>NYC HOUSING AUTHORITY</td>\n",
       "      <td>External</td>\n",
       "      <td>52</td>\n",
       "      <td>Maintenance Worker - Technical Services-Heatin...</td>\n",
       "      <td>MAINTENANCE WORKER</td>\n",
       "      <td>90698</td>\n",
       "      <td>0</td>\n",
       "      <td>Maintenance &amp; Operations</td>\n",
       "      <td>F</td>\n",
       "      <td>51907.68</td>\n",
       "      <td>54580.32</td>\n",
       "      <td>Annual</td>\n",
       "      <td>Heating Mgt-Operations</td>\n",
       "      <td>Management Services Department</td>\n",
       "      <td>Under direct supervision, assist in the routin...</td>\n",
       "      <td>1. Three years of full-time satisfactory exper...</td>\n",
       "      <td>1.  A High School Diploma or GED.  2.  CDL Dri...</td>\n",
       "      <td>1.  A Motor Vehicle Driverâ€™s License valid i...</td>\n",
       "      <td>Click the \"Apply Now\" button.</td>\n",
       "      <td>NaN</td>\n",
       "      <td>NaN</td>\n",
       "      <td>NaN</td>\n",
       "      <td>NYCHA has no residency requirements.</td>\n",
       "      <td>2013-10-24T00:00:00.000</td>\n",
       "      <td>NaN</td>\n",
       "      <td>2013-12-12T00:00:00.000</td>\n",
       "      <td>2019-07-30T00:00:00.000</td>\n",
       "    </tr>\n",
       "    <tr>\n",
       "      <th>3</th>\n",
       "      <td>132292</td>\n",
       "      <td>NYC HOUSING AUTHORITY</td>\n",
       "      <td>Internal</td>\n",
       "      <td>52</td>\n",
       "      <td>Maintenance Worker - Technical Services-Heatin...</td>\n",
       "      <td>MAINTENANCE WORKER</td>\n",
       "      <td>90698</td>\n",
       "      <td>0</td>\n",
       "      <td>Maintenance &amp; Operations</td>\n",
       "      <td>F</td>\n",
       "      <td>51907.68</td>\n",
       "      <td>54580.32</td>\n",
       "      <td>Annual</td>\n",
       "      <td>Heating Mgt-Operations</td>\n",
       "      <td>Management Services Department</td>\n",
       "      <td>Under direct supervision, assist in the routin...</td>\n",
       "      <td>1. Three years of full-time satisfactory exper...</td>\n",
       "      <td>1.  A High School Diploma or GED.  2.  CDL Dri...</td>\n",
       "      <td>1.  A Motor Vehicle Driverâ€™s License valid i...</td>\n",
       "      <td>Click the \"Apply Now\" button.</td>\n",
       "      <td>NaN</td>\n",
       "      <td>NaN</td>\n",
       "      <td>NaN</td>\n",
       "      <td>NYCHA has no residency requirements.</td>\n",
       "      <td>2013-10-24T00:00:00.000</td>\n",
       "      <td>NaN</td>\n",
       "      <td>2013-12-12T00:00:00.000</td>\n",
       "      <td>2019-07-30T00:00:00.000</td>\n",
       "    </tr>\n",
       "    <tr>\n",
       "      <th>4</th>\n",
       "      <td>133921</td>\n",
       "      <td>NYC HOUSING AUTHORITY</td>\n",
       "      <td>Internal</td>\n",
       "      <td>50</td>\n",
       "      <td>Temporary Painter</td>\n",
       "      <td>PAINTER</td>\n",
       "      <td>91830</td>\n",
       "      <td>0</td>\n",
       "      <td>Maintenance &amp; Operations</td>\n",
       "      <td>F</td>\n",
       "      <td>35.00</td>\n",
       "      <td>35.00</td>\n",
       "      <td>Hourly</td>\n",
       "      <td>DMP-Contract &amp; Analysis Unit</td>\n",
       "      <td>Dept of Management &amp; Planning</td>\n",
       "      <td>Responsibilities of selected candidates will i...</td>\n",
       "      <td>1. Five years of full-time satisfactory experi...</td>\n",
       "      <td>NaN</td>\n",
       "      <td>SPECIAL NOTE:    1.  This is a temporary assig...</td>\n",
       "      <td>Click the \"Apply Now\" button.</td>\n",
       "      <td>NaN</td>\n",
       "      <td>NaN</td>\n",
       "      <td>NaN</td>\n",
       "      <td>NYCHA has no residency requirement.</td>\n",
       "      <td>2014-01-09T00:00:00.000</td>\n",
       "      <td>NaN</td>\n",
       "      <td>2014-01-08T00:00:00.000</td>\n",
       "      <td>2019-07-30T00:00:00.000</td>\n",
       "    </tr>\n",
       "  </tbody>\n",
       "</table>\n",
       "</div>"
      ],
      "text/plain": [
       "   Job ID                        Agency Posting Type  # Of Positions  \\\n",
       "0   87990  DEPARTMENT OF BUSINESS SERV.     Internal               1   \n",
       "1   97899  DEPARTMENT OF BUSINESS SERV.     Internal               1   \n",
       "2  132292         NYC HOUSING AUTHORITY     External              52   \n",
       "3  132292         NYC HOUSING AUTHORITY     Internal              52   \n",
       "4  133921         NYC HOUSING AUTHORITY     Internal              50   \n",
       "\n",
       "                                      Business Title  \\\n",
       "0                                    Account Manager   \n",
       "1           EXECUTIVE DIRECTOR, BUSINESS DEVELOPMENT   \n",
       "2  Maintenance Worker - Technical Services-Heatin...   \n",
       "3  Maintenance Worker - Technical Services-Heatin...   \n",
       "4                                  Temporary Painter   \n",
       "\n",
       "              Civil Service Title Title Code No Level  \\\n",
       "0  CONTRACT REVIEWER (OFFICE OF L         40563     1   \n",
       "1  ADMINISTRATIVE BUSINESS PROMOT         10009    M3   \n",
       "2              MAINTENANCE WORKER         90698     0   \n",
       "3              MAINTENANCE WORKER         90698     0   \n",
       "4                         PAINTER         91830     0   \n",
       "\n",
       "               Job Category Full-Time/Part-Time indicator  Salary Range From  \\\n",
       "0                       NaN                           NaN           42405.00   \n",
       "1                       NaN                             F           60740.00   \n",
       "2  Maintenance & Operations                             F           51907.68   \n",
       "3  Maintenance & Operations                             F           51907.68   \n",
       "4  Maintenance & Operations                             F              35.00   \n",
       "\n",
       "   Salary Range To Salary Frequency                 Work Location  \\\n",
       "0         65485.00           Annual           110 William St. N Y   \n",
       "1        162014.00           Annual           110 William St. N Y   \n",
       "2         54580.32           Annual        Heating Mgt-Operations   \n",
       "3         54580.32           Annual        Heating Mgt-Operations   \n",
       "4            35.00           Hourly  DMP-Contract & Analysis Unit   \n",
       "\n",
       "               Division/Work Unit  \\\n",
       "0            Strategy & Analytics   \n",
       "1            Tech Talent Pipeline   \n",
       "2  Management Services Department   \n",
       "3  Management Services Department   \n",
       "4   Dept of Management & Planning   \n",
       "\n",
       "                                     Job Description  \\\n",
       "0  Division of Economic & Financial Opportunity (...   \n",
       "1  The New York City Department of Small Business...   \n",
       "2  Under direct supervision, assist in the routin...   \n",
       "3  Under direct supervision, assist in the routin...   \n",
       "4  Responsibilities of selected candidates will i...   \n",
       "\n",
       "                           Minimum Qual Requirements  \\\n",
       "0  1.\\tA baccalaureate degree from an accredited ...   \n",
       "1  1. A baccalaureate degree from an accredited c...   \n",
       "2  1. Three years of full-time satisfactory exper...   \n",
       "3  1. Three years of full-time satisfactory exper...   \n",
       "4  1. Five years of full-time satisfactory experi...   \n",
       "\n",
       "                                    Preferred Skills  \\\n",
       "0  â€¢\\tExcellent interpersonal and organizationa...   \n",
       "1                                                NaN   \n",
       "2  1.  A High School Diploma or GED.  2.  CDL Dri...   \n",
       "3  1.  A High School Diploma or GED.  2.  CDL Dri...   \n",
       "4                                                NaN   \n",
       "\n",
       "                              Additional Information  \\\n",
       "0  Salary range for this position is: $42,405 - $...   \n",
       "1                                                NaN   \n",
       "2  1.  A Motor Vehicle Driverâ€™s License valid i...   \n",
       "3  1.  A Motor Vehicle Driverâ€™s License valid i...   \n",
       "4  SPECIAL NOTE:    1.  This is a temporary assig...   \n",
       "\n",
       "                                            To Apply Hours/Shift  \\\n",
       "0                                                NaN         NaN   \n",
       "1  In addition to applying through this website, ...         NaN   \n",
       "2                      Click the \"Apply Now\" button.         NaN   \n",
       "3                      Click the \"Apply Now\" button.         NaN   \n",
       "4                      Click the \"Apply Now\" button.         NaN   \n",
       "\n",
       "  Work Location 1  Recruitment Contact  \\\n",
       "0             NaN                  NaN   \n",
       "1             NaN                  NaN   \n",
       "2             NaN                  NaN   \n",
       "3             NaN                  NaN   \n",
       "4             NaN                  NaN   \n",
       "\n",
       "                               Residency Requirement             Posting Date  \\\n",
       "0  New York City residency is generally required ...  2011-06-24T00:00:00.000   \n",
       "1  New York City residency is generally required ...  2012-01-26T00:00:00.000   \n",
       "2               NYCHA has no residency requirements.  2013-10-24T00:00:00.000   \n",
       "3               NYCHA has no residency requirements.  2013-10-24T00:00:00.000   \n",
       "4                NYCHA has no residency requirement.  2014-01-09T00:00:00.000   \n",
       "\n",
       "  Post Until          Posting Updated             Process Date  \n",
       "0        NaN  2011-06-24T00:00:00.000  2019-07-30T00:00:00.000  \n",
       "1        NaN  2012-01-26T00:00:00.000  2019-07-30T00:00:00.000  \n",
       "2        NaN  2013-12-12T00:00:00.000  2019-07-30T00:00:00.000  \n",
       "3        NaN  2013-12-12T00:00:00.000  2019-07-30T00:00:00.000  \n",
       "4        NaN  2014-01-08T00:00:00.000  2019-07-30T00:00:00.000  "
      ]
     },
     "execution_count": 6,
     "metadata": {},
     "output_type": "execute_result"
    }
   ],
   "source": [
    "jbdata.head()"
   ]
  },
  {
   "cell_type": "code",
   "execution_count": 7,
   "metadata": {},
   "outputs": [],
   "source": [
    "#checking the name of columns present in data"
   ]
  },
  {
   "cell_type": "code",
   "execution_count": 8,
   "metadata": {},
   "outputs": [
    {
     "data": {
      "text/plain": [
       "Index(['Job ID', 'Agency', 'Posting Type', '# Of Positions', 'Business Title',\n",
       "       'Civil Service Title', 'Title Code No', 'Level', 'Job Category',\n",
       "       'Full-Time/Part-Time indicator', 'Salary Range From', 'Salary Range To',\n",
       "       'Salary Frequency', 'Work Location', 'Division/Work Unit',\n",
       "       'Job Description', 'Minimum Qual Requirements', 'Preferred Skills',\n",
       "       'Additional Information', 'To Apply', 'Hours/Shift', 'Work Location 1',\n",
       "       'Recruitment Contact', 'Residency Requirement', 'Posting Date',\n",
       "       'Post Until', 'Posting Updated', 'Process Date'],\n",
       "      dtype='object')"
      ]
     },
     "execution_count": 8,
     "metadata": {},
     "output_type": "execute_result"
    }
   ],
   "source": [
    "jobs.columns"
   ]
  },
  {
   "cell_type": "code",
   "execution_count": 9,
   "metadata": {},
   "outputs": [],
   "source": [
    "#checking the data types of columns"
   ]
  },
  {
   "cell_type": "code",
   "execution_count": 10,
   "metadata": {},
   "outputs": [
    {
     "data": {
      "text/plain": [
       "Job ID                             int64\n",
       "Agency                            object\n",
       "Posting Type                      object\n",
       "# Of Positions                     int64\n",
       "Business Title                    object\n",
       "Civil Service Title               object\n",
       "Title Code No                     object\n",
       "Level                             object\n",
       "Job Category                      object\n",
       "Full-Time/Part-Time indicator     object\n",
       "Salary Range From                float64\n",
       "Salary Range To                  float64\n",
       "Salary Frequency                  object\n",
       "Work Location                     object\n",
       "Division/Work Unit                object\n",
       "Job Description                   object\n",
       "Minimum Qual Requirements         object\n",
       "Preferred Skills                  object\n",
       "Additional Information            object\n",
       "To Apply                          object\n",
       "Hours/Shift                       object\n",
       "Work Location 1                   object\n",
       "Recruitment Contact              float64\n",
       "Residency Requirement             object\n",
       "Posting Date                      object\n",
       "Post Until                        object\n",
       "Posting Updated                   object\n",
       "Process Date                      object\n",
       "dtype: object"
      ]
     },
     "execution_count": 10,
     "metadata": {},
     "output_type": "execute_result"
    }
   ],
   "source": [
    "jbdata.dtypes"
   ]
  },
  {
   "cell_type": "code",
   "execution_count": 11,
   "metadata": {},
   "outputs": [],
   "source": [
    "# before we move on to next step lets convert the data types of salary columns to integer"
   ]
  },
  {
   "cell_type": "code",
   "execution_count": 12,
   "metadata": {},
   "outputs": [],
   "source": [
    "jbdata=jbdata.astype({\"Salary Range From\":\"int32\"})"
   ]
  },
  {
   "cell_type": "code",
   "execution_count": 13,
   "metadata": {},
   "outputs": [],
   "source": [
    "#rechecking if the data types has been changed or not"
   ]
  },
  {
   "cell_type": "code",
   "execution_count": 14,
   "metadata": {},
   "outputs": [
    {
     "data": {
      "text/plain": [
       "Job ID                             int64\n",
       "Agency                            object\n",
       "Posting Type                      object\n",
       "# Of Positions                     int64\n",
       "Business Title                    object\n",
       "Civil Service Title               object\n",
       "Title Code No                     object\n",
       "Level                             object\n",
       "Job Category                      object\n",
       "Full-Time/Part-Time indicator     object\n",
       "Salary Range From                  int32\n",
       "Salary Range To                  float64\n",
       "Salary Frequency                  object\n",
       "Work Location                     object\n",
       "Division/Work Unit                object\n",
       "Job Description                   object\n",
       "Minimum Qual Requirements         object\n",
       "Preferred Skills                  object\n",
       "Additional Information            object\n",
       "To Apply                          object\n",
       "Hours/Shift                       object\n",
       "Work Location 1                   object\n",
       "Recruitment Contact              float64\n",
       "Residency Requirement             object\n",
       "Posting Date                      object\n",
       "Post Until                        object\n",
       "Posting Updated                   object\n",
       "Process Date                      object\n",
       "dtype: object"
      ]
     },
     "execution_count": 14,
     "metadata": {},
     "output_type": "execute_result"
    }
   ],
   "source": [
    "jbdata.dtypes      # yes it has been changed and so lets move further"
   ]
  },
  {
   "cell_type": "code",
   "execution_count": 15,
   "metadata": {},
   "outputs": [],
   "source": [
    "jbdata=jbdata.astype({\"Salary Range To\":\"int32\"})      # converting the \"salary range to\" column data type"
   ]
  },
  {
   "cell_type": "code",
   "execution_count": 16,
   "metadata": {},
   "outputs": [
    {
     "data": {
      "text/plain": [
       "Job ID                              0\n",
       "Agency                              0\n",
       "Posting Type                        0\n",
       "# Of Positions                      0\n",
       "Business Title                      0\n",
       "Civil Service Title                 0\n",
       "Title Code No                       0\n",
       "Level                               0\n",
       "Job Category                        2\n",
       "Full-Time/Part-Time indicator     269\n",
       "Salary Range From                   0\n",
       "Salary Range To                     0\n",
       "Salary Frequency                    0\n",
       "Work Location                       0\n",
       "Division/Work Unit                  0\n",
       "Job Description                     0\n",
       "Minimum Qual Requirements          12\n",
       "Preferred Skills                  375\n",
       "Additional Information           1186\n",
       "To Apply                            1\n",
       "Hours/Shift                      2106\n",
       "Work Location 1                  1695\n",
       "Recruitment Contact              3123\n",
       "Residency Requirement               0\n",
       "Posting Date                        0\n",
       "Post Until                       2237\n",
       "Posting Updated                     0\n",
       "Process Date                        0\n",
       "dtype: int64"
      ]
     },
     "execution_count": 16,
     "metadata": {},
     "output_type": "execute_result"
    }
   ],
   "source": [
    "jbdata.isnull().sum()"
   ]
  },
  {
   "cell_type": "code",
   "execution_count": 17,
   "metadata": {},
   "outputs": [],
   "source": [
    "# so hence there are no null values in both columns we can now calculate average range from them grouped by agency"
   ]
  },
  {
   "cell_type": "code",
   "execution_count": 18,
   "metadata": {},
   "outputs": [
    {
     "data": {
      "text/html": [
       "<div>\n",
       "<style scoped>\n",
       "    .dataframe tbody tr th:only-of-type {\n",
       "        vertical-align: middle;\n",
       "    }\n",
       "\n",
       "    .dataframe tbody tr th {\n",
       "        vertical-align: top;\n",
       "    }\n",
       "\n",
       "    .dataframe thead th {\n",
       "        text-align: right;\n",
       "    }\n",
       "</style>\n",
       "<table border=\"1\" class=\"dataframe\">\n",
       "  <thead>\n",
       "    <tr style=\"text-align: right;\">\n",
       "      <th></th>\n",
       "      <th>Salary Range To</th>\n",
       "      <th>Salary Range From</th>\n",
       "    </tr>\n",
       "    <tr>\n",
       "      <th>Agency</th>\n",
       "      <th></th>\n",
       "      <th></th>\n",
       "    </tr>\n",
       "  </thead>\n",
       "  <tbody>\n",
       "    <tr>\n",
       "      <th>ADMIN FOR CHILDREN'S SVCS</th>\n",
       "      <td>88491.710843</td>\n",
       "      <td>61502.662651</td>\n",
       "    </tr>\n",
       "    <tr>\n",
       "      <th>ADMIN TRIALS AND HEARINGS</th>\n",
       "      <td>33060.482759</td>\n",
       "      <td>27365.206897</td>\n",
       "    </tr>\n",
       "    <tr>\n",
       "      <th>BOARD OF CORRECTION</th>\n",
       "      <td>92640.500000</td>\n",
       "      <td>77469.750000</td>\n",
       "    </tr>\n",
       "    <tr>\n",
       "      <th>BOROUGH PRESIDENT-QUEENS</th>\n",
       "      <td>70491.714286</td>\n",
       "      <td>48314.714286</td>\n",
       "    </tr>\n",
       "    <tr>\n",
       "      <th>BUSINESS INTEGRITY COMMISSION</th>\n",
       "      <td>86428.571429</td>\n",
       "      <td>74949.000000</td>\n",
       "    </tr>\n",
       "  </tbody>\n",
       "</table>\n",
       "</div>"
      ],
      "text/plain": [
       "                               Salary Range To  Salary Range From\n",
       "Agency                                                           \n",
       "ADMIN FOR CHILDREN'S SVCS         88491.710843       61502.662651\n",
       "ADMIN TRIALS AND HEARINGS         33060.482759       27365.206897\n",
       "BOARD OF CORRECTION               92640.500000       77469.750000\n",
       "BOROUGH PRESIDENT-QUEENS          70491.714286       48314.714286\n",
       "BUSINESS INTEGRITY COMMISSION     86428.571429       74949.000000"
      ]
     },
     "execution_count": 18,
     "metadata": {},
     "output_type": "execute_result"
    }
   ],
   "source": [
    "jbdata[[\"Agency\",\"Salary Range From\",\"Salary Range To\"]].groupby(by=\"Agency\")[\"Salary Range To\",\"Salary Range From\"].mean().head()"
   ]
  },
  {
   "cell_type": "code",
   "execution_count": 19,
   "metadata": {},
   "outputs": [],
   "source": [
    "# now lets store this data frame in seperate variable and calculate Average salary for each agency and try plotting the data"
   ]
  },
  {
   "cell_type": "code",
   "execution_count": 20,
   "metadata": {},
   "outputs": [],
   "source": [
    "rngmean=jbdata.groupby(by=[\"Agency\",\"Full-Time/Part-Time indicator\"])[\"Salary Range To\",\"Salary Range From\"].mean()"
   ]
  },
  {
   "cell_type": "code",
   "execution_count": 21,
   "metadata": {},
   "outputs": [],
   "source": [
    "rngmean[\"Average Salary\"]=(rngmean[\"Salary Range From\"]+rngmean[\"Salary Range To\"])/2"
   ]
  },
  {
   "cell_type": "code",
   "execution_count": 22,
   "metadata": {},
   "outputs": [
    {
     "data": {
      "text/html": [
       "<div>\n",
       "<style scoped>\n",
       "    .dataframe tbody tr th:only-of-type {\n",
       "        vertical-align: middle;\n",
       "    }\n",
       "\n",
       "    .dataframe tbody tr th {\n",
       "        vertical-align: top;\n",
       "    }\n",
       "\n",
       "    .dataframe thead th {\n",
       "        text-align: right;\n",
       "    }\n",
       "</style>\n",
       "<table border=\"1\" class=\"dataframe\">\n",
       "  <thead>\n",
       "    <tr style=\"text-align: right;\">\n",
       "      <th></th>\n",
       "      <th></th>\n",
       "      <th>Salary Range To</th>\n",
       "      <th>Salary Range From</th>\n",
       "      <th>Average Salary</th>\n",
       "    </tr>\n",
       "    <tr>\n",
       "      <th>Agency</th>\n",
       "      <th>Full-Time/Part-Time indicator</th>\n",
       "      <th></th>\n",
       "      <th></th>\n",
       "      <th></th>\n",
       "    </tr>\n",
       "  </thead>\n",
       "  <tbody>\n",
       "    <tr>\n",
       "      <th>ADMIN FOR CHILDREN'S SVCS</th>\n",
       "      <th>F</th>\n",
       "      <td>86665.949367</td>\n",
       "      <td>61256.189873</td>\n",
       "      <td>73961.069620</td>\n",
       "    </tr>\n",
       "    <tr>\n",
       "      <th rowspan=\"2\" valign=\"top\">ADMIN TRIALS AND HEARINGS</th>\n",
       "      <th>F</th>\n",
       "      <td>59900.500000</td>\n",
       "      <td>49579.750000</td>\n",
       "      <td>54740.125000</td>\n",
       "    </tr>\n",
       "    <tr>\n",
       "      <th>P</th>\n",
       "      <td>28.363636</td>\n",
       "      <td>25.909091</td>\n",
       "      <td>27.136364</td>\n",
       "    </tr>\n",
       "    <tr>\n",
       "      <th>BOARD OF CORRECTION</th>\n",
       "      <th>F</th>\n",
       "      <td>92853.666667</td>\n",
       "      <td>78858.000000</td>\n",
       "      <td>85855.833333</td>\n",
       "    </tr>\n",
       "    <tr>\n",
       "      <th>BOROUGH PRESIDENT-QUEENS</th>\n",
       "      <th>F</th>\n",
       "      <td>74810.800000</td>\n",
       "      <td>48492.600000</td>\n",
       "      <td>61651.700000</td>\n",
       "    </tr>\n",
       "  </tbody>\n",
       "</table>\n",
       "</div>"
      ],
      "text/plain": [
       "                                                         Salary Range To  \\\n",
       "Agency                    Full-Time/Part-Time indicator                    \n",
       "ADMIN FOR CHILDREN'S SVCS F                                 86665.949367   \n",
       "ADMIN TRIALS AND HEARINGS F                                 59900.500000   \n",
       "                          P                                    28.363636   \n",
       "BOARD OF CORRECTION       F                                 92853.666667   \n",
       "BOROUGH PRESIDENT-QUEENS  F                                 74810.800000   \n",
       "\n",
       "                                                         Salary Range From  \\\n",
       "Agency                    Full-Time/Part-Time indicator                      \n",
       "ADMIN FOR CHILDREN'S SVCS F                                   61256.189873   \n",
       "ADMIN TRIALS AND HEARINGS F                                   49579.750000   \n",
       "                          P                                      25.909091   \n",
       "BOARD OF CORRECTION       F                                   78858.000000   \n",
       "BOROUGH PRESIDENT-QUEENS  F                                   48492.600000   \n",
       "\n",
       "                                                         Average Salary  \n",
       "Agency                    Full-Time/Part-Time indicator                  \n",
       "ADMIN FOR CHILDREN'S SVCS F                                73961.069620  \n",
       "ADMIN TRIALS AND HEARINGS F                                54740.125000  \n",
       "                          P                                   27.136364  \n",
       "BOARD OF CORRECTION       F                                85855.833333  \n",
       "BOROUGH PRESIDENT-QUEENS  F                                61651.700000  "
      ]
     },
     "execution_count": 22,
     "metadata": {},
     "output_type": "execute_result"
    }
   ],
   "source": [
    "rngmean.head()    # this will group the average salary based on \"Agency\" and \"Full/Part time indicator\""
   ]
  },
  {
   "cell_type": "code",
   "execution_count": 23,
   "metadata": {},
   "outputs": [],
   "source": [
    "rngmean.reset_index(inplace=True)"
   ]
  },
  {
   "cell_type": "code",
   "execution_count": 46,
   "metadata": {},
   "outputs": [
    {
     "data": {
      "text/html": [
       "<div>\n",
       "<style scoped>\n",
       "    .dataframe tbody tr th:only-of-type {\n",
       "        vertical-align: middle;\n",
       "    }\n",
       "\n",
       "    .dataframe tbody tr th {\n",
       "        vertical-align: top;\n",
       "    }\n",
       "\n",
       "    .dataframe thead th {\n",
       "        text-align: right;\n",
       "    }\n",
       "</style>\n",
       "<table border=\"1\" class=\"dataframe\">\n",
       "  <thead>\n",
       "    <tr style=\"text-align: right;\">\n",
       "      <th></th>\n",
       "      <th>Agency</th>\n",
       "      <th>Full-Time/Part-Time indicator</th>\n",
       "      <th>Salary Range To</th>\n",
       "      <th>Salary Range From</th>\n",
       "      <th>Average Salary</th>\n",
       "    </tr>\n",
       "  </thead>\n",
       "  <tbody>\n",
       "    <tr>\n",
       "      <th>0</th>\n",
       "      <td>ADMIN FOR CHILDREN'S SVCS</td>\n",
       "      <td>F</td>\n",
       "      <td>86665.949367</td>\n",
       "      <td>61256.189873</td>\n",
       "      <td>73961.069620</td>\n",
       "    </tr>\n",
       "    <tr>\n",
       "      <th>1</th>\n",
       "      <td>ADMIN TRIALS AND HEARINGS</td>\n",
       "      <td>F</td>\n",
       "      <td>59900.500000</td>\n",
       "      <td>49579.750000</td>\n",
       "      <td>54740.125000</td>\n",
       "    </tr>\n",
       "    <tr>\n",
       "      <th>2</th>\n",
       "      <td>ADMIN TRIALS AND HEARINGS</td>\n",
       "      <td>P</td>\n",
       "      <td>28.363636</td>\n",
       "      <td>25.909091</td>\n",
       "      <td>27.136364</td>\n",
       "    </tr>\n",
       "    <tr>\n",
       "      <th>3</th>\n",
       "      <td>BOARD OF CORRECTION</td>\n",
       "      <td>F</td>\n",
       "      <td>92853.666667</td>\n",
       "      <td>78858.000000</td>\n",
       "      <td>85855.833333</td>\n",
       "    </tr>\n",
       "    <tr>\n",
       "      <th>4</th>\n",
       "      <td>BOROUGH PRESIDENT-QUEENS</td>\n",
       "      <td>F</td>\n",
       "      <td>74810.800000</td>\n",
       "      <td>48492.600000</td>\n",
       "      <td>61651.700000</td>\n",
       "    </tr>\n",
       "  </tbody>\n",
       "</table>\n",
       "</div>"
      ],
      "text/plain": [
       "                      Agency Full-Time/Part-Time indicator  Salary Range To  \\\n",
       "0  ADMIN FOR CHILDREN'S SVCS                             F     86665.949367   \n",
       "1  ADMIN TRIALS AND HEARINGS                             F     59900.500000   \n",
       "2  ADMIN TRIALS AND HEARINGS                             P        28.363636   \n",
       "3        BOARD OF CORRECTION                             F     92853.666667   \n",
       "4   BOROUGH PRESIDENT-QUEENS                             F     74810.800000   \n",
       "\n",
       "   Salary Range From  Average Salary  \n",
       "0       61256.189873    73961.069620  \n",
       "1       49579.750000    54740.125000  \n",
       "2          25.909091       27.136364  \n",
       "3       78858.000000    85855.833333  \n",
       "4       48492.600000    61651.700000  "
      ]
     },
     "execution_count": 46,
     "metadata": {},
     "output_type": "execute_result"
    }
   ],
   "source": [
    "rngmean.head()"
   ]
  },
  {
   "cell_type": "code",
   "execution_count": 57,
   "metadata": {},
   "outputs": [
    {
     "data": {
      "text/plain": [
       "OFFICE OF MANAGEMENT & BUDGET     2\n",
       "NYC HOUSING AUTHORITY             2\n",
       "DEPARTMENT OF FINANCE             2\n",
       "DEPT OF RECORDS & INFO SERVICE    2\n",
       "TAXI & LIMOUSINE COMMISSION       2\n",
       "Name: Agency, dtype: int64"
      ]
     },
     "execution_count": 57,
     "metadata": {},
     "output_type": "execute_result"
    }
   ],
   "source": [
    "rngmean.Agency.value_counts().head()"
   ]
  },
  {
   "cell_type": "code",
   "execution_count": 32,
   "metadata": {},
   "outputs": [
    {
     "data": {
      "text/plain": [
       "F    53\n",
       "P    20\n",
       "Name: Full-Time/Part-Time indicator, dtype: int64"
      ]
     },
     "execution_count": 32,
     "metadata": {},
     "output_type": "execute_result"
    }
   ],
   "source": [
    "rngmean[\"Full-Time/Part-Time indicator\"].value_counts()"
   ]
  },
  {
   "cell_type": "code",
   "execution_count": 50,
   "metadata": {},
   "outputs": [
    {
     "data": {
      "application/vnd.plotly.v1+json": {
       "config": {
        "plotlyServerURL": "https://plot.ly"
       },
       "data": [
        {
         "alignmentgroup": "True",
         "hoverlabel": {
          "namelength": 0
         },
         "hovertemplate": "Full-Time/Part-Time indicator=F<br>Agency=%{x}<br>Average Salary=%{y}",
         "legendgroup": "Full-Time/Part-Time indicator=F",
         "marker": {
          "color": "#636efa",
          "opacity": 0.5
         },
         "name": "Full-Time/Part-Time indicator=F",
         "offsetgroup": "Full-Time/Part-Time indicator=F",
         "orientation": "v",
         "showlegend": true,
         "textposition": "auto",
         "type": "bar",
         "x": [
          "ADMIN FOR CHILDREN'S SVCS",
          "ADMIN TRIALS AND HEARINGS",
          "BOARD OF CORRECTION",
          "BOROUGH PRESIDENT-QUEENS",
          "BUSINESS INTEGRITY COMMISSION",
          "CIVILIAN COMPLAINT REVIEW BD",
          "CONFLICTS OF INTEREST BOARD",
          "CONSUMER AFFAIRS",
          "DEPARTMENT FOR THE AGING",
          "DEPARTMENT OF BUILDINGS",
          "DEPARTMENT OF BUSINESS SERV.",
          "DEPARTMENT OF CITY PLANNING",
          "DEPARTMENT OF CORRECTION",
          "DEPARTMENT OF FINANCE",
          "DEPARTMENT OF INVESTIGATION",
          "DEPARTMENT OF PROBATION",
          "DEPARTMENT OF SANITATION",
          "DEPARTMENT OF TRANSPORTATION",
          "DEPT OF CITYWIDE ADMIN SVCS",
          "DEPT OF DESIGN & CONSTRUCTION",
          "DEPT OF ENVIRONMENT PROTECTION",
          "DEPT OF HEALTH/MENTAL HYGIENE",
          "DEPT OF INFO TECH & TELECOMM",
          "DEPT OF PARKS & RECREATION",
          "DEPT OF RECORDS & INFO SERVICE",
          "DEPT OF YOUTH & COMM DEV SRVS",
          "DEPT. OF HOMELESS SERVICES",
          "DISTRICT ATTORNEY KINGS COUNTY",
          "DISTRICT ATTORNEY RICHMOND COU",
          "EQUAL EMPLOY PRACTICES COMM",
          "FINANCIAL INFO SVCS AGENCY",
          "FIRE DEPARTMENT",
          "HOUSING PRESERVATION & DVLPMNT",
          "HRA/DEPT OF SOCIAL SERVICES",
          "HUMAN RIGHTS COMMISSION",
          "LAW DEPARTMENT",
          "MANHATTAN COMMUNITY BOARD #10",
          "MANHATTAN COMMUNITY BOARD #11",
          "MAYORS OFFICE OF CONTRACT SVCS",
          "MUNICIPAL WATER FIN AUTHORITY",
          "NYC EMPLOYEES RETIREMENT SYS",
          "NYC FIRE PENSION FUND",
          "NYC HOUSING AUTHORITY",
          "OFF OF PAYROLL ADMINISTRATION",
          "OFFICE OF EMERGENCY MANAGEMENT",
          "OFFICE OF MANAGEMENT & BUDGET",
          "OFFICE OF THE COMPTROLLER",
          "POLICE DEPARTMENT",
          "PRESIDENT BOROUGH OF MANHATTAN",
          "PUBLIC ADMINISTRATOR-NEW YORK",
          "TAX COMMISSION",
          "TAXI & LIMOUSINE COMMISSION",
          "TEACHERS RETIREMENT SYSTEM"
         ],
         "xaxis": "x",
         "y": [
          73961.06962025317,
          54740.125,
          85855.83333333334,
          61651.7,
          80688.78571428571,
          47191.7,
          46149.5,
          64213.166666666664,
          52073.5,
          72282.95652173914,
          54203.600000000006,
          69813.15555555555,
          83275.28125,
          129914.55555555556,
          62695.359375,
          80772.1875,
          86138.72727272726,
          68149.71264367815,
          70124.77272727274,
          86656.56976744186,
          74440.29890453834,
          66673.56282722513,
          80675.46428571429,
          71619.67592592593,
          78749.85714285714,
          67409.74193548386,
          119401.28571428571,
          43254.100000000006,
          56346,
          56463.5,
          97592.75,
          78920.61111111111,
          78561.8418367347,
          72940.42647058824,
          73893.16666666666,
          66877.54268292683,
          62500,
          47000,
          82908.86363636363,
          64452,
          110823.22916666666,
          67029.5,
          87307.0172413793,
          58115.90909090909,
          67690.875,
          75436.6875,
          90176.69178082192,
          70529.30208333334,
          58254.166666666664,
          43296,
          81222,
          63773.8492063492,
          133240.5
         ],
         "yaxis": "y"
        },
        {
         "alignmentgroup": "True",
         "hoverlabel": {
          "namelength": 0
         },
         "hovertemplate": "Full-Time/Part-Time indicator=P<br>Agency=%{x}<br>Average Salary=%{y}",
         "legendgroup": "Full-Time/Part-Time indicator=P",
         "marker": {
          "color": "#EF553B",
          "opacity": 0.5
         },
         "name": "Full-Time/Part-Time indicator=P",
         "offsetgroup": "Full-Time/Part-Time indicator=P",
         "orientation": "v",
         "showlegend": true,
         "textposition": "auto",
         "type": "bar",
         "x": [
          "ADMIN TRIALS AND HEARINGS",
          "DEPARTMENT OF BUILDINGS",
          "DEPARTMENT OF CITY PLANNING",
          "DEPARTMENT OF CORRECTION",
          "DEPARTMENT OF FINANCE",
          "DEPARTMENT OF PROBATION",
          "DEPT OF DESIGN & CONSTRUCTION",
          "DEPT OF ENVIRONMENT PROTECTION",
          "DEPT OF HEALTH/MENTAL HYGIENE",
          "DEPT OF INFO TECH & TELECOMM",
          "DEPT OF PARKS & RECREATION",
          "DEPT OF RECORDS & INFO SERVICE",
          "FINANCIAL INFO SVCS AGENCY",
          "LAW DEPARTMENT",
          "MANHATTAN COMMUNITY BOARD #8",
          "NYC HOUSING AUTHORITY",
          "OFFICE OF COLLECTIVE BARGAININ",
          "OFFICE OF EMERGENCY MANAGEMENT",
          "OFFICE OF MANAGEMENT & BUDGET",
          "TAXI & LIMOUSINE COMMISSION"
         ],
         "xaxis": "x",
         "y": [
          27.136363636363637,
          17,
          17,
          25.25,
          17,
          16,
          40837.625,
          40504.1,
          30.46376811594203,
          15.5,
          15,
          25.25,
          17.5,
          22.375,
          19,
          87308,
          9,
          55,
          15,
          16
         ],
         "yaxis": "y"
        }
       ],
       "layout": {
        "barmode": "overlay",
        "height": 600,
        "legend": {
         "tracegroupgap": 0
        },
        "template": {
         "data": {
          "bar": [
           {
            "error_x": {
             "color": "#2a3f5f"
            },
            "error_y": {
             "color": "#2a3f5f"
            },
            "marker": {
             "line": {
              "color": "#E5ECF6",
              "width": 0.5
             }
            },
            "type": "bar"
           }
          ],
          "barpolar": [
           {
            "marker": {
             "line": {
              "color": "#E5ECF6",
              "width": 0.5
             }
            },
            "type": "barpolar"
           }
          ],
          "carpet": [
           {
            "aaxis": {
             "endlinecolor": "#2a3f5f",
             "gridcolor": "white",
             "linecolor": "white",
             "minorgridcolor": "white",
             "startlinecolor": "#2a3f5f"
            },
            "baxis": {
             "endlinecolor": "#2a3f5f",
             "gridcolor": "white",
             "linecolor": "white",
             "minorgridcolor": "white",
             "startlinecolor": "#2a3f5f"
            },
            "type": "carpet"
           }
          ],
          "choropleth": [
           {
            "colorbar": {
             "outlinewidth": 0,
             "ticks": ""
            },
            "type": "choropleth"
           }
          ],
          "contour": [
           {
            "colorbar": {
             "outlinewidth": 0,
             "ticks": ""
            },
            "colorscale": [
             [
              0,
              "#0d0887"
             ],
             [
              0.1111111111111111,
              "#46039f"
             ],
             [
              0.2222222222222222,
              "#7201a8"
             ],
             [
              0.3333333333333333,
              "#9c179e"
             ],
             [
              0.4444444444444444,
              "#bd3786"
             ],
             [
              0.5555555555555556,
              "#d8576b"
             ],
             [
              0.6666666666666666,
              "#ed7953"
             ],
             [
              0.7777777777777778,
              "#fb9f3a"
             ],
             [
              0.8888888888888888,
              "#fdca26"
             ],
             [
              1,
              "#f0f921"
             ]
            ],
            "type": "contour"
           }
          ],
          "contourcarpet": [
           {
            "colorbar": {
             "outlinewidth": 0,
             "ticks": ""
            },
            "type": "contourcarpet"
           }
          ],
          "heatmap": [
           {
            "colorbar": {
             "outlinewidth": 0,
             "ticks": ""
            },
            "colorscale": [
             [
              0,
              "#0d0887"
             ],
             [
              0.1111111111111111,
              "#46039f"
             ],
             [
              0.2222222222222222,
              "#7201a8"
             ],
             [
              0.3333333333333333,
              "#9c179e"
             ],
             [
              0.4444444444444444,
              "#bd3786"
             ],
             [
              0.5555555555555556,
              "#d8576b"
             ],
             [
              0.6666666666666666,
              "#ed7953"
             ],
             [
              0.7777777777777778,
              "#fb9f3a"
             ],
             [
              0.8888888888888888,
              "#fdca26"
             ],
             [
              1,
              "#f0f921"
             ]
            ],
            "type": "heatmap"
           }
          ],
          "heatmapgl": [
           {
            "colorbar": {
             "outlinewidth": 0,
             "ticks": ""
            },
            "colorscale": [
             [
              0,
              "#0d0887"
             ],
             [
              0.1111111111111111,
              "#46039f"
             ],
             [
              0.2222222222222222,
              "#7201a8"
             ],
             [
              0.3333333333333333,
              "#9c179e"
             ],
             [
              0.4444444444444444,
              "#bd3786"
             ],
             [
              0.5555555555555556,
              "#d8576b"
             ],
             [
              0.6666666666666666,
              "#ed7953"
             ],
             [
              0.7777777777777778,
              "#fb9f3a"
             ],
             [
              0.8888888888888888,
              "#fdca26"
             ],
             [
              1,
              "#f0f921"
             ]
            ],
            "type": "heatmapgl"
           }
          ],
          "histogram": [
           {
            "marker": {
             "colorbar": {
              "outlinewidth": 0,
              "ticks": ""
             }
            },
            "type": "histogram"
           }
          ],
          "histogram2d": [
           {
            "colorbar": {
             "outlinewidth": 0,
             "ticks": ""
            },
            "colorscale": [
             [
              0,
              "#0d0887"
             ],
             [
              0.1111111111111111,
              "#46039f"
             ],
             [
              0.2222222222222222,
              "#7201a8"
             ],
             [
              0.3333333333333333,
              "#9c179e"
             ],
             [
              0.4444444444444444,
              "#bd3786"
             ],
             [
              0.5555555555555556,
              "#d8576b"
             ],
             [
              0.6666666666666666,
              "#ed7953"
             ],
             [
              0.7777777777777778,
              "#fb9f3a"
             ],
             [
              0.8888888888888888,
              "#fdca26"
             ],
             [
              1,
              "#f0f921"
             ]
            ],
            "type": "histogram2d"
           }
          ],
          "histogram2dcontour": [
           {
            "colorbar": {
             "outlinewidth": 0,
             "ticks": ""
            },
            "colorscale": [
             [
              0,
              "#0d0887"
             ],
             [
              0.1111111111111111,
              "#46039f"
             ],
             [
              0.2222222222222222,
              "#7201a8"
             ],
             [
              0.3333333333333333,
              "#9c179e"
             ],
             [
              0.4444444444444444,
              "#bd3786"
             ],
             [
              0.5555555555555556,
              "#d8576b"
             ],
             [
              0.6666666666666666,
              "#ed7953"
             ],
             [
              0.7777777777777778,
              "#fb9f3a"
             ],
             [
              0.8888888888888888,
              "#fdca26"
             ],
             [
              1,
              "#f0f921"
             ]
            ],
            "type": "histogram2dcontour"
           }
          ],
          "mesh3d": [
           {
            "colorbar": {
             "outlinewidth": 0,
             "ticks": ""
            },
            "type": "mesh3d"
           }
          ],
          "parcoords": [
           {
            "line": {
             "colorbar": {
              "outlinewidth": 0,
              "ticks": ""
             }
            },
            "type": "parcoords"
           }
          ],
          "scatter": [
           {
            "marker": {
             "colorbar": {
              "outlinewidth": 0,
              "ticks": ""
             }
            },
            "type": "scatter"
           }
          ],
          "scatter3d": [
           {
            "line": {
             "colorbar": {
              "outlinewidth": 0,
              "ticks": ""
             }
            },
            "marker": {
             "colorbar": {
              "outlinewidth": 0,
              "ticks": ""
             }
            },
            "type": "scatter3d"
           }
          ],
          "scattercarpet": [
           {
            "marker": {
             "colorbar": {
              "outlinewidth": 0,
              "ticks": ""
             }
            },
            "type": "scattercarpet"
           }
          ],
          "scattergeo": [
           {
            "marker": {
             "colorbar": {
              "outlinewidth": 0,
              "ticks": ""
             }
            },
            "type": "scattergeo"
           }
          ],
          "scattergl": [
           {
            "marker": {
             "colorbar": {
              "outlinewidth": 0,
              "ticks": ""
             }
            },
            "type": "scattergl"
           }
          ],
          "scattermapbox": [
           {
            "marker": {
             "colorbar": {
              "outlinewidth": 0,
              "ticks": ""
             }
            },
            "type": "scattermapbox"
           }
          ],
          "scatterpolar": [
           {
            "marker": {
             "colorbar": {
              "outlinewidth": 0,
              "ticks": ""
             }
            },
            "type": "scatterpolar"
           }
          ],
          "scatterpolargl": [
           {
            "marker": {
             "colorbar": {
              "outlinewidth": 0,
              "ticks": ""
             }
            },
            "type": "scatterpolargl"
           }
          ],
          "scatterternary": [
           {
            "marker": {
             "colorbar": {
              "outlinewidth": 0,
              "ticks": ""
             }
            },
            "type": "scatterternary"
           }
          ],
          "surface": [
           {
            "colorbar": {
             "outlinewidth": 0,
             "ticks": ""
            },
            "colorscale": [
             [
              0,
              "#0d0887"
             ],
             [
              0.1111111111111111,
              "#46039f"
             ],
             [
              0.2222222222222222,
              "#7201a8"
             ],
             [
              0.3333333333333333,
              "#9c179e"
             ],
             [
              0.4444444444444444,
              "#bd3786"
             ],
             [
              0.5555555555555556,
              "#d8576b"
             ],
             [
              0.6666666666666666,
              "#ed7953"
             ],
             [
              0.7777777777777778,
              "#fb9f3a"
             ],
             [
              0.8888888888888888,
              "#fdca26"
             ],
             [
              1,
              "#f0f921"
             ]
            ],
            "type": "surface"
           }
          ],
          "table": [
           {
            "cells": {
             "fill": {
              "color": "#EBF0F8"
             },
             "line": {
              "color": "white"
             }
            },
            "header": {
             "fill": {
              "color": "#C8D4E3"
             },
             "line": {
              "color": "white"
             }
            },
            "type": "table"
           }
          ]
         },
         "layout": {
          "annotationdefaults": {
           "arrowcolor": "#2a3f5f",
           "arrowhead": 0,
           "arrowwidth": 1
          },
          "colorscale": {
           "diverging": [
            [
             0,
             "#8e0152"
            ],
            [
             0.1,
             "#c51b7d"
            ],
            [
             0.2,
             "#de77ae"
            ],
            [
             0.3,
             "#f1b6da"
            ],
            [
             0.4,
             "#fde0ef"
            ],
            [
             0.5,
             "#f7f7f7"
            ],
            [
             0.6,
             "#e6f5d0"
            ],
            [
             0.7,
             "#b8e186"
            ],
            [
             0.8,
             "#7fbc41"
            ],
            [
             0.9,
             "#4d9221"
            ],
            [
             1,
             "#276419"
            ]
           ],
           "sequential": [
            [
             0,
             "#0d0887"
            ],
            [
             0.1111111111111111,
             "#46039f"
            ],
            [
             0.2222222222222222,
             "#7201a8"
            ],
            [
             0.3333333333333333,
             "#9c179e"
            ],
            [
             0.4444444444444444,
             "#bd3786"
            ],
            [
             0.5555555555555556,
             "#d8576b"
            ],
            [
             0.6666666666666666,
             "#ed7953"
            ],
            [
             0.7777777777777778,
             "#fb9f3a"
            ],
            [
             0.8888888888888888,
             "#fdca26"
            ],
            [
             1,
             "#f0f921"
            ]
           ],
           "sequentialminus": [
            [
             0,
             "#0d0887"
            ],
            [
             0.1111111111111111,
             "#46039f"
            ],
            [
             0.2222222222222222,
             "#7201a8"
            ],
            [
             0.3333333333333333,
             "#9c179e"
            ],
            [
             0.4444444444444444,
             "#bd3786"
            ],
            [
             0.5555555555555556,
             "#d8576b"
            ],
            [
             0.6666666666666666,
             "#ed7953"
            ],
            [
             0.7777777777777778,
             "#fb9f3a"
            ],
            [
             0.8888888888888888,
             "#fdca26"
            ],
            [
             1,
             "#f0f921"
            ]
           ]
          },
          "colorway": [
           "#636efa",
           "#EF553B",
           "#00cc96",
           "#ab63fa",
           "#FFA15A",
           "#19d3f3",
           "#FF6692",
           "#B6E880",
           "#FF97FF",
           "#FECB52"
          ],
          "font": {
           "color": "#2a3f5f"
          },
          "geo": {
           "bgcolor": "white",
           "lakecolor": "white",
           "landcolor": "#E5ECF6",
           "showlakes": true,
           "showland": true,
           "subunitcolor": "white"
          },
          "hoverlabel": {
           "align": "left"
          },
          "hovermode": "closest",
          "mapbox": {
           "style": "light"
          },
          "paper_bgcolor": "white",
          "plot_bgcolor": "#E5ECF6",
          "polar": {
           "angularaxis": {
            "gridcolor": "white",
            "linecolor": "white",
            "ticks": ""
           },
           "bgcolor": "#E5ECF6",
           "radialaxis": {
            "gridcolor": "white",
            "linecolor": "white",
            "ticks": ""
           }
          },
          "scene": {
           "xaxis": {
            "backgroundcolor": "#E5ECF6",
            "gridcolor": "white",
            "gridwidth": 2,
            "linecolor": "white",
            "showbackground": true,
            "ticks": "",
            "zerolinecolor": "white"
           },
           "yaxis": {
            "backgroundcolor": "#E5ECF6",
            "gridcolor": "white",
            "gridwidth": 2,
            "linecolor": "white",
            "showbackground": true,
            "ticks": "",
            "zerolinecolor": "white"
           },
           "zaxis": {
            "backgroundcolor": "#E5ECF6",
            "gridcolor": "white",
            "gridwidth": 2,
            "linecolor": "white",
            "showbackground": true,
            "ticks": "",
            "zerolinecolor": "white"
           }
          },
          "shapedefaults": {
           "line": {
            "color": "#2a3f5f"
           }
          },
          "ternary": {
           "aaxis": {
            "gridcolor": "white",
            "linecolor": "white",
            "ticks": ""
           },
           "baxis": {
            "gridcolor": "white",
            "linecolor": "white",
            "ticks": ""
           },
           "bgcolor": "#E5ECF6",
           "caxis": {
            "gridcolor": "white",
            "linecolor": "white",
            "ticks": ""
           }
          },
          "title": {
           "x": 0.05
          },
          "xaxis": {
           "automargin": true,
           "gridcolor": "white",
           "linecolor": "white",
           "ticks": "",
           "zerolinecolor": "white",
           "zerolinewidth": 2
          },
          "yaxis": {
           "automargin": true,
           "gridcolor": "white",
           "linecolor": "white",
           "ticks": "",
           "zerolinecolor": "white",
           "zerolinewidth": 2
          }
         }
        },
        "title": {
         "text": "Average Salary per Agency"
        },
        "xaxis": {
         "anchor": "y",
         "domain": [
          0,
          0.98
         ],
         "title": {
          "text": "Agency"
         }
        },
        "yaxis": {
         "anchor": "x",
         "domain": [
          0,
          1
         ],
         "title": {
          "text": "Average Salary"
         }
        }
       }
      },
      "text/html": [
       "<div>\n",
       "        \n",
       "        \n",
       "            <div id=\"62297e84-c109-44e6-9f28-34ebca6544c6\" class=\"plotly-graph-div\" style=\"height:600px; width:100%;\"></div>\n",
       "            <script type=\"text/javascript\">\n",
       "                require([\"plotly\"], function(Plotly) {\n",
       "                    window.PLOTLYENV=window.PLOTLYENV || {};\n",
       "                    \n",
       "                if (document.getElementById(\"62297e84-c109-44e6-9f28-34ebca6544c6\")) {\n",
       "                    Plotly.newPlot(\n",
       "                        '62297e84-c109-44e6-9f28-34ebca6544c6',\n",
       "                        [{\"alignmentgroup\": \"True\", \"hoverlabel\": {\"namelength\": 0}, \"hovertemplate\": \"Full-Time/Part-Time indicator=F<br>Agency=%{x}<br>Average Salary=%{y}\", \"legendgroup\": \"Full-Time/Part-Time indicator=F\", \"marker\": {\"color\": \"#636efa\", \"opacity\": 0.5}, \"name\": \"Full-Time/Part-Time indicator=F\", \"offsetgroup\": \"Full-Time/Part-Time indicator=F\", \"orientation\": \"v\", \"showlegend\": true, \"textposition\": \"auto\", \"type\": \"bar\", \"x\": [\"ADMIN FOR CHILDREN'S SVCS\", \"ADMIN TRIALS AND HEARINGS\", \"BOARD OF CORRECTION\", \"BOROUGH PRESIDENT-QUEENS\", \"BUSINESS INTEGRITY COMMISSION\", \"CIVILIAN COMPLAINT REVIEW BD\", \"CONFLICTS OF INTEREST BOARD\", \"CONSUMER AFFAIRS\", \"DEPARTMENT FOR THE AGING\", \"DEPARTMENT OF BUILDINGS\", \"DEPARTMENT OF BUSINESS SERV.\", \"DEPARTMENT OF CITY PLANNING\", \"DEPARTMENT OF CORRECTION\", \"DEPARTMENT OF FINANCE\", \"DEPARTMENT OF INVESTIGATION\", \"DEPARTMENT OF PROBATION\", \"DEPARTMENT OF SANITATION\", \"DEPARTMENT OF TRANSPORTATION\", \"DEPT OF CITYWIDE ADMIN SVCS\", \"DEPT OF DESIGN & CONSTRUCTION\", \"DEPT OF ENVIRONMENT PROTECTION\", \"DEPT OF HEALTH/MENTAL HYGIENE\", \"DEPT OF INFO TECH & TELECOMM\", \"DEPT OF PARKS & RECREATION\", \"DEPT OF RECORDS & INFO SERVICE\", \"DEPT OF YOUTH & COMM DEV SRVS\", \"DEPT. OF HOMELESS SERVICES\", \"DISTRICT ATTORNEY KINGS COUNTY\", \"DISTRICT ATTORNEY RICHMOND COU\", \"EQUAL EMPLOY PRACTICES COMM\", \"FINANCIAL INFO SVCS AGENCY\", \"FIRE DEPARTMENT\", \"HOUSING PRESERVATION & DVLPMNT\", \"HRA/DEPT OF SOCIAL SERVICES\", \"HUMAN RIGHTS COMMISSION\", \"LAW DEPARTMENT\", \"MANHATTAN COMMUNITY BOARD #10\", \"MANHATTAN COMMUNITY BOARD #11\", \"MAYORS OFFICE OF CONTRACT SVCS\", \"MUNICIPAL WATER FIN AUTHORITY\", \"NYC EMPLOYEES RETIREMENT SYS\", \"NYC FIRE PENSION FUND\", \"NYC HOUSING AUTHORITY\", \"OFF OF PAYROLL ADMINISTRATION\", \"OFFICE OF EMERGENCY MANAGEMENT\", \"OFFICE OF MANAGEMENT & BUDGET\", \"OFFICE OF THE COMPTROLLER\", \"POLICE DEPARTMENT\", \"PRESIDENT BOROUGH OF MANHATTAN\", \"PUBLIC ADMINISTRATOR-NEW YORK\", \"TAX COMMISSION\", \"TAXI & LIMOUSINE COMMISSION\", \"TEACHERS RETIREMENT SYSTEM\"], \"xaxis\": \"x\", \"y\": [73961.06962025317, 54740.125, 85855.83333333334, 61651.7, 80688.78571428571, 47191.7, 46149.5, 64213.166666666664, 52073.5, 72282.95652173914, 54203.600000000006, 69813.15555555555, 83275.28125, 129914.55555555556, 62695.359375, 80772.1875, 86138.72727272726, 68149.71264367815, 70124.77272727274, 86656.56976744186, 74440.29890453834, 66673.56282722513, 80675.46428571429, 71619.67592592593, 78749.85714285714, 67409.74193548386, 119401.28571428571, 43254.100000000006, 56346.0, 56463.5, 97592.75, 78920.61111111111, 78561.8418367347, 72940.42647058824, 73893.16666666666, 66877.54268292683, 62500.0, 47000.0, 82908.86363636363, 64452.0, 110823.22916666666, 67029.5, 87307.0172413793, 58115.90909090909, 67690.875, 75436.6875, 90176.69178082192, 70529.30208333334, 58254.166666666664, 43296.0, 81222.0, 63773.8492063492, 133240.5], \"yaxis\": \"y\"}, {\"alignmentgroup\": \"True\", \"hoverlabel\": {\"namelength\": 0}, \"hovertemplate\": \"Full-Time/Part-Time indicator=P<br>Agency=%{x}<br>Average Salary=%{y}\", \"legendgroup\": \"Full-Time/Part-Time indicator=P\", \"marker\": {\"color\": \"#EF553B\", \"opacity\": 0.5}, \"name\": \"Full-Time/Part-Time indicator=P\", \"offsetgroup\": \"Full-Time/Part-Time indicator=P\", \"orientation\": \"v\", \"showlegend\": true, \"textposition\": \"auto\", \"type\": \"bar\", \"x\": [\"ADMIN TRIALS AND HEARINGS\", \"DEPARTMENT OF BUILDINGS\", \"DEPARTMENT OF CITY PLANNING\", \"DEPARTMENT OF CORRECTION\", \"DEPARTMENT OF FINANCE\", \"DEPARTMENT OF PROBATION\", \"DEPT OF DESIGN & CONSTRUCTION\", \"DEPT OF ENVIRONMENT PROTECTION\", \"DEPT OF HEALTH/MENTAL HYGIENE\", \"DEPT OF INFO TECH & TELECOMM\", \"DEPT OF PARKS & RECREATION\", \"DEPT OF RECORDS & INFO SERVICE\", \"FINANCIAL INFO SVCS AGENCY\", \"LAW DEPARTMENT\", \"MANHATTAN COMMUNITY BOARD #8\", \"NYC HOUSING AUTHORITY\", \"OFFICE OF COLLECTIVE BARGAININ\", \"OFFICE OF EMERGENCY MANAGEMENT\", \"OFFICE OF MANAGEMENT & BUDGET\", \"TAXI & LIMOUSINE COMMISSION\"], \"xaxis\": \"x\", \"y\": [27.136363636363637, 17.0, 17.0, 25.25, 17.0, 16.0, 40837.625, 40504.1, 30.46376811594203, 15.5, 15.0, 25.25, 17.5, 22.375, 19.0, 87308.0, 9.0, 55.0, 15.0, 16.0], \"yaxis\": \"y\"}],\n",
       "                        {\"barmode\": \"overlay\", \"height\": 600, \"legend\": {\"tracegroupgap\": 0}, \"template\": {\"data\": {\"bar\": [{\"error_x\": {\"color\": \"#2a3f5f\"}, \"error_y\": {\"color\": \"#2a3f5f\"}, \"marker\": {\"line\": {\"color\": \"#E5ECF6\", \"width\": 0.5}}, \"type\": \"bar\"}], \"barpolar\": [{\"marker\": {\"line\": {\"color\": \"#E5ECF6\", \"width\": 0.5}}, \"type\": \"barpolar\"}], \"carpet\": [{\"aaxis\": {\"endlinecolor\": \"#2a3f5f\", \"gridcolor\": \"white\", \"linecolor\": \"white\", \"minorgridcolor\": \"white\", \"startlinecolor\": \"#2a3f5f\"}, \"baxis\": {\"endlinecolor\": \"#2a3f5f\", \"gridcolor\": \"white\", \"linecolor\": \"white\", \"minorgridcolor\": \"white\", \"startlinecolor\": \"#2a3f5f\"}, \"type\": \"carpet\"}], \"choropleth\": [{\"colorbar\": {\"outlinewidth\": 0, \"ticks\": \"\"}, \"type\": \"choropleth\"}], \"contour\": [{\"colorbar\": {\"outlinewidth\": 0, \"ticks\": \"\"}, \"colorscale\": [[0.0, \"#0d0887\"], [0.1111111111111111, \"#46039f\"], [0.2222222222222222, \"#7201a8\"], [0.3333333333333333, \"#9c179e\"], [0.4444444444444444, \"#bd3786\"], [0.5555555555555556, \"#d8576b\"], [0.6666666666666666, \"#ed7953\"], [0.7777777777777778, \"#fb9f3a\"], [0.8888888888888888, \"#fdca26\"], [1.0, \"#f0f921\"]], \"type\": \"contour\"}], \"contourcarpet\": [{\"colorbar\": {\"outlinewidth\": 0, \"ticks\": \"\"}, \"type\": \"contourcarpet\"}], \"heatmap\": [{\"colorbar\": {\"outlinewidth\": 0, \"ticks\": \"\"}, \"colorscale\": [[0.0, \"#0d0887\"], [0.1111111111111111, \"#46039f\"], [0.2222222222222222, \"#7201a8\"], [0.3333333333333333, \"#9c179e\"], [0.4444444444444444, \"#bd3786\"], [0.5555555555555556, \"#d8576b\"], [0.6666666666666666, \"#ed7953\"], [0.7777777777777778, \"#fb9f3a\"], [0.8888888888888888, \"#fdca26\"], [1.0, \"#f0f921\"]], \"type\": \"heatmap\"}], \"heatmapgl\": [{\"colorbar\": {\"outlinewidth\": 0, \"ticks\": \"\"}, \"colorscale\": [[0.0, \"#0d0887\"], [0.1111111111111111, \"#46039f\"], [0.2222222222222222, \"#7201a8\"], [0.3333333333333333, \"#9c179e\"], [0.4444444444444444, \"#bd3786\"], [0.5555555555555556, \"#d8576b\"], [0.6666666666666666, \"#ed7953\"], [0.7777777777777778, \"#fb9f3a\"], [0.8888888888888888, \"#fdca26\"], [1.0, \"#f0f921\"]], \"type\": \"heatmapgl\"}], \"histogram\": [{\"marker\": {\"colorbar\": {\"outlinewidth\": 0, \"ticks\": \"\"}}, \"type\": \"histogram\"}], \"histogram2d\": [{\"colorbar\": {\"outlinewidth\": 0, \"ticks\": \"\"}, \"colorscale\": [[0.0, \"#0d0887\"], [0.1111111111111111, \"#46039f\"], [0.2222222222222222, \"#7201a8\"], [0.3333333333333333, \"#9c179e\"], [0.4444444444444444, \"#bd3786\"], [0.5555555555555556, \"#d8576b\"], [0.6666666666666666, \"#ed7953\"], [0.7777777777777778, \"#fb9f3a\"], [0.8888888888888888, \"#fdca26\"], [1.0, \"#f0f921\"]], \"type\": \"histogram2d\"}], \"histogram2dcontour\": [{\"colorbar\": {\"outlinewidth\": 0, \"ticks\": \"\"}, \"colorscale\": [[0.0, \"#0d0887\"], [0.1111111111111111, \"#46039f\"], [0.2222222222222222, \"#7201a8\"], [0.3333333333333333, \"#9c179e\"], [0.4444444444444444, \"#bd3786\"], [0.5555555555555556, \"#d8576b\"], [0.6666666666666666, \"#ed7953\"], [0.7777777777777778, \"#fb9f3a\"], [0.8888888888888888, \"#fdca26\"], [1.0, \"#f0f921\"]], \"type\": \"histogram2dcontour\"}], \"mesh3d\": [{\"colorbar\": {\"outlinewidth\": 0, \"ticks\": \"\"}, \"type\": \"mesh3d\"}], \"parcoords\": [{\"line\": {\"colorbar\": {\"outlinewidth\": 0, \"ticks\": \"\"}}, \"type\": \"parcoords\"}], \"scatter\": [{\"marker\": {\"colorbar\": {\"outlinewidth\": 0, \"ticks\": \"\"}}, \"type\": \"scatter\"}], \"scatter3d\": [{\"line\": {\"colorbar\": {\"outlinewidth\": 0, \"ticks\": \"\"}}, \"marker\": {\"colorbar\": {\"outlinewidth\": 0, \"ticks\": \"\"}}, \"type\": \"scatter3d\"}], \"scattercarpet\": [{\"marker\": {\"colorbar\": {\"outlinewidth\": 0, \"ticks\": \"\"}}, \"type\": \"scattercarpet\"}], \"scattergeo\": [{\"marker\": {\"colorbar\": {\"outlinewidth\": 0, \"ticks\": \"\"}}, \"type\": \"scattergeo\"}], \"scattergl\": [{\"marker\": {\"colorbar\": {\"outlinewidth\": 0, \"ticks\": \"\"}}, \"type\": \"scattergl\"}], \"scattermapbox\": [{\"marker\": {\"colorbar\": {\"outlinewidth\": 0, \"ticks\": \"\"}}, \"type\": \"scattermapbox\"}], \"scatterpolar\": [{\"marker\": {\"colorbar\": {\"outlinewidth\": 0, \"ticks\": \"\"}}, \"type\": \"scatterpolar\"}], \"scatterpolargl\": [{\"marker\": {\"colorbar\": {\"outlinewidth\": 0, \"ticks\": \"\"}}, \"type\": \"scatterpolargl\"}], \"scatterternary\": [{\"marker\": {\"colorbar\": {\"outlinewidth\": 0, \"ticks\": \"\"}}, \"type\": \"scatterternary\"}], \"surface\": [{\"colorbar\": {\"outlinewidth\": 0, \"ticks\": \"\"}, \"colorscale\": [[0.0, \"#0d0887\"], [0.1111111111111111, \"#46039f\"], [0.2222222222222222, \"#7201a8\"], [0.3333333333333333, \"#9c179e\"], [0.4444444444444444, \"#bd3786\"], [0.5555555555555556, \"#d8576b\"], [0.6666666666666666, \"#ed7953\"], [0.7777777777777778, \"#fb9f3a\"], [0.8888888888888888, \"#fdca26\"], [1.0, \"#f0f921\"]], \"type\": \"surface\"}], \"table\": [{\"cells\": {\"fill\": {\"color\": \"#EBF0F8\"}, \"line\": {\"color\": \"white\"}}, \"header\": {\"fill\": {\"color\": \"#C8D4E3\"}, \"line\": {\"color\": \"white\"}}, \"type\": \"table\"}]}, \"layout\": {\"annotationdefaults\": {\"arrowcolor\": \"#2a3f5f\", \"arrowhead\": 0, \"arrowwidth\": 1}, \"colorscale\": {\"diverging\": [[0, \"#8e0152\"], [0.1, \"#c51b7d\"], [0.2, \"#de77ae\"], [0.3, \"#f1b6da\"], [0.4, \"#fde0ef\"], [0.5, \"#f7f7f7\"], [0.6, \"#e6f5d0\"], [0.7, \"#b8e186\"], [0.8, \"#7fbc41\"], [0.9, \"#4d9221\"], [1, \"#276419\"]], \"sequential\": [[0.0, \"#0d0887\"], [0.1111111111111111, \"#46039f\"], [0.2222222222222222, \"#7201a8\"], [0.3333333333333333, \"#9c179e\"], [0.4444444444444444, \"#bd3786\"], [0.5555555555555556, \"#d8576b\"], [0.6666666666666666, \"#ed7953\"], [0.7777777777777778, \"#fb9f3a\"], [0.8888888888888888, \"#fdca26\"], [1.0, \"#f0f921\"]], \"sequentialminus\": [[0.0, \"#0d0887\"], [0.1111111111111111, \"#46039f\"], [0.2222222222222222, \"#7201a8\"], [0.3333333333333333, \"#9c179e\"], [0.4444444444444444, \"#bd3786\"], [0.5555555555555556, \"#d8576b\"], [0.6666666666666666, \"#ed7953\"], [0.7777777777777778, \"#fb9f3a\"], [0.8888888888888888, \"#fdca26\"], [1.0, \"#f0f921\"]]}, \"colorway\": [\"#636efa\", \"#EF553B\", \"#00cc96\", \"#ab63fa\", \"#FFA15A\", \"#19d3f3\", \"#FF6692\", \"#B6E880\", \"#FF97FF\", \"#FECB52\"], \"font\": {\"color\": \"#2a3f5f\"}, \"geo\": {\"bgcolor\": \"white\", \"lakecolor\": \"white\", \"landcolor\": \"#E5ECF6\", \"showlakes\": true, \"showland\": true, \"subunitcolor\": \"white\"}, \"hoverlabel\": {\"align\": \"left\"}, \"hovermode\": \"closest\", \"mapbox\": {\"style\": \"light\"}, \"paper_bgcolor\": \"white\", \"plot_bgcolor\": \"#E5ECF6\", \"polar\": {\"angularaxis\": {\"gridcolor\": \"white\", \"linecolor\": \"white\", \"ticks\": \"\"}, \"bgcolor\": \"#E5ECF6\", \"radialaxis\": {\"gridcolor\": \"white\", \"linecolor\": \"white\", \"ticks\": \"\"}}, \"scene\": {\"xaxis\": {\"backgroundcolor\": \"#E5ECF6\", \"gridcolor\": \"white\", \"gridwidth\": 2, \"linecolor\": \"white\", \"showbackground\": true, \"ticks\": \"\", \"zerolinecolor\": \"white\"}, \"yaxis\": {\"backgroundcolor\": \"#E5ECF6\", \"gridcolor\": \"white\", \"gridwidth\": 2, \"linecolor\": \"white\", \"showbackground\": true, \"ticks\": \"\", \"zerolinecolor\": \"white\"}, \"zaxis\": {\"backgroundcolor\": \"#E5ECF6\", \"gridcolor\": \"white\", \"gridwidth\": 2, \"linecolor\": \"white\", \"showbackground\": true, \"ticks\": \"\", \"zerolinecolor\": \"white\"}}, \"shapedefaults\": {\"line\": {\"color\": \"#2a3f5f\"}}, \"ternary\": {\"aaxis\": {\"gridcolor\": \"white\", \"linecolor\": \"white\", \"ticks\": \"\"}, \"baxis\": {\"gridcolor\": \"white\", \"linecolor\": \"white\", \"ticks\": \"\"}, \"bgcolor\": \"#E5ECF6\", \"caxis\": {\"gridcolor\": \"white\", \"linecolor\": \"white\", \"ticks\": \"\"}}, \"title\": {\"x\": 0.05}, \"xaxis\": {\"automargin\": true, \"gridcolor\": \"white\", \"linecolor\": \"white\", \"ticks\": \"\", \"zerolinecolor\": \"white\", \"zerolinewidth\": 2}, \"yaxis\": {\"automargin\": true, \"gridcolor\": \"white\", \"linecolor\": \"white\", \"ticks\": \"\", \"zerolinecolor\": \"white\", \"zerolinewidth\": 2}}}, \"title\": {\"text\": \"Average Salary per Agency\"}, \"xaxis\": {\"anchor\": \"y\", \"domain\": [0.0, 0.98], \"title\": {\"text\": \"Agency\"}}, \"yaxis\": {\"anchor\": \"x\", \"domain\": [0.0, 1.0], \"title\": {\"text\": \"Average Salary\"}}},\n",
       "                        {\"responsive\": true}\n",
       "                    ).then(function(){\n",
       "                            \n",
       "var gd = document.getElementById('62297e84-c109-44e6-9f28-34ebca6544c6');\n",
       "var x = new MutationObserver(function (mutations, observer) {{\n",
       "        var display = window.getComputedStyle(gd).display;\n",
       "        if (!display || display === 'none') {{\n",
       "            console.log([gd, 'removed!']);\n",
       "            Plotly.purge(gd);\n",
       "            observer.disconnect();\n",
       "        }}\n",
       "}});\n",
       "\n",
       "// Listen for the removal of the full notebook cells\n",
       "var notebookContainer = gd.closest('#notebook-container');\n",
       "if (notebookContainer) {{\n",
       "    x.observe(notebookContainer, {childList: true});\n",
       "}}\n",
       "\n",
       "// Listen for the clearing of the current output cell\n",
       "var outputEl = gd.closest('.output');\n",
       "if (outputEl) {{\n",
       "    x.observe(outputEl, {childList: true});\n",
       "}}\n",
       "\n",
       "                        })\n",
       "                };\n",
       "                });\n",
       "            </script>\n",
       "        </div>"
      ]
     },
     "metadata": {},
     "output_type": "display_data"
    }
   ],
   "source": [
    "fig = px.bar(rngmean,x=\"Agency\",y=\"Average Salary\",title=\"Average Salary per Agency\",barmode=\"overlay\",color=\"Full-Time/Part-Time indicator\")\n",
    "\n",
    "fig.show()"
   ]
  },
  {
   "cell_type": "code",
   "execution_count": 51,
   "metadata": {},
   "outputs": [],
   "source": [
    "# here it should be noted that several part time jobs are not highlighted in the plot which is because they\n",
    "# have a salary range relatively very low when compared with their full time counter parts."
   ]
  },
  {
   "cell_type": "code",
   "execution_count": null,
   "metadata": {},
   "outputs": [],
   "source": [
    "# lets found no of position too "
   ]
  },
  {
   "cell_type": "code",
   "execution_count": 62,
   "metadata": {},
   "outputs": [
    {
     "data": {
      "text/html": [
       "<div>\n",
       "<style scoped>\n",
       "    .dataframe tbody tr th:only-of-type {\n",
       "        vertical-align: middle;\n",
       "    }\n",
       "\n",
       "    .dataframe tbody tr th {\n",
       "        vertical-align: top;\n",
       "    }\n",
       "\n",
       "    .dataframe thead th {\n",
       "        text-align: right;\n",
       "    }\n",
       "</style>\n",
       "<table border=\"1\" class=\"dataframe\">\n",
       "  <thead>\n",
       "    <tr style=\"text-align: right;\">\n",
       "      <th></th>\n",
       "      <th>Agency</th>\n",
       "      <th># Of Positions</th>\n",
       "    </tr>\n",
       "  </thead>\n",
       "  <tbody>\n",
       "    <tr>\n",
       "      <th>0</th>\n",
       "      <td>DEPARTMENT OF BUSINESS SERV.</td>\n",
       "      <td>1</td>\n",
       "    </tr>\n",
       "    <tr>\n",
       "      <th>1</th>\n",
       "      <td>DEPARTMENT OF BUSINESS SERV.</td>\n",
       "      <td>1</td>\n",
       "    </tr>\n",
       "    <tr>\n",
       "      <th>2</th>\n",
       "      <td>NYC HOUSING AUTHORITY</td>\n",
       "      <td>52</td>\n",
       "    </tr>\n",
       "    <tr>\n",
       "      <th>3</th>\n",
       "      <td>NYC HOUSING AUTHORITY</td>\n",
       "      <td>52</td>\n",
       "    </tr>\n",
       "    <tr>\n",
       "      <th>4</th>\n",
       "      <td>NYC HOUSING AUTHORITY</td>\n",
       "      <td>50</td>\n",
       "    </tr>\n",
       "  </tbody>\n",
       "</table>\n",
       "</div>"
      ],
      "text/plain": [
       "                         Agency  # Of Positions\n",
       "0  DEPARTMENT OF BUSINESS SERV.               1\n",
       "1  DEPARTMENT OF BUSINESS SERV.               1\n",
       "2         NYC HOUSING AUTHORITY              52\n",
       "3         NYC HOUSING AUTHORITY              52\n",
       "4         NYC HOUSING AUTHORITY              50"
      ]
     },
     "execution_count": 62,
     "metadata": {},
     "output_type": "execute_result"
    }
   ],
   "source": [
    "jbdata[[\"Agency\",\"# Of Positions\"]].head()"
   ]
  },
  {
   "cell_type": "code",
   "execution_count": 58,
   "metadata": {},
   "outputs": [
    {
     "data": {
      "text/html": [
       "<div>\n",
       "<style scoped>\n",
       "    .dataframe tbody tr th:only-of-type {\n",
       "        vertical-align: middle;\n",
       "    }\n",
       "\n",
       "    .dataframe tbody tr th {\n",
       "        vertical-align: top;\n",
       "    }\n",
       "\n",
       "    .dataframe thead th {\n",
       "        text-align: right;\n",
       "    }\n",
       "</style>\n",
       "<table border=\"1\" class=\"dataframe\">\n",
       "  <thead>\n",
       "    <tr style=\"text-align: right;\">\n",
       "      <th></th>\n",
       "      <th></th>\n",
       "      <th># Of Positions</th>\n",
       "    </tr>\n",
       "    <tr>\n",
       "      <th>Agency</th>\n",
       "      <th>Full-Time/Part-Time indicator</th>\n",
       "      <th></th>\n",
       "    </tr>\n",
       "  </thead>\n",
       "  <tbody>\n",
       "    <tr>\n",
       "      <th>ADMIN FOR CHILDREN'S SVCS</th>\n",
       "      <th>F</th>\n",
       "      <td>245</td>\n",
       "    </tr>\n",
       "    <tr>\n",
       "      <th rowspan=\"2\" valign=\"top\">ADMIN TRIALS AND HEARINGS</th>\n",
       "      <th>F</th>\n",
       "      <td>28</td>\n",
       "    </tr>\n",
       "    <tr>\n",
       "      <th>P</th>\n",
       "      <td>77</td>\n",
       "    </tr>\n",
       "    <tr>\n",
       "      <th>BOARD OF CORRECTION</th>\n",
       "      <th>F</th>\n",
       "      <td>10</td>\n",
       "    </tr>\n",
       "    <tr>\n",
       "      <th>BOROUGH PRESIDENT-QUEENS</th>\n",
       "      <th>F</th>\n",
       "      <td>10</td>\n",
       "    </tr>\n",
       "    <tr>\n",
       "      <th>BUSINESS INTEGRITY COMMISSION</th>\n",
       "      <th>F</th>\n",
       "      <td>11</td>\n",
       "    </tr>\n",
       "    <tr>\n",
       "      <th>CIVILIAN COMPLAINT REVIEW BD</th>\n",
       "      <th>F</th>\n",
       "      <td>61</td>\n",
       "    </tr>\n",
       "    <tr>\n",
       "      <th>CONFLICTS OF INTEREST BOARD</th>\n",
       "      <th>F</th>\n",
       "      <td>2</td>\n",
       "    </tr>\n",
       "    <tr>\n",
       "      <th>CONSUMER AFFAIRS</th>\n",
       "      <th>F</th>\n",
       "      <td>15</td>\n",
       "    </tr>\n",
       "    <tr>\n",
       "      <th>DEPARTMENT FOR THE AGING</th>\n",
       "      <th>F</th>\n",
       "      <td>42</td>\n",
       "    </tr>\n",
       "    <tr>\n",
       "      <th rowspan=\"2\" valign=\"top\">DEPARTMENT OF BUILDINGS</th>\n",
       "      <th>F</th>\n",
       "      <td>194</td>\n",
       "    </tr>\n",
       "    <tr>\n",
       "      <th>P</th>\n",
       "      <td>50</td>\n",
       "    </tr>\n",
       "    <tr>\n",
       "      <th>DEPARTMENT OF BUSINESS SERV.</th>\n",
       "      <th>F</th>\n",
       "      <td>78</td>\n",
       "    </tr>\n",
       "    <tr>\n",
       "      <th rowspan=\"2\" valign=\"top\">DEPARTMENT OF CITY PLANNING</th>\n",
       "      <th>F</th>\n",
       "      <td>47</td>\n",
       "    </tr>\n",
       "    <tr>\n",
       "      <th>P</th>\n",
       "      <td>2</td>\n",
       "    </tr>\n",
       "    <tr>\n",
       "      <th rowspan=\"2\" valign=\"top\">DEPARTMENT OF CORRECTION</th>\n",
       "      <th>F</th>\n",
       "      <td>174</td>\n",
       "    </tr>\n",
       "    <tr>\n",
       "      <th>P</th>\n",
       "      <td>4</td>\n",
       "    </tr>\n",
       "    <tr>\n",
       "      <th rowspan=\"2\" valign=\"top\">DEPARTMENT OF FINANCE</th>\n",
       "      <th>F</th>\n",
       "      <td>9</td>\n",
       "    </tr>\n",
       "    <tr>\n",
       "      <th>P</th>\n",
       "      <td>2</td>\n",
       "    </tr>\n",
       "    <tr>\n",
       "      <th>DEPARTMENT OF INVESTIGATION</th>\n",
       "      <th>F</th>\n",
       "      <td>92</td>\n",
       "    </tr>\n",
       "  </tbody>\n",
       "</table>\n",
       "</div>"
      ],
      "text/plain": [
       "                                                             # Of Positions\n",
       "Agency                        Full-Time/Part-Time indicator                \n",
       "ADMIN FOR CHILDREN'S SVCS     F                                         245\n",
       "ADMIN TRIALS AND HEARINGS     F                                          28\n",
       "                              P                                          77\n",
       "BOARD OF CORRECTION           F                                          10\n",
       "BOROUGH PRESIDENT-QUEENS      F                                          10\n",
       "BUSINESS INTEGRITY COMMISSION F                                          11\n",
       "CIVILIAN COMPLAINT REVIEW BD  F                                          61\n",
       "CONFLICTS OF INTEREST BOARD   F                                           2\n",
       "CONSUMER AFFAIRS              F                                          15\n",
       "DEPARTMENT FOR THE AGING      F                                          42\n",
       "DEPARTMENT OF BUILDINGS       F                                         194\n",
       "                              P                                          50\n",
       "DEPARTMENT OF BUSINESS SERV.  F                                          78\n",
       "DEPARTMENT OF CITY PLANNING   F                                          47\n",
       "                              P                                           2\n",
       "DEPARTMENT OF CORRECTION      F                                         174\n",
       "                              P                                           4\n",
       "DEPARTMENT OF FINANCE         F                                           9\n",
       "                              P                                           2\n",
       "DEPARTMENT OF INVESTIGATION   F                                          92"
      ]
     },
     "execution_count": 58,
     "metadata": {},
     "output_type": "execute_result"
    }
   ],
   "source": [
    "nop=pd.DataFrame(jbdata.groupby(by=[\"Agency\",\"Full-Time/Part-Time indicator\"])[\"# Of Positions\"].sum())     \n",
    "nop.head(20)"
   ]
  },
  {
   "cell_type": "code",
   "execution_count": 64,
   "metadata": {},
   "outputs": [],
   "source": [
    "nop.reset_index(inplace=True)"
   ]
  },
  {
   "cell_type": "code",
   "execution_count": 72,
   "metadata": {},
   "outputs": [
    {
     "data": {
      "application/vnd.plotly.v1+json": {
       "config": {
        "plotlyServerURL": "https://plot.ly"
       },
       "data": [
        {
         "alignmentgroup": "True",
         "hoverlabel": {
          "namelength": 0
         },
         "hovertemplate": "Full-Time/Part-Time indicator=F<br>Agency=%{x}<br># Of Positions=%{y}",
         "legendgroup": "Full-Time/Part-Time indicator=F",
         "marker": {
          "color": "#636efa"
         },
         "name": "Full-Time/Part-Time indicator=F",
         "offsetgroup": "Full-Time/Part-Time indicator=F",
         "orientation": "v",
         "showlegend": true,
         "textposition": "auto",
         "type": "bar",
         "x": [
          "ADMIN FOR CHILDREN'S SVCS",
          "ADMIN TRIALS AND HEARINGS",
          "BOARD OF CORRECTION",
          "BOROUGH PRESIDENT-QUEENS",
          "BUSINESS INTEGRITY COMMISSION",
          "CIVILIAN COMPLAINT REVIEW BD",
          "CONFLICTS OF INTEREST BOARD",
          "CONSUMER AFFAIRS",
          "DEPARTMENT FOR THE AGING",
          "DEPARTMENT OF BUILDINGS",
          "DEPARTMENT OF BUSINESS SERV.",
          "DEPARTMENT OF CITY PLANNING",
          "DEPARTMENT OF CORRECTION",
          "DEPARTMENT OF FINANCE",
          "DEPARTMENT OF INVESTIGATION",
          "DEPARTMENT OF PROBATION",
          "DEPARTMENT OF SANITATION",
          "DEPARTMENT OF TRANSPORTATION",
          "DEPT OF CITYWIDE ADMIN SVCS",
          "DEPT OF DESIGN & CONSTRUCTION",
          "DEPT OF ENVIRONMENT PROTECTION",
          "DEPT OF HEALTH/MENTAL HYGIENE",
          "DEPT OF INFO TECH & TELECOMM",
          "DEPT OF PARKS & RECREATION",
          "DEPT OF RECORDS & INFO SERVICE",
          "DEPT OF YOUTH & COMM DEV SRVS",
          "DEPT. OF HOMELESS SERVICES",
          "DISTRICT ATTORNEY KINGS COUNTY",
          "DISTRICT ATTORNEY RICHMOND COU",
          "EQUAL EMPLOY PRACTICES COMM",
          "FINANCIAL INFO SVCS AGENCY",
          "FIRE DEPARTMENT",
          "HOUSING PRESERVATION & DVLPMNT",
          "HRA/DEPT OF SOCIAL SERVICES",
          "HUMAN RIGHTS COMMISSION",
          "LAW DEPARTMENT",
          "MANHATTAN COMMUNITY BOARD #10",
          "MANHATTAN COMMUNITY BOARD #11",
          "MAYORS OFFICE OF CONTRACT SVCS",
          "MUNICIPAL WATER FIN AUTHORITY",
          "NYC EMPLOYEES RETIREMENT SYS",
          "NYC FIRE PENSION FUND",
          "NYC HOUSING AUTHORITY",
          "OFF OF PAYROLL ADMINISTRATION",
          "OFFICE OF EMERGENCY MANAGEMENT",
          "OFFICE OF MANAGEMENT & BUDGET",
          "OFFICE OF THE COMPTROLLER",
          "POLICE DEPARTMENT",
          "PRESIDENT BOROUGH OF MANHATTAN",
          "PUBLIC ADMINISTRATOR-NEW YORK",
          "TAX COMMISSION",
          "TAXI & LIMOUSINE COMMISSION",
          "TEACHERS RETIREMENT SYSTEM"
         ],
         "xaxis": "x",
         "y": [
          245,
          28,
          10,
          10,
          11,
          61,
          2,
          15,
          42,
          194,
          78,
          47,
          174,
          9,
          92,
          22,
          22,
          405,
          26,
          341,
          1279,
          298,
          103,
          478,
          7,
          55,
          11,
          5,
          4,
          2,
          34,
          14,
          102,
          35,
          34,
          487,
          2,
          4,
          44,
          2,
          50,
          2,
          684,
          12,
          26,
          54,
          81,
          298,
          6,
          1,
          6,
          333,
          1
         ],
         "yaxis": "y"
        },
        {
         "alignmentgroup": "True",
         "hoverlabel": {
          "namelength": 0
         },
         "hovertemplate": "Full-Time/Part-Time indicator=P<br>Agency=%{x}<br># Of Positions=%{y}",
         "legendgroup": "Full-Time/Part-Time indicator=P",
         "marker": {
          "color": "#EF553B"
         },
         "name": "Full-Time/Part-Time indicator=P",
         "offsetgroup": "Full-Time/Part-Time indicator=P",
         "orientation": "v",
         "showlegend": true,
         "textposition": "auto",
         "type": "bar",
         "x": [
          "ADMIN TRIALS AND HEARINGS",
          "DEPARTMENT OF BUILDINGS",
          "DEPARTMENT OF CITY PLANNING",
          "DEPARTMENT OF CORRECTION",
          "DEPARTMENT OF FINANCE",
          "DEPARTMENT OF PROBATION",
          "DEPT OF DESIGN & CONSTRUCTION",
          "DEPT OF ENVIRONMENT PROTECTION",
          "DEPT OF HEALTH/MENTAL HYGIENE",
          "DEPT OF INFO TECH & TELECOMM",
          "DEPT OF PARKS & RECREATION",
          "DEPT OF RECORDS & INFO SERVICE",
          "FINANCIAL INFO SVCS AGENCY",
          "LAW DEPARTMENT",
          "MANHATTAN COMMUNITY BOARD #8",
          "NYC HOUSING AUTHORITY",
          "OFFICE OF COLLECTIVE BARGAININ",
          "OFFICE OF EMERGENCY MANAGEMENT",
          "OFFICE OF MANAGEMENT & BUDGET",
          "TAXI & LIMOUSINE COMMISSION"
         ],
         "xaxis": "x",
         "y": [
          77,
          50,
          2,
          4,
          2,
          56,
          10,
          14,
          507,
          22,
          450,
          14,
          2,
          8,
          2,
          9,
          2,
          4,
          2,
          18
         ],
         "yaxis": "y"
        }
       ],
       "layout": {
        "barmode": "stack",
        "height": 600,
        "legend": {
         "tracegroupgap": 0
        },
        "template": {
         "data": {
          "bar": [
           {
            "error_x": {
             "color": "#2a3f5f"
            },
            "error_y": {
             "color": "#2a3f5f"
            },
            "marker": {
             "line": {
              "color": "#E5ECF6",
              "width": 0.5
             }
            },
            "type": "bar"
           }
          ],
          "barpolar": [
           {
            "marker": {
             "line": {
              "color": "#E5ECF6",
              "width": 0.5
             }
            },
            "type": "barpolar"
           }
          ],
          "carpet": [
           {
            "aaxis": {
             "endlinecolor": "#2a3f5f",
             "gridcolor": "white",
             "linecolor": "white",
             "minorgridcolor": "white",
             "startlinecolor": "#2a3f5f"
            },
            "baxis": {
             "endlinecolor": "#2a3f5f",
             "gridcolor": "white",
             "linecolor": "white",
             "minorgridcolor": "white",
             "startlinecolor": "#2a3f5f"
            },
            "type": "carpet"
           }
          ],
          "choropleth": [
           {
            "colorbar": {
             "outlinewidth": 0,
             "ticks": ""
            },
            "type": "choropleth"
           }
          ],
          "contour": [
           {
            "colorbar": {
             "outlinewidth": 0,
             "ticks": ""
            },
            "colorscale": [
             [
              0,
              "#0d0887"
             ],
             [
              0.1111111111111111,
              "#46039f"
             ],
             [
              0.2222222222222222,
              "#7201a8"
             ],
             [
              0.3333333333333333,
              "#9c179e"
             ],
             [
              0.4444444444444444,
              "#bd3786"
             ],
             [
              0.5555555555555556,
              "#d8576b"
             ],
             [
              0.6666666666666666,
              "#ed7953"
             ],
             [
              0.7777777777777778,
              "#fb9f3a"
             ],
             [
              0.8888888888888888,
              "#fdca26"
             ],
             [
              1,
              "#f0f921"
             ]
            ],
            "type": "contour"
           }
          ],
          "contourcarpet": [
           {
            "colorbar": {
             "outlinewidth": 0,
             "ticks": ""
            },
            "type": "contourcarpet"
           }
          ],
          "heatmap": [
           {
            "colorbar": {
             "outlinewidth": 0,
             "ticks": ""
            },
            "colorscale": [
             [
              0,
              "#0d0887"
             ],
             [
              0.1111111111111111,
              "#46039f"
             ],
             [
              0.2222222222222222,
              "#7201a8"
             ],
             [
              0.3333333333333333,
              "#9c179e"
             ],
             [
              0.4444444444444444,
              "#bd3786"
             ],
             [
              0.5555555555555556,
              "#d8576b"
             ],
             [
              0.6666666666666666,
              "#ed7953"
             ],
             [
              0.7777777777777778,
              "#fb9f3a"
             ],
             [
              0.8888888888888888,
              "#fdca26"
             ],
             [
              1,
              "#f0f921"
             ]
            ],
            "type": "heatmap"
           }
          ],
          "heatmapgl": [
           {
            "colorbar": {
             "outlinewidth": 0,
             "ticks": ""
            },
            "colorscale": [
             [
              0,
              "#0d0887"
             ],
             [
              0.1111111111111111,
              "#46039f"
             ],
             [
              0.2222222222222222,
              "#7201a8"
             ],
             [
              0.3333333333333333,
              "#9c179e"
             ],
             [
              0.4444444444444444,
              "#bd3786"
             ],
             [
              0.5555555555555556,
              "#d8576b"
             ],
             [
              0.6666666666666666,
              "#ed7953"
             ],
             [
              0.7777777777777778,
              "#fb9f3a"
             ],
             [
              0.8888888888888888,
              "#fdca26"
             ],
             [
              1,
              "#f0f921"
             ]
            ],
            "type": "heatmapgl"
           }
          ],
          "histogram": [
           {
            "marker": {
             "colorbar": {
              "outlinewidth": 0,
              "ticks": ""
             }
            },
            "type": "histogram"
           }
          ],
          "histogram2d": [
           {
            "colorbar": {
             "outlinewidth": 0,
             "ticks": ""
            },
            "colorscale": [
             [
              0,
              "#0d0887"
             ],
             [
              0.1111111111111111,
              "#46039f"
             ],
             [
              0.2222222222222222,
              "#7201a8"
             ],
             [
              0.3333333333333333,
              "#9c179e"
             ],
             [
              0.4444444444444444,
              "#bd3786"
             ],
             [
              0.5555555555555556,
              "#d8576b"
             ],
             [
              0.6666666666666666,
              "#ed7953"
             ],
             [
              0.7777777777777778,
              "#fb9f3a"
             ],
             [
              0.8888888888888888,
              "#fdca26"
             ],
             [
              1,
              "#f0f921"
             ]
            ],
            "type": "histogram2d"
           }
          ],
          "histogram2dcontour": [
           {
            "colorbar": {
             "outlinewidth": 0,
             "ticks": ""
            },
            "colorscale": [
             [
              0,
              "#0d0887"
             ],
             [
              0.1111111111111111,
              "#46039f"
             ],
             [
              0.2222222222222222,
              "#7201a8"
             ],
             [
              0.3333333333333333,
              "#9c179e"
             ],
             [
              0.4444444444444444,
              "#bd3786"
             ],
             [
              0.5555555555555556,
              "#d8576b"
             ],
             [
              0.6666666666666666,
              "#ed7953"
             ],
             [
              0.7777777777777778,
              "#fb9f3a"
             ],
             [
              0.8888888888888888,
              "#fdca26"
             ],
             [
              1,
              "#f0f921"
             ]
            ],
            "type": "histogram2dcontour"
           }
          ],
          "mesh3d": [
           {
            "colorbar": {
             "outlinewidth": 0,
             "ticks": ""
            },
            "type": "mesh3d"
           }
          ],
          "parcoords": [
           {
            "line": {
             "colorbar": {
              "outlinewidth": 0,
              "ticks": ""
             }
            },
            "type": "parcoords"
           }
          ],
          "scatter": [
           {
            "marker": {
             "colorbar": {
              "outlinewidth": 0,
              "ticks": ""
             }
            },
            "type": "scatter"
           }
          ],
          "scatter3d": [
           {
            "line": {
             "colorbar": {
              "outlinewidth": 0,
              "ticks": ""
             }
            },
            "marker": {
             "colorbar": {
              "outlinewidth": 0,
              "ticks": ""
             }
            },
            "type": "scatter3d"
           }
          ],
          "scattercarpet": [
           {
            "marker": {
             "colorbar": {
              "outlinewidth": 0,
              "ticks": ""
             }
            },
            "type": "scattercarpet"
           }
          ],
          "scattergeo": [
           {
            "marker": {
             "colorbar": {
              "outlinewidth": 0,
              "ticks": ""
             }
            },
            "type": "scattergeo"
           }
          ],
          "scattergl": [
           {
            "marker": {
             "colorbar": {
              "outlinewidth": 0,
              "ticks": ""
             }
            },
            "type": "scattergl"
           }
          ],
          "scattermapbox": [
           {
            "marker": {
             "colorbar": {
              "outlinewidth": 0,
              "ticks": ""
             }
            },
            "type": "scattermapbox"
           }
          ],
          "scatterpolar": [
           {
            "marker": {
             "colorbar": {
              "outlinewidth": 0,
              "ticks": ""
             }
            },
            "type": "scatterpolar"
           }
          ],
          "scatterpolargl": [
           {
            "marker": {
             "colorbar": {
              "outlinewidth": 0,
              "ticks": ""
             }
            },
            "type": "scatterpolargl"
           }
          ],
          "scatterternary": [
           {
            "marker": {
             "colorbar": {
              "outlinewidth": 0,
              "ticks": ""
             }
            },
            "type": "scatterternary"
           }
          ],
          "surface": [
           {
            "colorbar": {
             "outlinewidth": 0,
             "ticks": ""
            },
            "colorscale": [
             [
              0,
              "#0d0887"
             ],
             [
              0.1111111111111111,
              "#46039f"
             ],
             [
              0.2222222222222222,
              "#7201a8"
             ],
             [
              0.3333333333333333,
              "#9c179e"
             ],
             [
              0.4444444444444444,
              "#bd3786"
             ],
             [
              0.5555555555555556,
              "#d8576b"
             ],
             [
              0.6666666666666666,
              "#ed7953"
             ],
             [
              0.7777777777777778,
              "#fb9f3a"
             ],
             [
              0.8888888888888888,
              "#fdca26"
             ],
             [
              1,
              "#f0f921"
             ]
            ],
            "type": "surface"
           }
          ],
          "table": [
           {
            "cells": {
             "fill": {
              "color": "#EBF0F8"
             },
             "line": {
              "color": "white"
             }
            },
            "header": {
             "fill": {
              "color": "#C8D4E3"
             },
             "line": {
              "color": "white"
             }
            },
            "type": "table"
           }
          ]
         },
         "layout": {
          "annotationdefaults": {
           "arrowcolor": "#2a3f5f",
           "arrowhead": 0,
           "arrowwidth": 1
          },
          "colorscale": {
           "diverging": [
            [
             0,
             "#8e0152"
            ],
            [
             0.1,
             "#c51b7d"
            ],
            [
             0.2,
             "#de77ae"
            ],
            [
             0.3,
             "#f1b6da"
            ],
            [
             0.4,
             "#fde0ef"
            ],
            [
             0.5,
             "#f7f7f7"
            ],
            [
             0.6,
             "#e6f5d0"
            ],
            [
             0.7,
             "#b8e186"
            ],
            [
             0.8,
             "#7fbc41"
            ],
            [
             0.9,
             "#4d9221"
            ],
            [
             1,
             "#276419"
            ]
           ],
           "sequential": [
            [
             0,
             "#0d0887"
            ],
            [
             0.1111111111111111,
             "#46039f"
            ],
            [
             0.2222222222222222,
             "#7201a8"
            ],
            [
             0.3333333333333333,
             "#9c179e"
            ],
            [
             0.4444444444444444,
             "#bd3786"
            ],
            [
             0.5555555555555556,
             "#d8576b"
            ],
            [
             0.6666666666666666,
             "#ed7953"
            ],
            [
             0.7777777777777778,
             "#fb9f3a"
            ],
            [
             0.8888888888888888,
             "#fdca26"
            ],
            [
             1,
             "#f0f921"
            ]
           ],
           "sequentialminus": [
            [
             0,
             "#0d0887"
            ],
            [
             0.1111111111111111,
             "#46039f"
            ],
            [
             0.2222222222222222,
             "#7201a8"
            ],
            [
             0.3333333333333333,
             "#9c179e"
            ],
            [
             0.4444444444444444,
             "#bd3786"
            ],
            [
             0.5555555555555556,
             "#d8576b"
            ],
            [
             0.6666666666666666,
             "#ed7953"
            ],
            [
             0.7777777777777778,
             "#fb9f3a"
            ],
            [
             0.8888888888888888,
             "#fdca26"
            ],
            [
             1,
             "#f0f921"
            ]
           ]
          },
          "colorway": [
           "#636efa",
           "#EF553B",
           "#00cc96",
           "#ab63fa",
           "#FFA15A",
           "#19d3f3",
           "#FF6692",
           "#B6E880",
           "#FF97FF",
           "#FECB52"
          ],
          "font": {
           "color": "#2a3f5f"
          },
          "geo": {
           "bgcolor": "white",
           "lakecolor": "white",
           "landcolor": "#E5ECF6",
           "showlakes": true,
           "showland": true,
           "subunitcolor": "white"
          },
          "hoverlabel": {
           "align": "left"
          },
          "hovermode": "closest",
          "mapbox": {
           "style": "light"
          },
          "paper_bgcolor": "white",
          "plot_bgcolor": "#E5ECF6",
          "polar": {
           "angularaxis": {
            "gridcolor": "white",
            "linecolor": "white",
            "ticks": ""
           },
           "bgcolor": "#E5ECF6",
           "radialaxis": {
            "gridcolor": "white",
            "linecolor": "white",
            "ticks": ""
           }
          },
          "scene": {
           "xaxis": {
            "backgroundcolor": "#E5ECF6",
            "gridcolor": "white",
            "gridwidth": 2,
            "linecolor": "white",
            "showbackground": true,
            "ticks": "",
            "zerolinecolor": "white"
           },
           "yaxis": {
            "backgroundcolor": "#E5ECF6",
            "gridcolor": "white",
            "gridwidth": 2,
            "linecolor": "white",
            "showbackground": true,
            "ticks": "",
            "zerolinecolor": "white"
           },
           "zaxis": {
            "backgroundcolor": "#E5ECF6",
            "gridcolor": "white",
            "gridwidth": 2,
            "linecolor": "white",
            "showbackground": true,
            "ticks": "",
            "zerolinecolor": "white"
           }
          },
          "shapedefaults": {
           "line": {
            "color": "#2a3f5f"
           }
          },
          "ternary": {
           "aaxis": {
            "gridcolor": "white",
            "linecolor": "white",
            "ticks": ""
           },
           "baxis": {
            "gridcolor": "white",
            "linecolor": "white",
            "ticks": ""
           },
           "bgcolor": "#E5ECF6",
           "caxis": {
            "gridcolor": "white",
            "linecolor": "white",
            "ticks": ""
           }
          },
          "title": {
           "x": 0.05
          },
          "xaxis": {
           "automargin": true,
           "gridcolor": "white",
           "linecolor": "white",
           "ticks": "",
           "zerolinecolor": "white",
           "zerolinewidth": 2
          },
          "yaxis": {
           "automargin": true,
           "gridcolor": "white",
           "linecolor": "white",
           "ticks": "",
           "zerolinecolor": "white",
           "zerolinewidth": 2
          }
         }
        },
        "title": {
         "text": "No. of Positions"
        },
        "xaxis": {
         "anchor": "y",
         "domain": [
          0,
          0.98
         ],
         "title": {
          "text": "Agency"
         }
        },
        "yaxis": {
         "anchor": "x",
         "domain": [
          0,
          1
         ],
         "title": {
          "text": "# Of Positions"
         }
        }
       }
      },
      "text/html": [
       "<div>\n",
       "        \n",
       "        \n",
       "            <div id=\"6b2f2048-d09f-46f7-ab3a-a2da8df96f0a\" class=\"plotly-graph-div\" style=\"height:600px; width:100%;\"></div>\n",
       "            <script type=\"text/javascript\">\n",
       "                require([\"plotly\"], function(Plotly) {\n",
       "                    window.PLOTLYENV=window.PLOTLYENV || {};\n",
       "                    \n",
       "                if (document.getElementById(\"6b2f2048-d09f-46f7-ab3a-a2da8df96f0a\")) {\n",
       "                    Plotly.newPlot(\n",
       "                        '6b2f2048-d09f-46f7-ab3a-a2da8df96f0a',\n",
       "                        [{\"alignmentgroup\": \"True\", \"hoverlabel\": {\"namelength\": 0}, \"hovertemplate\": \"Full-Time/Part-Time indicator=F<br>Agency=%{x}<br># Of Positions=%{y}\", \"legendgroup\": \"Full-Time/Part-Time indicator=F\", \"marker\": {\"color\": \"#636efa\"}, \"name\": \"Full-Time/Part-Time indicator=F\", \"offsetgroup\": \"Full-Time/Part-Time indicator=F\", \"orientation\": \"v\", \"showlegend\": true, \"textposition\": \"auto\", \"type\": \"bar\", \"x\": [\"ADMIN FOR CHILDREN'S SVCS\", \"ADMIN TRIALS AND HEARINGS\", \"BOARD OF CORRECTION\", \"BOROUGH PRESIDENT-QUEENS\", \"BUSINESS INTEGRITY COMMISSION\", \"CIVILIAN COMPLAINT REVIEW BD\", \"CONFLICTS OF INTEREST BOARD\", \"CONSUMER AFFAIRS\", \"DEPARTMENT FOR THE AGING\", \"DEPARTMENT OF BUILDINGS\", \"DEPARTMENT OF BUSINESS SERV.\", \"DEPARTMENT OF CITY PLANNING\", \"DEPARTMENT OF CORRECTION\", \"DEPARTMENT OF FINANCE\", \"DEPARTMENT OF INVESTIGATION\", \"DEPARTMENT OF PROBATION\", \"DEPARTMENT OF SANITATION\", \"DEPARTMENT OF TRANSPORTATION\", \"DEPT OF CITYWIDE ADMIN SVCS\", \"DEPT OF DESIGN & CONSTRUCTION\", \"DEPT OF ENVIRONMENT PROTECTION\", \"DEPT OF HEALTH/MENTAL HYGIENE\", \"DEPT OF INFO TECH & TELECOMM\", \"DEPT OF PARKS & RECREATION\", \"DEPT OF RECORDS & INFO SERVICE\", \"DEPT OF YOUTH & COMM DEV SRVS\", \"DEPT. OF HOMELESS SERVICES\", \"DISTRICT ATTORNEY KINGS COUNTY\", \"DISTRICT ATTORNEY RICHMOND COU\", \"EQUAL EMPLOY PRACTICES COMM\", \"FINANCIAL INFO SVCS AGENCY\", \"FIRE DEPARTMENT\", \"HOUSING PRESERVATION & DVLPMNT\", \"HRA/DEPT OF SOCIAL SERVICES\", \"HUMAN RIGHTS COMMISSION\", \"LAW DEPARTMENT\", \"MANHATTAN COMMUNITY BOARD #10\", \"MANHATTAN COMMUNITY BOARD #11\", \"MAYORS OFFICE OF CONTRACT SVCS\", \"MUNICIPAL WATER FIN AUTHORITY\", \"NYC EMPLOYEES RETIREMENT SYS\", \"NYC FIRE PENSION FUND\", \"NYC HOUSING AUTHORITY\", \"OFF OF PAYROLL ADMINISTRATION\", \"OFFICE OF EMERGENCY MANAGEMENT\", \"OFFICE OF MANAGEMENT & BUDGET\", \"OFFICE OF THE COMPTROLLER\", \"POLICE DEPARTMENT\", \"PRESIDENT BOROUGH OF MANHATTAN\", \"PUBLIC ADMINISTRATOR-NEW YORK\", \"TAX COMMISSION\", \"TAXI & LIMOUSINE COMMISSION\", \"TEACHERS RETIREMENT SYSTEM\"], \"xaxis\": \"x\", \"y\": [245, 28, 10, 10, 11, 61, 2, 15, 42, 194, 78, 47, 174, 9, 92, 22, 22, 405, 26, 341, 1279, 298, 103, 478, 7, 55, 11, 5, 4, 2, 34, 14, 102, 35, 34, 487, 2, 4, 44, 2, 50, 2, 684, 12, 26, 54, 81, 298, 6, 1, 6, 333, 1], \"yaxis\": \"y\"}, {\"alignmentgroup\": \"True\", \"hoverlabel\": {\"namelength\": 0}, \"hovertemplate\": \"Full-Time/Part-Time indicator=P<br>Agency=%{x}<br># Of Positions=%{y}\", \"legendgroup\": \"Full-Time/Part-Time indicator=P\", \"marker\": {\"color\": \"#EF553B\"}, \"name\": \"Full-Time/Part-Time indicator=P\", \"offsetgroup\": \"Full-Time/Part-Time indicator=P\", \"orientation\": \"v\", \"showlegend\": true, \"textposition\": \"auto\", \"type\": \"bar\", \"x\": [\"ADMIN TRIALS AND HEARINGS\", \"DEPARTMENT OF BUILDINGS\", \"DEPARTMENT OF CITY PLANNING\", \"DEPARTMENT OF CORRECTION\", \"DEPARTMENT OF FINANCE\", \"DEPARTMENT OF PROBATION\", \"DEPT OF DESIGN & CONSTRUCTION\", \"DEPT OF ENVIRONMENT PROTECTION\", \"DEPT OF HEALTH/MENTAL HYGIENE\", \"DEPT OF INFO TECH & TELECOMM\", \"DEPT OF PARKS & RECREATION\", \"DEPT OF RECORDS & INFO SERVICE\", \"FINANCIAL INFO SVCS AGENCY\", \"LAW DEPARTMENT\", \"MANHATTAN COMMUNITY BOARD #8\", \"NYC HOUSING AUTHORITY\", \"OFFICE OF COLLECTIVE BARGAININ\", \"OFFICE OF EMERGENCY MANAGEMENT\", \"OFFICE OF MANAGEMENT & BUDGET\", \"TAXI & LIMOUSINE COMMISSION\"], \"xaxis\": \"x\", \"y\": [77, 50, 2, 4, 2, 56, 10, 14, 507, 22, 450, 14, 2, 8, 2, 9, 2, 4, 2, 18], \"yaxis\": \"y\"}],\n",
       "                        {\"barmode\": \"stack\", \"height\": 600, \"legend\": {\"tracegroupgap\": 0}, \"template\": {\"data\": {\"bar\": [{\"error_x\": {\"color\": \"#2a3f5f\"}, \"error_y\": {\"color\": \"#2a3f5f\"}, \"marker\": {\"line\": {\"color\": \"#E5ECF6\", \"width\": 0.5}}, \"type\": \"bar\"}], \"barpolar\": [{\"marker\": {\"line\": {\"color\": \"#E5ECF6\", \"width\": 0.5}}, \"type\": \"barpolar\"}], \"carpet\": [{\"aaxis\": {\"endlinecolor\": \"#2a3f5f\", \"gridcolor\": \"white\", \"linecolor\": \"white\", \"minorgridcolor\": \"white\", \"startlinecolor\": \"#2a3f5f\"}, \"baxis\": {\"endlinecolor\": \"#2a3f5f\", \"gridcolor\": \"white\", \"linecolor\": \"white\", \"minorgridcolor\": \"white\", \"startlinecolor\": \"#2a3f5f\"}, \"type\": \"carpet\"}], \"choropleth\": [{\"colorbar\": {\"outlinewidth\": 0, \"ticks\": \"\"}, \"type\": \"choropleth\"}], \"contour\": [{\"colorbar\": {\"outlinewidth\": 0, \"ticks\": \"\"}, \"colorscale\": [[0.0, \"#0d0887\"], [0.1111111111111111, \"#46039f\"], [0.2222222222222222, \"#7201a8\"], [0.3333333333333333, \"#9c179e\"], [0.4444444444444444, \"#bd3786\"], [0.5555555555555556, \"#d8576b\"], [0.6666666666666666, \"#ed7953\"], [0.7777777777777778, \"#fb9f3a\"], [0.8888888888888888, \"#fdca26\"], [1.0, \"#f0f921\"]], \"type\": \"contour\"}], \"contourcarpet\": [{\"colorbar\": {\"outlinewidth\": 0, \"ticks\": \"\"}, \"type\": \"contourcarpet\"}], \"heatmap\": [{\"colorbar\": {\"outlinewidth\": 0, \"ticks\": \"\"}, \"colorscale\": [[0.0, \"#0d0887\"], [0.1111111111111111, \"#46039f\"], [0.2222222222222222, \"#7201a8\"], [0.3333333333333333, \"#9c179e\"], [0.4444444444444444, \"#bd3786\"], [0.5555555555555556, \"#d8576b\"], [0.6666666666666666, \"#ed7953\"], [0.7777777777777778, \"#fb9f3a\"], [0.8888888888888888, \"#fdca26\"], [1.0, \"#f0f921\"]], \"type\": \"heatmap\"}], \"heatmapgl\": [{\"colorbar\": {\"outlinewidth\": 0, \"ticks\": \"\"}, \"colorscale\": [[0.0, \"#0d0887\"], [0.1111111111111111, \"#46039f\"], [0.2222222222222222, \"#7201a8\"], [0.3333333333333333, \"#9c179e\"], [0.4444444444444444, \"#bd3786\"], [0.5555555555555556, \"#d8576b\"], [0.6666666666666666, \"#ed7953\"], [0.7777777777777778, \"#fb9f3a\"], [0.8888888888888888, \"#fdca26\"], [1.0, \"#f0f921\"]], \"type\": \"heatmapgl\"}], \"histogram\": [{\"marker\": {\"colorbar\": {\"outlinewidth\": 0, \"ticks\": \"\"}}, \"type\": \"histogram\"}], \"histogram2d\": [{\"colorbar\": {\"outlinewidth\": 0, \"ticks\": \"\"}, \"colorscale\": [[0.0, \"#0d0887\"], [0.1111111111111111, \"#46039f\"], [0.2222222222222222, \"#7201a8\"], [0.3333333333333333, \"#9c179e\"], [0.4444444444444444, \"#bd3786\"], [0.5555555555555556, \"#d8576b\"], [0.6666666666666666, \"#ed7953\"], [0.7777777777777778, \"#fb9f3a\"], [0.8888888888888888, \"#fdca26\"], [1.0, \"#f0f921\"]], \"type\": \"histogram2d\"}], \"histogram2dcontour\": [{\"colorbar\": {\"outlinewidth\": 0, \"ticks\": \"\"}, \"colorscale\": [[0.0, \"#0d0887\"], [0.1111111111111111, \"#46039f\"], [0.2222222222222222, \"#7201a8\"], [0.3333333333333333, \"#9c179e\"], [0.4444444444444444, \"#bd3786\"], [0.5555555555555556, \"#d8576b\"], [0.6666666666666666, \"#ed7953\"], [0.7777777777777778, \"#fb9f3a\"], [0.8888888888888888, \"#fdca26\"], [1.0, \"#f0f921\"]], \"type\": \"histogram2dcontour\"}], \"mesh3d\": [{\"colorbar\": {\"outlinewidth\": 0, \"ticks\": \"\"}, \"type\": \"mesh3d\"}], \"parcoords\": [{\"line\": {\"colorbar\": {\"outlinewidth\": 0, \"ticks\": \"\"}}, \"type\": \"parcoords\"}], \"scatter\": [{\"marker\": {\"colorbar\": {\"outlinewidth\": 0, \"ticks\": \"\"}}, \"type\": \"scatter\"}], \"scatter3d\": [{\"line\": {\"colorbar\": {\"outlinewidth\": 0, \"ticks\": \"\"}}, \"marker\": {\"colorbar\": {\"outlinewidth\": 0, \"ticks\": \"\"}}, \"type\": \"scatter3d\"}], \"scattercarpet\": [{\"marker\": {\"colorbar\": {\"outlinewidth\": 0, \"ticks\": \"\"}}, \"type\": \"scattercarpet\"}], \"scattergeo\": [{\"marker\": {\"colorbar\": {\"outlinewidth\": 0, \"ticks\": \"\"}}, \"type\": \"scattergeo\"}], \"scattergl\": [{\"marker\": {\"colorbar\": {\"outlinewidth\": 0, \"ticks\": \"\"}}, \"type\": \"scattergl\"}], \"scattermapbox\": [{\"marker\": {\"colorbar\": {\"outlinewidth\": 0, \"ticks\": \"\"}}, \"type\": \"scattermapbox\"}], \"scatterpolar\": [{\"marker\": {\"colorbar\": {\"outlinewidth\": 0, \"ticks\": \"\"}}, \"type\": \"scatterpolar\"}], \"scatterpolargl\": [{\"marker\": {\"colorbar\": {\"outlinewidth\": 0, \"ticks\": \"\"}}, \"type\": \"scatterpolargl\"}], \"scatterternary\": [{\"marker\": {\"colorbar\": {\"outlinewidth\": 0, \"ticks\": \"\"}}, \"type\": \"scatterternary\"}], \"surface\": [{\"colorbar\": {\"outlinewidth\": 0, \"ticks\": \"\"}, \"colorscale\": [[0.0, \"#0d0887\"], [0.1111111111111111, \"#46039f\"], [0.2222222222222222, \"#7201a8\"], [0.3333333333333333, \"#9c179e\"], [0.4444444444444444, \"#bd3786\"], [0.5555555555555556, \"#d8576b\"], [0.6666666666666666, \"#ed7953\"], [0.7777777777777778, \"#fb9f3a\"], [0.8888888888888888, \"#fdca26\"], [1.0, \"#f0f921\"]], \"type\": \"surface\"}], \"table\": [{\"cells\": {\"fill\": {\"color\": \"#EBF0F8\"}, \"line\": {\"color\": \"white\"}}, \"header\": {\"fill\": {\"color\": \"#C8D4E3\"}, \"line\": {\"color\": \"white\"}}, \"type\": \"table\"}]}, \"layout\": {\"annotationdefaults\": {\"arrowcolor\": \"#2a3f5f\", \"arrowhead\": 0, \"arrowwidth\": 1}, \"colorscale\": {\"diverging\": [[0, \"#8e0152\"], [0.1, \"#c51b7d\"], [0.2, \"#de77ae\"], [0.3, \"#f1b6da\"], [0.4, \"#fde0ef\"], [0.5, \"#f7f7f7\"], [0.6, \"#e6f5d0\"], [0.7, \"#b8e186\"], [0.8, \"#7fbc41\"], [0.9, \"#4d9221\"], [1, \"#276419\"]], \"sequential\": [[0.0, \"#0d0887\"], [0.1111111111111111, \"#46039f\"], [0.2222222222222222, \"#7201a8\"], [0.3333333333333333, \"#9c179e\"], [0.4444444444444444, \"#bd3786\"], [0.5555555555555556, \"#d8576b\"], [0.6666666666666666, \"#ed7953\"], [0.7777777777777778, \"#fb9f3a\"], [0.8888888888888888, \"#fdca26\"], [1.0, \"#f0f921\"]], \"sequentialminus\": [[0.0, \"#0d0887\"], [0.1111111111111111, \"#46039f\"], [0.2222222222222222, \"#7201a8\"], [0.3333333333333333, \"#9c179e\"], [0.4444444444444444, \"#bd3786\"], [0.5555555555555556, \"#d8576b\"], [0.6666666666666666, \"#ed7953\"], [0.7777777777777778, \"#fb9f3a\"], [0.8888888888888888, \"#fdca26\"], [1.0, \"#f0f921\"]]}, \"colorway\": [\"#636efa\", \"#EF553B\", \"#00cc96\", \"#ab63fa\", \"#FFA15A\", \"#19d3f3\", \"#FF6692\", \"#B6E880\", \"#FF97FF\", \"#FECB52\"], \"font\": {\"color\": \"#2a3f5f\"}, \"geo\": {\"bgcolor\": \"white\", \"lakecolor\": \"white\", \"landcolor\": \"#E5ECF6\", \"showlakes\": true, \"showland\": true, \"subunitcolor\": \"white\"}, \"hoverlabel\": {\"align\": \"left\"}, \"hovermode\": \"closest\", \"mapbox\": {\"style\": \"light\"}, \"paper_bgcolor\": \"white\", \"plot_bgcolor\": \"#E5ECF6\", \"polar\": {\"angularaxis\": {\"gridcolor\": \"white\", \"linecolor\": \"white\", \"ticks\": \"\"}, \"bgcolor\": \"#E5ECF6\", \"radialaxis\": {\"gridcolor\": \"white\", \"linecolor\": \"white\", \"ticks\": \"\"}}, \"scene\": {\"xaxis\": {\"backgroundcolor\": \"#E5ECF6\", \"gridcolor\": \"white\", \"gridwidth\": 2, \"linecolor\": \"white\", \"showbackground\": true, \"ticks\": \"\", \"zerolinecolor\": \"white\"}, \"yaxis\": {\"backgroundcolor\": \"#E5ECF6\", \"gridcolor\": \"white\", \"gridwidth\": 2, \"linecolor\": \"white\", \"showbackground\": true, \"ticks\": \"\", \"zerolinecolor\": \"white\"}, \"zaxis\": {\"backgroundcolor\": \"#E5ECF6\", \"gridcolor\": \"white\", \"gridwidth\": 2, \"linecolor\": \"white\", \"showbackground\": true, \"ticks\": \"\", \"zerolinecolor\": \"white\"}}, \"shapedefaults\": {\"line\": {\"color\": \"#2a3f5f\"}}, \"ternary\": {\"aaxis\": {\"gridcolor\": \"white\", \"linecolor\": \"white\", \"ticks\": \"\"}, \"baxis\": {\"gridcolor\": \"white\", \"linecolor\": \"white\", \"ticks\": \"\"}, \"bgcolor\": \"#E5ECF6\", \"caxis\": {\"gridcolor\": \"white\", \"linecolor\": \"white\", \"ticks\": \"\"}}, \"title\": {\"x\": 0.05}, \"xaxis\": {\"automargin\": true, \"gridcolor\": \"white\", \"linecolor\": \"white\", \"ticks\": \"\", \"zerolinecolor\": \"white\", \"zerolinewidth\": 2}, \"yaxis\": {\"automargin\": true, \"gridcolor\": \"white\", \"linecolor\": \"white\", \"ticks\": \"\", \"zerolinecolor\": \"white\", \"zerolinewidth\": 2}}}, \"title\": {\"text\": \"No. of Positions\"}, \"xaxis\": {\"anchor\": \"y\", \"domain\": [0.0, 0.98], \"title\": {\"text\": \"Agency\"}}, \"yaxis\": {\"anchor\": \"x\", \"domain\": [0.0, 1.0], \"title\": {\"text\": \"# Of Positions\"}}},\n",
       "                        {\"responsive\": true}\n",
       "                    ).then(function(){\n",
       "                            \n",
       "var gd = document.getElementById('6b2f2048-d09f-46f7-ab3a-a2da8df96f0a');\n",
       "var x = new MutationObserver(function (mutations, observer) {{\n",
       "        var display = window.getComputedStyle(gd).display;\n",
       "        if (!display || display === 'none') {{\n",
       "            console.log([gd, 'removed!']);\n",
       "            Plotly.purge(gd);\n",
       "            observer.disconnect();\n",
       "        }}\n",
       "}});\n",
       "\n",
       "// Listen for the removal of the full notebook cells\n",
       "var notebookContainer = gd.closest('#notebook-container');\n",
       "if (notebookContainer) {{\n",
       "    x.observe(notebookContainer, {childList: true});\n",
       "}}\n",
       "\n",
       "// Listen for the clearing of the current output cell\n",
       "var outputEl = gd.closest('.output');\n",
       "if (outputEl) {{\n",
       "    x.observe(outputEl, {childList: true});\n",
       "}}\n",
       "\n",
       "                        })\n",
       "                };\n",
       "                });\n",
       "            </script>\n",
       "        </div>"
      ]
     },
     "metadata": {},
     "output_type": "display_data"
    }
   ],
   "source": [
    "fig = px.bar(nop,x=\"Agency\",y=\"# Of Positions\",title=\"No. of Positions\",barmode=\"stack\",color=\"Full-Time/Part-Time indicator\")\n",
    "fig.show()"
   ]
  },
  {
   "cell_type": "code",
   "execution_count": 34,
   "metadata": {},
   "outputs": [],
   "source": []
  },
  {
   "cell_type": "code",
   "execution_count": 73,
   "metadata": {},
   "outputs": [],
   "source": [
    "# now lets see what else we can infer from the data"
   ]
  },
  {
   "cell_type": "code",
   "execution_count": 74,
   "metadata": {},
   "outputs": [
    {
     "data": {
      "text/html": [
       "<div>\n",
       "<style scoped>\n",
       "    .dataframe tbody tr th:only-of-type {\n",
       "        vertical-align: middle;\n",
       "    }\n",
       "\n",
       "    .dataframe tbody tr th {\n",
       "        vertical-align: top;\n",
       "    }\n",
       "\n",
       "    .dataframe thead th {\n",
       "        text-align: right;\n",
       "    }\n",
       "</style>\n",
       "<table border=\"1\" class=\"dataframe\">\n",
       "  <thead>\n",
       "    <tr style=\"text-align: right;\">\n",
       "      <th></th>\n",
       "      <th>Job ID</th>\n",
       "      <th>Agency</th>\n",
       "      <th>Posting Type</th>\n",
       "      <th># Of Positions</th>\n",
       "      <th>Business Title</th>\n",
       "      <th>Civil Service Title</th>\n",
       "      <th>Title Code No</th>\n",
       "      <th>Level</th>\n",
       "      <th>Job Category</th>\n",
       "      <th>Full-Time/Part-Time indicator</th>\n",
       "      <th>Salary Range From</th>\n",
       "      <th>Salary Range To</th>\n",
       "      <th>Salary Frequency</th>\n",
       "      <th>Work Location</th>\n",
       "      <th>Division/Work Unit</th>\n",
       "      <th>Job Description</th>\n",
       "      <th>Minimum Qual Requirements</th>\n",
       "      <th>Preferred Skills</th>\n",
       "      <th>Additional Information</th>\n",
       "      <th>To Apply</th>\n",
       "      <th>Hours/Shift</th>\n",
       "      <th>Work Location 1</th>\n",
       "      <th>Recruitment Contact</th>\n",
       "      <th>Residency Requirement</th>\n",
       "      <th>Posting Date</th>\n",
       "      <th>Post Until</th>\n",
       "      <th>Posting Updated</th>\n",
       "      <th>Process Date</th>\n",
       "    </tr>\n",
       "  </thead>\n",
       "  <tbody>\n",
       "    <tr>\n",
       "      <th>0</th>\n",
       "      <td>87990</td>\n",
       "      <td>DEPARTMENT OF BUSINESS SERV.</td>\n",
       "      <td>Internal</td>\n",
       "      <td>1</td>\n",
       "      <td>Account Manager</td>\n",
       "      <td>CONTRACT REVIEWER (OFFICE OF L</td>\n",
       "      <td>40563</td>\n",
       "      <td>1</td>\n",
       "      <td>NaN</td>\n",
       "      <td>NaN</td>\n",
       "      <td>42405</td>\n",
       "      <td>65485</td>\n",
       "      <td>Annual</td>\n",
       "      <td>110 William St. N Y</td>\n",
       "      <td>Strategy &amp; Analytics</td>\n",
       "      <td>Division of Economic &amp; Financial Opportunity (...</td>\n",
       "      <td>1.\\tA baccalaureate degree from an accredited ...</td>\n",
       "      <td>â€¢\\tExcellent interpersonal and organizationa...</td>\n",
       "      <td>Salary range for this position is: $42,405 - $...</td>\n",
       "      <td>NaN</td>\n",
       "      <td>NaN</td>\n",
       "      <td>NaN</td>\n",
       "      <td>NaN</td>\n",
       "      <td>New York City residency is generally required ...</td>\n",
       "      <td>2011-06-24T00:00:00.000</td>\n",
       "      <td>NaN</td>\n",
       "      <td>2011-06-24T00:00:00.000</td>\n",
       "      <td>2019-07-30T00:00:00.000</td>\n",
       "    </tr>\n",
       "    <tr>\n",
       "      <th>1</th>\n",
       "      <td>97899</td>\n",
       "      <td>DEPARTMENT OF BUSINESS SERV.</td>\n",
       "      <td>Internal</td>\n",
       "      <td>1</td>\n",
       "      <td>EXECUTIVE DIRECTOR, BUSINESS DEVELOPMENT</td>\n",
       "      <td>ADMINISTRATIVE BUSINESS PROMOT</td>\n",
       "      <td>10009</td>\n",
       "      <td>M3</td>\n",
       "      <td>NaN</td>\n",
       "      <td>F</td>\n",
       "      <td>60740</td>\n",
       "      <td>162014</td>\n",
       "      <td>Annual</td>\n",
       "      <td>110 William St. N Y</td>\n",
       "      <td>Tech Talent Pipeline</td>\n",
       "      <td>The New York City Department of Small Business...</td>\n",
       "      <td>1. A baccalaureate degree from an accredited c...</td>\n",
       "      <td>NaN</td>\n",
       "      <td>NaN</td>\n",
       "      <td>In addition to applying through this website, ...</td>\n",
       "      <td>NaN</td>\n",
       "      <td>NaN</td>\n",
       "      <td>NaN</td>\n",
       "      <td>New York City residency is generally required ...</td>\n",
       "      <td>2012-01-26T00:00:00.000</td>\n",
       "      <td>NaN</td>\n",
       "      <td>2012-01-26T00:00:00.000</td>\n",
       "      <td>2019-07-30T00:00:00.000</td>\n",
       "    </tr>\n",
       "    <tr>\n",
       "      <th>2</th>\n",
       "      <td>132292</td>\n",
       "      <td>NYC HOUSING AUTHORITY</td>\n",
       "      <td>External</td>\n",
       "      <td>52</td>\n",
       "      <td>Maintenance Worker - Technical Services-Heatin...</td>\n",
       "      <td>MAINTENANCE WORKER</td>\n",
       "      <td>90698</td>\n",
       "      <td>0</td>\n",
       "      <td>Maintenance &amp; Operations</td>\n",
       "      <td>F</td>\n",
       "      <td>51907</td>\n",
       "      <td>54580</td>\n",
       "      <td>Annual</td>\n",
       "      <td>Heating Mgt-Operations</td>\n",
       "      <td>Management Services Department</td>\n",
       "      <td>Under direct supervision, assist in the routin...</td>\n",
       "      <td>1. Three years of full-time satisfactory exper...</td>\n",
       "      <td>1.  A High School Diploma or GED.  2.  CDL Dri...</td>\n",
       "      <td>1.  A Motor Vehicle Driverâ€™s License valid i...</td>\n",
       "      <td>Click the \"Apply Now\" button.</td>\n",
       "      <td>NaN</td>\n",
       "      <td>NaN</td>\n",
       "      <td>NaN</td>\n",
       "      <td>NYCHA has no residency requirements.</td>\n",
       "      <td>2013-10-24T00:00:00.000</td>\n",
       "      <td>NaN</td>\n",
       "      <td>2013-12-12T00:00:00.000</td>\n",
       "      <td>2019-07-30T00:00:00.000</td>\n",
       "    </tr>\n",
       "    <tr>\n",
       "      <th>3</th>\n",
       "      <td>132292</td>\n",
       "      <td>NYC HOUSING AUTHORITY</td>\n",
       "      <td>Internal</td>\n",
       "      <td>52</td>\n",
       "      <td>Maintenance Worker - Technical Services-Heatin...</td>\n",
       "      <td>MAINTENANCE WORKER</td>\n",
       "      <td>90698</td>\n",
       "      <td>0</td>\n",
       "      <td>Maintenance &amp; Operations</td>\n",
       "      <td>F</td>\n",
       "      <td>51907</td>\n",
       "      <td>54580</td>\n",
       "      <td>Annual</td>\n",
       "      <td>Heating Mgt-Operations</td>\n",
       "      <td>Management Services Department</td>\n",
       "      <td>Under direct supervision, assist in the routin...</td>\n",
       "      <td>1. Three years of full-time satisfactory exper...</td>\n",
       "      <td>1.  A High School Diploma or GED.  2.  CDL Dri...</td>\n",
       "      <td>1.  A Motor Vehicle Driverâ€™s License valid i...</td>\n",
       "      <td>Click the \"Apply Now\" button.</td>\n",
       "      <td>NaN</td>\n",
       "      <td>NaN</td>\n",
       "      <td>NaN</td>\n",
       "      <td>NYCHA has no residency requirements.</td>\n",
       "      <td>2013-10-24T00:00:00.000</td>\n",
       "      <td>NaN</td>\n",
       "      <td>2013-12-12T00:00:00.000</td>\n",
       "      <td>2019-07-30T00:00:00.000</td>\n",
       "    </tr>\n",
       "    <tr>\n",
       "      <th>4</th>\n",
       "      <td>133921</td>\n",
       "      <td>NYC HOUSING AUTHORITY</td>\n",
       "      <td>Internal</td>\n",
       "      <td>50</td>\n",
       "      <td>Temporary Painter</td>\n",
       "      <td>PAINTER</td>\n",
       "      <td>91830</td>\n",
       "      <td>0</td>\n",
       "      <td>Maintenance &amp; Operations</td>\n",
       "      <td>F</td>\n",
       "      <td>35</td>\n",
       "      <td>35</td>\n",
       "      <td>Hourly</td>\n",
       "      <td>DMP-Contract &amp; Analysis Unit</td>\n",
       "      <td>Dept of Management &amp; Planning</td>\n",
       "      <td>Responsibilities of selected candidates will i...</td>\n",
       "      <td>1. Five years of full-time satisfactory experi...</td>\n",
       "      <td>NaN</td>\n",
       "      <td>SPECIAL NOTE:    1.  This is a temporary assig...</td>\n",
       "      <td>Click the \"Apply Now\" button.</td>\n",
       "      <td>NaN</td>\n",
       "      <td>NaN</td>\n",
       "      <td>NaN</td>\n",
       "      <td>NYCHA has no residency requirement.</td>\n",
       "      <td>2014-01-09T00:00:00.000</td>\n",
       "      <td>NaN</td>\n",
       "      <td>2014-01-08T00:00:00.000</td>\n",
       "      <td>2019-07-30T00:00:00.000</td>\n",
       "    </tr>\n",
       "  </tbody>\n",
       "</table>\n",
       "</div>"
      ],
      "text/plain": [
       "   Job ID                        Agency Posting Type  # Of Positions  \\\n",
       "0   87990  DEPARTMENT OF BUSINESS SERV.     Internal               1   \n",
       "1   97899  DEPARTMENT OF BUSINESS SERV.     Internal               1   \n",
       "2  132292         NYC HOUSING AUTHORITY     External              52   \n",
       "3  132292         NYC HOUSING AUTHORITY     Internal              52   \n",
       "4  133921         NYC HOUSING AUTHORITY     Internal              50   \n",
       "\n",
       "                                      Business Title  \\\n",
       "0                                    Account Manager   \n",
       "1           EXECUTIVE DIRECTOR, BUSINESS DEVELOPMENT   \n",
       "2  Maintenance Worker - Technical Services-Heatin...   \n",
       "3  Maintenance Worker - Technical Services-Heatin...   \n",
       "4                                  Temporary Painter   \n",
       "\n",
       "              Civil Service Title Title Code No Level  \\\n",
       "0  CONTRACT REVIEWER (OFFICE OF L         40563     1   \n",
       "1  ADMINISTRATIVE BUSINESS PROMOT         10009    M3   \n",
       "2              MAINTENANCE WORKER         90698     0   \n",
       "3              MAINTENANCE WORKER         90698     0   \n",
       "4                         PAINTER         91830     0   \n",
       "\n",
       "               Job Category Full-Time/Part-Time indicator  Salary Range From  \\\n",
       "0                       NaN                           NaN              42405   \n",
       "1                       NaN                             F              60740   \n",
       "2  Maintenance & Operations                             F              51907   \n",
       "3  Maintenance & Operations                             F              51907   \n",
       "4  Maintenance & Operations                             F                 35   \n",
       "\n",
       "   Salary Range To Salary Frequency                 Work Location  \\\n",
       "0            65485           Annual           110 William St. N Y   \n",
       "1           162014           Annual           110 William St. N Y   \n",
       "2            54580           Annual        Heating Mgt-Operations   \n",
       "3            54580           Annual        Heating Mgt-Operations   \n",
       "4               35           Hourly  DMP-Contract & Analysis Unit   \n",
       "\n",
       "               Division/Work Unit  \\\n",
       "0            Strategy & Analytics   \n",
       "1            Tech Talent Pipeline   \n",
       "2  Management Services Department   \n",
       "3  Management Services Department   \n",
       "4   Dept of Management & Planning   \n",
       "\n",
       "                                     Job Description  \\\n",
       "0  Division of Economic & Financial Opportunity (...   \n",
       "1  The New York City Department of Small Business...   \n",
       "2  Under direct supervision, assist in the routin...   \n",
       "3  Under direct supervision, assist in the routin...   \n",
       "4  Responsibilities of selected candidates will i...   \n",
       "\n",
       "                           Minimum Qual Requirements  \\\n",
       "0  1.\\tA baccalaureate degree from an accredited ...   \n",
       "1  1. A baccalaureate degree from an accredited c...   \n",
       "2  1. Three years of full-time satisfactory exper...   \n",
       "3  1. Three years of full-time satisfactory exper...   \n",
       "4  1. Five years of full-time satisfactory experi...   \n",
       "\n",
       "                                    Preferred Skills  \\\n",
       "0  â€¢\\tExcellent interpersonal and organizationa...   \n",
       "1                                                NaN   \n",
       "2  1.  A High School Diploma or GED.  2.  CDL Dri...   \n",
       "3  1.  A High School Diploma or GED.  2.  CDL Dri...   \n",
       "4                                                NaN   \n",
       "\n",
       "                              Additional Information  \\\n",
       "0  Salary range for this position is: $42,405 - $...   \n",
       "1                                                NaN   \n",
       "2  1.  A Motor Vehicle Driverâ€™s License valid i...   \n",
       "3  1.  A Motor Vehicle Driverâ€™s License valid i...   \n",
       "4  SPECIAL NOTE:    1.  This is a temporary assig...   \n",
       "\n",
       "                                            To Apply Hours/Shift  \\\n",
       "0                                                NaN         NaN   \n",
       "1  In addition to applying through this website, ...         NaN   \n",
       "2                      Click the \"Apply Now\" button.         NaN   \n",
       "3                      Click the \"Apply Now\" button.         NaN   \n",
       "4                      Click the \"Apply Now\" button.         NaN   \n",
       "\n",
       "  Work Location 1  Recruitment Contact  \\\n",
       "0             NaN                  NaN   \n",
       "1             NaN                  NaN   \n",
       "2             NaN                  NaN   \n",
       "3             NaN                  NaN   \n",
       "4             NaN                  NaN   \n",
       "\n",
       "                               Residency Requirement             Posting Date  \\\n",
       "0  New York City residency is generally required ...  2011-06-24T00:00:00.000   \n",
       "1  New York City residency is generally required ...  2012-01-26T00:00:00.000   \n",
       "2               NYCHA has no residency requirements.  2013-10-24T00:00:00.000   \n",
       "3               NYCHA has no residency requirements.  2013-10-24T00:00:00.000   \n",
       "4                NYCHA has no residency requirement.  2014-01-09T00:00:00.000   \n",
       "\n",
       "  Post Until          Posting Updated             Process Date  \n",
       "0        NaN  2011-06-24T00:00:00.000  2019-07-30T00:00:00.000  \n",
       "1        NaN  2012-01-26T00:00:00.000  2019-07-30T00:00:00.000  \n",
       "2        NaN  2013-12-12T00:00:00.000  2019-07-30T00:00:00.000  \n",
       "3        NaN  2013-12-12T00:00:00.000  2019-07-30T00:00:00.000  \n",
       "4        NaN  2014-01-08T00:00:00.000  2019-07-30T00:00:00.000  "
      ]
     },
     "execution_count": 74,
     "metadata": {},
     "output_type": "execute_result"
    }
   ],
   "source": [
    "jbdata.head()"
   ]
  },
  {
   "cell_type": "code",
   "execution_count": null,
   "metadata": {},
   "outputs": [],
   "source": []
  },
  {
   "cell_type": "code",
   "execution_count": 175,
   "metadata": {},
   "outputs": [
    {
     "data": {
      "text/html": [
       "<div>\n",
       "<style scoped>\n",
       "    .dataframe tbody tr th:only-of-type {\n",
       "        vertical-align: middle;\n",
       "    }\n",
       "\n",
       "    .dataframe tbody tr th {\n",
       "        vertical-align: top;\n",
       "    }\n",
       "\n",
       "    .dataframe thead th {\n",
       "        text-align: right;\n",
       "    }\n",
       "</style>\n",
       "<table border=\"1\" class=\"dataframe\">\n",
       "  <thead>\n",
       "    <tr style=\"text-align: right;\">\n",
       "      <th></th>\n",
       "      <th>Business Title</th>\n",
       "      <th>Minimum Qual Requirements</th>\n",
       "    </tr>\n",
       "  </thead>\n",
       "  <tbody>\n",
       "    <tr>\n",
       "      <th>0</th>\n",
       "      <td>Account Manager</td>\n",
       "      <td>1.\\tA baccalaureate degree from an accredited college and two years of experience in community work or community centered activities in an area related to the duties described above; or  2.\\tHigh school graduation or equivalent and six years of experience in community work or community centered activities in an area related to the duties as described above; or  3.\\tEducation and/or experience which is equivalent to \"1\" or \"2\" above. However, all candidates must have at least one year of experience as described in \"1\" above.</td>\n",
       "    </tr>\n",
       "    <tr>\n",
       "      <th>1</th>\n",
       "      <td>EXECUTIVE DIRECTOR, BUSINESS DEVELOPMENT</td>\n",
       "      <td>1. A baccalaureate degree from an accredited college or university and five years of full-time paid experience acquired within the last fifteen years, of supervisory or administrative experience including handling of business promotion or urban economic problems, at least 2 years of which must have been in a managerial or executive capacity with primary focus on business promotion or urban economic planning; or    2. A satisfactory equivalent combination of education and experience. However all candidates must have 2 years of managerial or executive experience as described in \"1\" above.     Appropriate graduate study in an accredited college or university may be substituted for the general experience on a year-for-year basis. All candidates must have a four-year high school diploma or its equivalent approved by a State's Department of Education or a recognized accrediting organization.</td>\n",
       "    </tr>\n",
       "    <tr>\n",
       "      <th>2</th>\n",
       "      <td>Maintenance Worker - Technical Services-Heating Unit</td>\n",
       "      <td>1. Three years of full-time satisfactory experience as a mechanic, journey person or helper in the electrical trades, the mechanical trades, or the construction or maintenance of buildings; or  2. A satisfactory combination of education and experience that is equivalent to \"1\" above. Education may be substituted for experience on the basis that each one year of full-time training in the electrical, mechanical, or construction trades in a trade school or vocational high school approved by a Stateâ€™s Department of Education or a recognized accrediting organization, may be substituted for six months of the experience described in \"1\" above. However, all candidates must have a minimum of two years of experience as described in \"1\" above.</td>\n",
       "    </tr>\n",
       "    <tr>\n",
       "      <th>3</th>\n",
       "      <td>Maintenance Worker - Technical Services-Heating Unit</td>\n",
       "      <td>1. Three years of full-time satisfactory experience as a mechanic, journey person or helper in the electrical trades, the mechanical trades, or the construction or maintenance of buildings; or  2. A satisfactory combination of education and experience that is equivalent to \"1\" above. Education may be substituted for experience on the basis that each one year of full-time training in the electrical, mechanical, or construction trades in a trade school or vocational high school approved by a Stateâ€™s Department of Education or a recognized accrediting organization, may be substituted for six months of the experience described in \"1\" above. However, all candidates must have a minimum of two years of experience as described in \"1\" above.</td>\n",
       "    </tr>\n",
       "    <tr>\n",
       "      <th>4</th>\n",
       "      <td>Temporary Painter</td>\n",
       "      <td>1. Five years of full-time satisfactory experience as a painter acquired within the last fifteen years; or  2. At least three years of full-time satisfactory experience as a painter acquired within the last fifteen years and sufficient full-time satisfactory apprentice painter experience to make up a total of five years of acceptable experience. Six months of acceptable experience will be credited for each year of apprentice painter experience.</td>\n",
       "    </tr>\n",
       "  </tbody>\n",
       "</table>\n",
       "</div>"
      ],
      "text/plain": [
       "                                         Business Title  \\\n",
       "0                                       Account Manager   \n",
       "1              EXECUTIVE DIRECTOR, BUSINESS DEVELOPMENT   \n",
       "2  Maintenance Worker - Technical Services-Heating Unit   \n",
       "3  Maintenance Worker - Technical Services-Heating Unit   \n",
       "4                                     Temporary Painter   \n",
       "\n",
       "                                                                                                                                                                                                                                                                                                                                                                                                                                                                                                                                                                                                                                                                                                                                                                                                                                                                                                            Minimum Qual Requirements  \n",
       "0                                                                                                                                                                                                                                                                                                                                                                                   1.\\tA baccalaureate degree from an accredited college and two years of experience in community work or community centered activities in an area related to the duties described above; or  2.\\tHigh school graduation or equivalent and six years of experience in community work or community centered activities in an area related to the duties as described above; or  3.\\tEducation and/or experience which is equivalent to \"1\" or \"2\" above. However, all candidates must have at least one year of experience as described in \"1\" above.  \n",
       "1  1. A baccalaureate degree from an accredited college or university and five years of full-time paid experience acquired within the last fifteen years, of supervisory or administrative experience including handling of business promotion or urban economic problems, at least 2 years of which must have been in a managerial or executive capacity with primary focus on business promotion or urban economic planning; or    2. A satisfactory equivalent combination of education and experience. However all candidates must have 2 years of managerial or executive experience as described in \"1\" above.     Appropriate graduate study in an accredited college or university may be substituted for the general experience on a year-for-year basis. All candidates must have a four-year high school diploma or its equivalent approved by a State's Department of Education or a recognized accrediting organization.  \n",
       "2                                                                                                                                                            1. Three years of full-time satisfactory experience as a mechanic, journey person or helper in the electrical trades, the mechanical trades, or the construction or maintenance of buildings; or  2. A satisfactory combination of education and experience that is equivalent to \"1\" above. Education may be substituted for experience on the basis that each one year of full-time training in the electrical, mechanical, or construction trades in a trade school or vocational high school approved by a Stateâ€™s Department of Education or a recognized accrediting organization, may be substituted for six months of the experience described in \"1\" above. However, all candidates must have a minimum of two years of experience as described in \"1\" above.  \n",
       "3                                                                                                                                                            1. Three years of full-time satisfactory experience as a mechanic, journey person or helper in the electrical trades, the mechanical trades, or the construction or maintenance of buildings; or  2. A satisfactory combination of education and experience that is equivalent to \"1\" above. Education may be substituted for experience on the basis that each one year of full-time training in the electrical, mechanical, or construction trades in a trade school or vocational high school approved by a Stateâ€™s Department of Education or a recognized accrediting organization, may be substituted for six months of the experience described in \"1\" above. However, all candidates must have a minimum of two years of experience as described in \"1\" above.  \n",
       "4                                                                                                                                                                                                                                                                                                                                                                                                                                                                    1. Five years of full-time satisfactory experience as a painter acquired within the last fifteen years; or  2. At least three years of full-time satisfactory experience as a painter acquired within the last fifteen years and sufficient full-time satisfactory apprentice painter experience to make up a total of five years of acceptable experience. Six months of acceptable experience will be credited for each year of apprentice painter experience.  "
      ]
     },
     "execution_count": 175,
     "metadata": {},
     "output_type": "execute_result"
    }
   ],
   "source": [
    "pd.options.display.max_colwidth=1000000\n",
    "qual=jbdata[[\"Business Title\",\"Minimum Qual Requirements\"]]\n",
    "qual.head()"
   ]
  },
  {
   "cell_type": "code",
   "execution_count": 176,
   "metadata": {},
   "outputs": [],
   "source": [
    "# We cannot grab sentences from \"minimum qualifications\" yet so in order to do so , we gonna be applying\n",
    "# basic NLP (Natural Language Processing)"
   ]
  },
  {
   "cell_type": "code",
   "execution_count": 177,
   "metadata": {},
   "outputs": [],
   "source": [
    "# converting the column type to str\n",
    "qual=qual.astype({\"Minimum Qual Requirements\":\"str\"})"
   ]
  },
  {
   "cell_type": "code",
   "execution_count": 178,
   "metadata": {},
   "outputs": [],
   "source": [
    "# importing libraries\n",
    "from nltk.tokenize import sent_tokenize\n",
    "from nltk.corpus import stopwords\n",
    "from nltk.tokenize import word_tokenize\n",
    "list1=[]"
   ]
  },
  {
   "cell_type": "code",
   "execution_count": 179,
   "metadata": {},
   "outputs": [],
   "source": [
    "# the main idea here is to break each row content of qualification column into sentences\n",
    "for i in range(0,len(qual[\"Minimum Qual Requirements\"])):\n",
    "    list1.append(sent_tokenize(qual[\"Minimum Qual Requirements\"][i]))\n"
   ]
  },
  {
   "cell_type": "code",
   "execution_count": 180,
   "metadata": {},
   "outputs": [
    {
     "data": {
      "text/plain": [
       "['1.',\n",
       " 'A baccalaureate degree from an accredited college or university and five years of full-time paid experience acquired within the last fifteen years, of supervisory or administrative experience including handling of business promotion or urban economic problems, at least 2 years of which must have been in a managerial or executive capacity with primary focus on business promotion or urban economic planning; or    2.',\n",
       " 'A satisfactory equivalent combination of education and experience.',\n",
       " 'However all candidates must have 2 years of managerial or executive experience as described in \"1\" above.',\n",
       " 'Appropriate graduate study in an accredited college or university may be substituted for the general experience on a year-for-year basis.',\n",
       " \"All candidates must have a four-year high school diploma or its equivalent approved by a State's Department of Education or a recognized accrediting organization.\"]"
      ]
     },
     "execution_count": 180,
     "metadata": {},
     "output_type": "execute_result"
    }
   ],
   "source": [
    "list1[1]"
   ]
  },
  {
   "cell_type": "code",
   "execution_count": 181,
   "metadata": {},
   "outputs": [
    {
     "data": {
      "text/html": [
       "<div>\n",
       "<style scoped>\n",
       "    .dataframe tbody tr th:only-of-type {\n",
       "        vertical-align: middle;\n",
       "    }\n",
       "\n",
       "    .dataframe tbody tr th {\n",
       "        vertical-align: top;\n",
       "    }\n",
       "\n",
       "    .dataframe thead th {\n",
       "        text-align: right;\n",
       "    }\n",
       "</style>\n",
       "<table border=\"1\" class=\"dataframe\">\n",
       "  <thead>\n",
       "    <tr style=\"text-align: right;\">\n",
       "      <th></th>\n",
       "      <th>Business Title</th>\n",
       "      <th>Minimum Qual Requirements</th>\n",
       "      <th>Requirements</th>\n",
       "    </tr>\n",
       "  </thead>\n",
       "  <tbody>\n",
       "    <tr>\n",
       "      <th>0</th>\n",
       "      <td>Account Manager</td>\n",
       "      <td>1.\\tA baccalaureate degree from an accredited college and two years of experience in community work or community centered activities in an area related to the duties described above; or  2.\\tHigh school graduation or equivalent and six years of experience in community work or community centered activities in an area related to the duties as described above; or  3.\\tEducation and/or experience which is equivalent to \"1\" or \"2\" above. However, all candidates must have at least one year of experience as described in \"1\" above.</td>\n",
       "      <td>[1., A baccalaureate degree from an accredited college and two years of experience in community work or community centered activities in an area related to the duties described above; or  2., High school graduation or equivalent and six years of experience in community work or community centered activities in an area related to the duties as described above; or  3., Education and/or experience which is equivalent to \"1\" or \"2\" above., However, all candidates must have at least one year of experience as described in \"1\" above.]</td>\n",
       "    </tr>\n",
       "    <tr>\n",
       "      <th>1</th>\n",
       "      <td>EXECUTIVE DIRECTOR, BUSINESS DEVELOPMENT</td>\n",
       "      <td>1. A baccalaureate degree from an accredited college or university and five years of full-time paid experience acquired within the last fifteen years, of supervisory or administrative experience including handling of business promotion or urban economic problems, at least 2 years of which must have been in a managerial or executive capacity with primary focus on business promotion or urban economic planning; or    2. A satisfactory equivalent combination of education and experience. However all candidates must have 2 years of managerial or executive experience as described in \"1\" above.     Appropriate graduate study in an accredited college or university may be substituted for the general experience on a year-for-year basis. All candidates must have a four-year high school diploma or its equivalent approved by a State's Department of Education or a recognized accrediting organization.</td>\n",
       "      <td>[1., A baccalaureate degree from an accredited college or university and five years of full-time paid experience acquired within the last fifteen years, of supervisory or administrative experience including handling of business promotion or urban economic problems, at least 2 years of which must have been in a managerial or executive capacity with primary focus on business promotion or urban economic planning; or    2., A satisfactory equivalent combination of education and experience., However all candidates must have 2 years of managerial or executive experience as described in \"1\" above., Appropriate graduate study in an accredited college or university may be substituted for the general experience on a year-for-year basis., All candidates must have a four-year high school diploma or its equivalent approved by a State's Department of Education or a recognized accrediting organization.]</td>\n",
       "    </tr>\n",
       "    <tr>\n",
       "      <th>2</th>\n",
       "      <td>Maintenance Worker - Technical Services-Heating Unit</td>\n",
       "      <td>1. Three years of full-time satisfactory experience as a mechanic, journey person or helper in the electrical trades, the mechanical trades, or the construction or maintenance of buildings; or  2. A satisfactory combination of education and experience that is equivalent to \"1\" above. Education may be substituted for experience on the basis that each one year of full-time training in the electrical, mechanical, or construction trades in a trade school or vocational high school approved by a Stateâ€™s Department of Education or a recognized accrediting organization, may be substituted for six months of the experience described in \"1\" above. However, all candidates must have a minimum of two years of experience as described in \"1\" above.</td>\n",
       "      <td>[1., Three years of full-time satisfactory experience as a mechanic, journey person or helper in the electrical trades, the mechanical trades, or the construction or maintenance of buildings; or  2., A satisfactory combination of education and experience that is equivalent to \"1\" above., Education may be substituted for experience on the basis that each one year of full-time training in the electrical, mechanical, or construction trades in a trade school or vocational high school approved by a Stateâ€™s Department of Education or a recognized accrediting organization, may be substituted for six months of the experience described in \"1\" above., However, all candidates must have a minimum of two years of experience as described in \"1\" above.]</td>\n",
       "    </tr>\n",
       "    <tr>\n",
       "      <th>3</th>\n",
       "      <td>Maintenance Worker - Technical Services-Heating Unit</td>\n",
       "      <td>1. Three years of full-time satisfactory experience as a mechanic, journey person or helper in the electrical trades, the mechanical trades, or the construction or maintenance of buildings; or  2. A satisfactory combination of education and experience that is equivalent to \"1\" above. Education may be substituted for experience on the basis that each one year of full-time training in the electrical, mechanical, or construction trades in a trade school or vocational high school approved by a Stateâ€™s Department of Education or a recognized accrediting organization, may be substituted for six months of the experience described in \"1\" above. However, all candidates must have a minimum of two years of experience as described in \"1\" above.</td>\n",
       "      <td>[1., Three years of full-time satisfactory experience as a mechanic, journey person or helper in the electrical trades, the mechanical trades, or the construction or maintenance of buildings; or  2., A satisfactory combination of education and experience that is equivalent to \"1\" above., Education may be substituted for experience on the basis that each one year of full-time training in the electrical, mechanical, or construction trades in a trade school or vocational high school approved by a Stateâ€™s Department of Education or a recognized accrediting organization, may be substituted for six months of the experience described in \"1\" above., However, all candidates must have a minimum of two years of experience as described in \"1\" above.]</td>\n",
       "    </tr>\n",
       "    <tr>\n",
       "      <th>4</th>\n",
       "      <td>Temporary Painter</td>\n",
       "      <td>1. Five years of full-time satisfactory experience as a painter acquired within the last fifteen years; or  2. At least three years of full-time satisfactory experience as a painter acquired within the last fifteen years and sufficient full-time satisfactory apprentice painter experience to make up a total of five years of acceptable experience. Six months of acceptable experience will be credited for each year of apprentice painter experience.</td>\n",
       "      <td>[1., Five years of full-time satisfactory experience as a painter acquired within the last fifteen years; or  2., At least three years of full-time satisfactory experience as a painter acquired within the last fifteen years and sufficient full-time satisfactory apprentice painter experience to make up a total of five years of acceptable experience., Six months of acceptable experience will be credited for each year of apprentice painter experience.]</td>\n",
       "    </tr>\n",
       "  </tbody>\n",
       "</table>\n",
       "</div>"
      ],
      "text/plain": [
       "                                         Business Title  \\\n",
       "0                                       Account Manager   \n",
       "1              EXECUTIVE DIRECTOR, BUSINESS DEVELOPMENT   \n",
       "2  Maintenance Worker - Technical Services-Heating Unit   \n",
       "3  Maintenance Worker - Technical Services-Heating Unit   \n",
       "4                                     Temporary Painter   \n",
       "\n",
       "                                                                                                                                                                                                                                                                                                                                                                                                                                                                                                                                                                                                                                                                                                                                                                                                                                                                                                            Minimum Qual Requirements  \\\n",
       "0                                                                                                                                                                                                                                                                                                                                                                                   1.\\tA baccalaureate degree from an accredited college and two years of experience in community work or community centered activities in an area related to the duties described above; or  2.\\tHigh school graduation or equivalent and six years of experience in community work or community centered activities in an area related to the duties as described above; or  3.\\tEducation and/or experience which is equivalent to \"1\" or \"2\" above. However, all candidates must have at least one year of experience as described in \"1\" above.   \n",
       "1  1. A baccalaureate degree from an accredited college or university and five years of full-time paid experience acquired within the last fifteen years, of supervisory or administrative experience including handling of business promotion or urban economic problems, at least 2 years of which must have been in a managerial or executive capacity with primary focus on business promotion or urban economic planning; or    2. A satisfactory equivalent combination of education and experience. However all candidates must have 2 years of managerial or executive experience as described in \"1\" above.     Appropriate graduate study in an accredited college or university may be substituted for the general experience on a year-for-year basis. All candidates must have a four-year high school diploma or its equivalent approved by a State's Department of Education or a recognized accrediting organization.   \n",
       "2                                                                                                                                                            1. Three years of full-time satisfactory experience as a mechanic, journey person or helper in the electrical trades, the mechanical trades, or the construction or maintenance of buildings; or  2. A satisfactory combination of education and experience that is equivalent to \"1\" above. Education may be substituted for experience on the basis that each one year of full-time training in the electrical, mechanical, or construction trades in a trade school or vocational high school approved by a Stateâ€™s Department of Education or a recognized accrediting organization, may be substituted for six months of the experience described in \"1\" above. However, all candidates must have a minimum of two years of experience as described in \"1\" above.   \n",
       "3                                                                                                                                                            1. Three years of full-time satisfactory experience as a mechanic, journey person or helper in the electrical trades, the mechanical trades, or the construction or maintenance of buildings; or  2. A satisfactory combination of education and experience that is equivalent to \"1\" above. Education may be substituted for experience on the basis that each one year of full-time training in the electrical, mechanical, or construction trades in a trade school or vocational high school approved by a Stateâ€™s Department of Education or a recognized accrediting organization, may be substituted for six months of the experience described in \"1\" above. However, all candidates must have a minimum of two years of experience as described in \"1\" above.   \n",
       "4                                                                                                                                                                                                                                                                                                                                                                                                                                                                    1. Five years of full-time satisfactory experience as a painter acquired within the last fifteen years; or  2. At least three years of full-time satisfactory experience as a painter acquired within the last fifteen years and sufficient full-time satisfactory apprentice painter experience to make up a total of five years of acceptable experience. Six months of acceptable experience will be credited for each year of apprentice painter experience.   \n",
       "\n",
       "                                                                                                                                                                                                                                                                                                                                                                                                                                                                                                                                                                                                                                                                                                                                                                                                                                                                                                                            Requirements  \n",
       "0                                                                                                                                                                                                                                                                                                                                                                                   [1., A baccalaureate degree from an accredited college and two years of experience in community work or community centered activities in an area related to the duties described above; or  2., High school graduation or equivalent and six years of experience in community work or community centered activities in an area related to the duties as described above; or  3., Education and/or experience which is equivalent to \"1\" or \"2\" above., However, all candidates must have at least one year of experience as described in \"1\" above.]  \n",
       "1  [1., A baccalaureate degree from an accredited college or university and five years of full-time paid experience acquired within the last fifteen years, of supervisory or administrative experience including handling of business promotion or urban economic problems, at least 2 years of which must have been in a managerial or executive capacity with primary focus on business promotion or urban economic planning; or    2., A satisfactory equivalent combination of education and experience., However all candidates must have 2 years of managerial or executive experience as described in \"1\" above., Appropriate graduate study in an accredited college or university may be substituted for the general experience on a year-for-year basis., All candidates must have a four-year high school diploma or its equivalent approved by a State's Department of Education or a recognized accrediting organization.]  \n",
       "2                                                                                                                                                         [1., Three years of full-time satisfactory experience as a mechanic, journey person or helper in the electrical trades, the mechanical trades, or the construction or maintenance of buildings; or  2., A satisfactory combination of education and experience that is equivalent to \"1\" above., Education may be substituted for experience on the basis that each one year of full-time training in the electrical, mechanical, or construction trades in a trade school or vocational high school approved by a Stateâ€™s Department of Education or a recognized accrediting organization, may be substituted for six months of the experience described in \"1\" above., However, all candidates must have a minimum of two years of experience as described in \"1\" above.]  \n",
       "3                                                                                                                                                         [1., Three years of full-time satisfactory experience as a mechanic, journey person or helper in the electrical trades, the mechanical trades, or the construction or maintenance of buildings; or  2., A satisfactory combination of education and experience that is equivalent to \"1\" above., Education may be substituted for experience on the basis that each one year of full-time training in the electrical, mechanical, or construction trades in a trade school or vocational high school approved by a Stateâ€™s Department of Education or a recognized accrediting organization, may be substituted for six months of the experience described in \"1\" above., However, all candidates must have a minimum of two years of experience as described in \"1\" above.]  \n",
       "4                                                                                                                                                                                                                                                                                                                                                                                                                                                                  [1., Five years of full-time satisfactory experience as a painter acquired within the last fifteen years; or  2., At least three years of full-time satisfactory experience as a painter acquired within the last fifteen years and sufficient full-time satisfactory apprentice painter experience to make up a total of five years of acceptable experience., Six months of acceptable experience will be credited for each year of apprentice painter experience.]  "
      ]
     },
     "execution_count": 181,
     "metadata": {},
     "output_type": "execute_result"
    }
   ],
   "source": [
    "# merging tokenized list into dataframe\n",
    "qual[\"Requirements\"]=list1\n",
    "qual.head()"
   ]
  },
  {
   "cell_type": "code",
   "execution_count": null,
   "metadata": {},
   "outputs": [],
   "source": [
    "# Dropping the old Qualification column\n",
    "qual.drop(\"Minimum Qual Requirements\",inplace=True,axis=1)"
   ]
  },
  {
   "cell_type": "code",
   "execution_count": 183,
   "metadata": {
    "scrolled": false
   },
   "outputs": [
    {
     "data": {
      "text/html": [
       "<div>\n",
       "<style scoped>\n",
       "    .dataframe tbody tr th:only-of-type {\n",
       "        vertical-align: middle;\n",
       "    }\n",
       "\n",
       "    .dataframe tbody tr th {\n",
       "        vertical-align: top;\n",
       "    }\n",
       "\n",
       "    .dataframe thead th {\n",
       "        text-align: right;\n",
       "    }\n",
       "</style>\n",
       "<table border=\"1\" class=\"dataframe\">\n",
       "  <thead>\n",
       "    <tr style=\"text-align: right;\">\n",
       "      <th></th>\n",
       "      <th>Business Title</th>\n",
       "      <th>Requirements</th>\n",
       "    </tr>\n",
       "  </thead>\n",
       "  <tbody>\n",
       "    <tr>\n",
       "      <th>0</th>\n",
       "      <td>Account Manager</td>\n",
       "      <td>[1., A baccalaureate degree from an accredited college and two years of experience in community work or community centered activities in an area related to the duties described above; or  2., High school graduation or equivalent and six years of experience in community work or community centered activities in an area related to the duties as described above; or  3., Education and/or experience which is equivalent to \"1\" or \"2\" above., However, all candidates must have at least one year of experience as described in \"1\" above.]</td>\n",
       "    </tr>\n",
       "    <tr>\n",
       "      <th>1</th>\n",
       "      <td>EXECUTIVE DIRECTOR, BUSINESS DEVELOPMENT</td>\n",
       "      <td>[1., A baccalaureate degree from an accredited college or university and five years of full-time paid experience acquired within the last fifteen years, of supervisory or administrative experience including handling of business promotion or urban economic problems, at least 2 years of which must have been in a managerial or executive capacity with primary focus on business promotion or urban economic planning; or    2., A satisfactory equivalent combination of education and experience., However all candidates must have 2 years of managerial or executive experience as described in \"1\" above., Appropriate graduate study in an accredited college or university may be substituted for the general experience on a year-for-year basis., All candidates must have a four-year high school diploma or its equivalent approved by a State's Department of Education or a recognized accrediting organization.]</td>\n",
       "    </tr>\n",
       "    <tr>\n",
       "      <th>2</th>\n",
       "      <td>Maintenance Worker - Technical Services-Heating Unit</td>\n",
       "      <td>[1., Three years of full-time satisfactory experience as a mechanic, journey person or helper in the electrical trades, the mechanical trades, or the construction or maintenance of buildings; or  2., A satisfactory combination of education and experience that is equivalent to \"1\" above., Education may be substituted for experience on the basis that each one year of full-time training in the electrical, mechanical, or construction trades in a trade school or vocational high school approved by a Stateâ€™s Department of Education or a recognized accrediting organization, may be substituted for six months of the experience described in \"1\" above., However, all candidates must have a minimum of two years of experience as described in \"1\" above.]</td>\n",
       "    </tr>\n",
       "    <tr>\n",
       "      <th>3</th>\n",
       "      <td>Maintenance Worker - Technical Services-Heating Unit</td>\n",
       "      <td>[1., Three years of full-time satisfactory experience as a mechanic, journey person or helper in the electrical trades, the mechanical trades, or the construction or maintenance of buildings; or  2., A satisfactory combination of education and experience that is equivalent to \"1\" above., Education may be substituted for experience on the basis that each one year of full-time training in the electrical, mechanical, or construction trades in a trade school or vocational high school approved by a Stateâ€™s Department of Education or a recognized accrediting organization, may be substituted for six months of the experience described in \"1\" above., However, all candidates must have a minimum of two years of experience as described in \"1\" above.]</td>\n",
       "    </tr>\n",
       "    <tr>\n",
       "      <th>4</th>\n",
       "      <td>Temporary Painter</td>\n",
       "      <td>[1., Five years of full-time satisfactory experience as a painter acquired within the last fifteen years; or  2., At least three years of full-time satisfactory experience as a painter acquired within the last fifteen years and sufficient full-time satisfactory apprentice painter experience to make up a total of five years of acceptable experience., Six months of acceptable experience will be credited for each year of apprentice painter experience.]</td>\n",
       "    </tr>\n",
       "  </tbody>\n",
       "</table>\n",
       "</div>"
      ],
      "text/plain": [
       "                                         Business Title  \\\n",
       "0                                       Account Manager   \n",
       "1              EXECUTIVE DIRECTOR, BUSINESS DEVELOPMENT   \n",
       "2  Maintenance Worker - Technical Services-Heating Unit   \n",
       "3  Maintenance Worker - Technical Services-Heating Unit   \n",
       "4                                     Temporary Painter   \n",
       "\n",
       "                                                                                                                                                                                                                                                                                                                                                                                                                                                                                                                                                                                                                                                                                                                                                                                                                                                                                                                            Requirements  \n",
       "0                                                                                                                                                                                                                                                                                                                                                                                   [1., A baccalaureate degree from an accredited college and two years of experience in community work or community centered activities in an area related to the duties described above; or  2., High school graduation or equivalent and six years of experience in community work or community centered activities in an area related to the duties as described above; or  3., Education and/or experience which is equivalent to \"1\" or \"2\" above., However, all candidates must have at least one year of experience as described in \"1\" above.]  \n",
       "1  [1., A baccalaureate degree from an accredited college or university and five years of full-time paid experience acquired within the last fifteen years, of supervisory or administrative experience including handling of business promotion or urban economic problems, at least 2 years of which must have been in a managerial or executive capacity with primary focus on business promotion or urban economic planning; or    2., A satisfactory equivalent combination of education and experience., However all candidates must have 2 years of managerial or executive experience as described in \"1\" above., Appropriate graduate study in an accredited college or university may be substituted for the general experience on a year-for-year basis., All candidates must have a four-year high school diploma or its equivalent approved by a State's Department of Education or a recognized accrediting organization.]  \n",
       "2                                                                                                                                                         [1., Three years of full-time satisfactory experience as a mechanic, journey person or helper in the electrical trades, the mechanical trades, or the construction or maintenance of buildings; or  2., A satisfactory combination of education and experience that is equivalent to \"1\" above., Education may be substituted for experience on the basis that each one year of full-time training in the electrical, mechanical, or construction trades in a trade school or vocational high school approved by a Stateâ€™s Department of Education or a recognized accrediting organization, may be substituted for six months of the experience described in \"1\" above., However, all candidates must have a minimum of two years of experience as described in \"1\" above.]  \n",
       "3                                                                                                                                                         [1., Three years of full-time satisfactory experience as a mechanic, journey person or helper in the electrical trades, the mechanical trades, or the construction or maintenance of buildings; or  2., A satisfactory combination of education and experience that is equivalent to \"1\" above., Education may be substituted for experience on the basis that each one year of full-time training in the electrical, mechanical, or construction trades in a trade school or vocational high school approved by a Stateâ€™s Department of Education or a recognized accrediting organization, may be substituted for six months of the experience described in \"1\" above., However, all candidates must have a minimum of two years of experience as described in \"1\" above.]  \n",
       "4                                                                                                                                                                                                                                                                                                                                                                                                                                                                  [1., Five years of full-time satisfactory experience as a painter acquired within the last fifteen years; or  2., At least three years of full-time satisfactory experience as a painter acquired within the last fifteen years and sufficient full-time satisfactory apprentice painter experience to make up a total of five years of acceptable experience., Six months of acceptable experience will be credited for each year of apprentice painter experience.]  "
      ]
     },
     "execution_count": 183,
     "metadata": {},
     "output_type": "execute_result"
    }
   ],
   "source": [
    "qual.head()"
   ]
  },
  {
   "cell_type": "code",
   "execution_count": 209,
   "metadata": {},
   "outputs": [
    {
     "data": {
      "text/plain": [
       "(1290,)"
      ]
     },
     "execution_count": 209,
     "metadata": {},
     "output_type": "execute_result"
    }
   ],
   "source": [
    "qual[\"Business Title\"].unique().shape"
   ]
  },
  {
   "cell_type": "code",
   "execution_count": null,
   "metadata": {},
   "outputs": [],
   "source": []
  },
  {
   "cell_type": "code",
   "execution_count": null,
   "metadata": {},
   "outputs": [],
   "source": []
  },
  {
   "cell_type": "code",
   "execution_count": 188,
   "metadata": {},
   "outputs": [
    {
     "data": {
      "text/html": [
       "<div>\n",
       "<style scoped>\n",
       "    .dataframe tbody tr th:only-of-type {\n",
       "        vertical-align: middle;\n",
       "    }\n",
       "\n",
       "    .dataframe tbody tr th {\n",
       "        vertical-align: top;\n",
       "    }\n",
       "\n",
       "    .dataframe thead th {\n",
       "        text-align: right;\n",
       "    }\n",
       "</style>\n",
       "<table border=\"1\" class=\"dataframe\">\n",
       "  <thead>\n",
       "    <tr style=\"text-align: right;\">\n",
       "      <th></th>\n",
       "      <th>Business Title</th>\n",
       "      <th>Requirements</th>\n",
       "    </tr>\n",
       "  </thead>\n",
       "  <tbody>\n",
       "    <tr>\n",
       "      <th>4</th>\n",
       "      <td>Temporary Painter</td>\n",
       "      <td>[1., Five years of full-time satisfactory experience as a painter acquired within the last fifteen years; or  2., At least three years of full-time satisfactory experience as a painter acquired within the last fifteen years and sufficient full-time satisfactory apprentice painter experience to make up a total of five years of acceptable experience., Six months of acceptable experience will be credited for each year of apprentice painter experience.]</td>\n",
       "    </tr>\n",
       "    <tr>\n",
       "      <th>5</th>\n",
       "      <td>Temporary Painter</td>\n",
       "      <td>[1., Five years of full-time satisfactory experience as a painter acquired within the last fifteen years; or  2., At least three years of full-time satisfactory experience as a painter acquired within the last fifteen years and sufficient full-time satisfactory apprentice painter experience to make up a total of five years of acceptable experience., Six months of acceptable experience will be credited for each year of apprentice painter experience.]</td>\n",
       "    </tr>\n",
       "  </tbody>\n",
       "</table>\n",
       "</div>"
      ],
      "text/plain": [
       "      Business Title  \\\n",
       "4  Temporary Painter   \n",
       "5  Temporary Painter   \n",
       "\n",
       "                                                                                                                                                                                                                                                                                                                                                                                                                                                            Requirements  \n",
       "4  [1., Five years of full-time satisfactory experience as a painter acquired within the last fifteen years; or  2., At least three years of full-time satisfactory experience as a painter acquired within the last fifteen years and sufficient full-time satisfactory apprentice painter experience to make up a total of five years of acceptable experience., Six months of acceptable experience will be credited for each year of apprentice painter experience.]  \n",
       "5  [1., Five years of full-time satisfactory experience as a painter acquired within the last fifteen years; or  2., At least three years of full-time satisfactory experience as a painter acquired within the last fifteen years and sufficient full-time satisfactory apprentice painter experience to make up a total of five years of acceptable experience., Six months of acceptable experience will be credited for each year of apprentice painter experience.]  "
      ]
     },
     "execution_count": 188,
     "metadata": {},
     "output_type": "execute_result"
    }
   ],
   "source": [
    "qual[qual[\"Business Title\"]==\"Temporary Painter\"]"
   ]
  },
  {
   "cell_type": "code",
   "execution_count": 215,
   "metadata": {},
   "outputs": [],
   "source": [
    "qual1=qual.drop_duplicates([\"Business Title\"], keep='last')"
   ]
  },
  {
   "cell_type": "code",
   "execution_count": 216,
   "metadata": {},
   "outputs": [
    {
     "data": {
      "text/html": [
       "<div>\n",
       "<style scoped>\n",
       "    .dataframe tbody tr th:only-of-type {\n",
       "        vertical-align: middle;\n",
       "    }\n",
       "\n",
       "    .dataframe tbody tr th {\n",
       "        vertical-align: top;\n",
       "    }\n",
       "\n",
       "    .dataframe thead th {\n",
       "        text-align: right;\n",
       "    }\n",
       "</style>\n",
       "<table border=\"1\" class=\"dataframe\">\n",
       "  <thead>\n",
       "    <tr style=\"text-align: right;\">\n",
       "      <th></th>\n",
       "      <th>Business Title</th>\n",
       "      <th>Requirements</th>\n",
       "    </tr>\n",
       "  </thead>\n",
       "  <tbody>\n",
       "    <tr>\n",
       "      <th>0</th>\n",
       "      <td>Account Manager</td>\n",
       "      <td>[1., A baccalaureate degree from an accredited college and two years of experience in community work or community centered activities in an area related to the duties described above; or  2., High school graduation or equivalent and six years of experience in community work or community centered activities in an area related to the duties as described above; or  3., Education and/or experience which is equivalent to \"1\" or \"2\" above., However, all candidates must have at least one year of experience as described in \"1\" above.]</td>\n",
       "    </tr>\n",
       "    <tr>\n",
       "      <th>1</th>\n",
       "      <td>EXECUTIVE DIRECTOR, BUSINESS DEVELOPMENT</td>\n",
       "      <td>[1., A baccalaureate degree from an accredited college or university and five years of full-time paid experience acquired within the last fifteen years, of supervisory or administrative experience including handling of business promotion or urban economic problems, at least 2 years of which must have been in a managerial or executive capacity with primary focus on business promotion or urban economic planning; or    2., A satisfactory equivalent combination of education and experience., However all candidates must have 2 years of managerial or executive experience as described in \"1\" above., Appropriate graduate study in an accredited college or university may be substituted for the general experience on a year-for-year basis., All candidates must have a four-year high school diploma or its equivalent approved by a State's Department of Education or a recognized accrediting organization.]</td>\n",
       "    </tr>\n",
       "    <tr>\n",
       "      <th>3</th>\n",
       "      <td>Maintenance Worker - Technical Services-Heating Unit</td>\n",
       "      <td>[1., Three years of full-time satisfactory experience as a mechanic, journey person or helper in the electrical trades, the mechanical trades, or the construction or maintenance of buildings; or  2., A satisfactory combination of education and experience that is equivalent to \"1\" above., Education may be substituted for experience on the basis that each one year of full-time training in the electrical, mechanical, or construction trades in a trade school or vocational high school approved by a Stateâ€™s Department of Education or a recognized accrediting organization, may be substituted for six months of the experience described in \"1\" above., However, all candidates must have a minimum of two years of experience as described in \"1\" above.]</td>\n",
       "    </tr>\n",
       "    <tr>\n",
       "      <th>5</th>\n",
       "      <td>Temporary Painter</td>\n",
       "      <td>[1., Five years of full-time satisfactory experience as a painter acquired within the last fifteen years; or  2., At least three years of full-time satisfactory experience as a painter acquired within the last fifteen years and sufficient full-time satisfactory apprentice painter experience to make up a total of five years of acceptable experience., Six months of acceptable experience will be credited for each year of apprentice painter experience.]</td>\n",
       "    </tr>\n",
       "    <tr>\n",
       "      <th>6</th>\n",
       "      <td>Contract Analyst</td>\n",
       "      <td>[1., A baccalaureate degree from an accredited college and six months of satisfactory full-time professional experience in procurement of goods, services, construction or construction-related services, or professional, technical or administrative experience in contract negotiation/management; or  2., An associate degree or completion of 60 semester credits from an accredited college, and 18 months of satisfactory, full-time professional experience as described in â€œ1â€ above; or  3., A four-year high school diploma or its educational equivalent and two and one-half years of satisfactory full time professional experience as described in â€œ1â€ above; or  4., A combination of education and/or experience equivalent to â€œ1â€, â€œ2â€, or â€œ3â€ above., College education may be substituted for professional experience under â€œ2â€ or â€œ3â€ above at the rate of 30 semester credits from an accredited college for 6 months of experience., However, all candidates must have at least a four year high school diploma or its educational equivalent and 6 months of the experience described in â€œ1â€ above., SPECIAL NOTES:  To be eligible for placement in Assignment Level II, individuals must have, after meeting the minimum requirements, either one year served at Assignment Level I or one additional year of the experience described in \"1\" above., To be eligible for placement in Assignment Level III, individuals must have, after meeting the minimum requirements, either one year served at Assignment Level II or two additional years of the experience described in \"1\" above, at least one year of which must have been supervisory, or spent performing professional procurement duties equivalent to those performed at Assignment Level III.]</td>\n",
       "    </tr>\n",
       "  </tbody>\n",
       "</table>\n",
       "</div>"
      ],
      "text/plain": [
       "                                         Business Title  \\\n",
       "0                                       Account Manager   \n",
       "1              EXECUTIVE DIRECTOR, BUSINESS DEVELOPMENT   \n",
       "3  Maintenance Worker - Technical Services-Heating Unit   \n",
       "5                                     Temporary Painter   \n",
       "6                                      Contract Analyst   \n",
       "\n",
       "                                                                                                                                                                                                                                                                                                                                                                                                                                                                                                                                                                                                                                                                                                                                                                                                                                                                                                                                                                                                                                                                                                                                                                                                                                                                                                                                                                                                                                                                                                                                                                                                                                                                                                                                                                                                              Requirements  \n",
       "0                                                                                                                                                                                                                                                                                                                                                                                                                                                                                                                                                                                                                                                                                                                                                                                                                                                                                                                                                                                                                                                                                                                                                                                                                                                                     [1., A baccalaureate degree from an accredited college and two years of experience in community work or community centered activities in an area related to the duties described above; or  2., High school graduation or equivalent and six years of experience in community work or community centered activities in an area related to the duties as described above; or  3., Education and/or experience which is equivalent to \"1\" or \"2\" above., However, all candidates must have at least one year of experience as described in \"1\" above.]  \n",
       "1                                                                                                                                                                                                                                                                                                                                                                                                                                                                                                                                                                                                                                                                                                                                                                                                                                                                                    [1., A baccalaureate degree from an accredited college or university and five years of full-time paid experience acquired within the last fifteen years, of supervisory or administrative experience including handling of business promotion or urban economic problems, at least 2 years of which must have been in a managerial or executive capacity with primary focus on business promotion or urban economic planning; or    2., A satisfactory equivalent combination of education and experience., However all candidates must have 2 years of managerial or executive experience as described in \"1\" above., Appropriate graduate study in an accredited college or university may be substituted for the general experience on a year-for-year basis., All candidates must have a four-year high school diploma or its equivalent approved by a State's Department of Education or a recognized accrediting organization.]  \n",
       "3                                                                                                                                                                                                                                                                                                                                                                                                                                                                                                                                                                                                                                                                                                                                                                                                                                                                                                                                                                                                                                           [1., Three years of full-time satisfactory experience as a mechanic, journey person or helper in the electrical trades, the mechanical trades, or the construction or maintenance of buildings; or  2., A satisfactory combination of education and experience that is equivalent to \"1\" above., Education may be substituted for experience on the basis that each one year of full-time training in the electrical, mechanical, or construction trades in a trade school or vocational high school approved by a Stateâ€™s Department of Education or a recognized accrediting organization, may be substituted for six months of the experience described in \"1\" above., However, all candidates must have a minimum of two years of experience as described in \"1\" above.]  \n",
       "5                                                                                                                                                                                                                                                                                                                                                                                                                                                                                                                                                                                                                                                                                                                                                                                                                                                                                                                                                                                                                                                                                                                                                                                                                                                                                                                                                    [1., Five years of full-time satisfactory experience as a painter acquired within the last fifteen years; or  2., At least three years of full-time satisfactory experience as a painter acquired within the last fifteen years and sufficient full-time satisfactory apprentice painter experience to make up a total of five years of acceptable experience., Six months of acceptable experience will be credited for each year of apprentice painter experience.]  \n",
       "6  [1., A baccalaureate degree from an accredited college and six months of satisfactory full-time professional experience in procurement of goods, services, construction or construction-related services, or professional, technical or administrative experience in contract negotiation/management; or  2., An associate degree or completion of 60 semester credits from an accredited college, and 18 months of satisfactory, full-time professional experience as described in â€œ1â€ above; or  3., A four-year high school diploma or its educational equivalent and two and one-half years of satisfactory full time professional experience as described in â€œ1â€ above; or  4., A combination of education and/or experience equivalent to â€œ1â€, â€œ2â€, or â€œ3â€ above., College education may be substituted for professional experience under â€œ2â€ or â€œ3â€ above at the rate of 30 semester credits from an accredited college for 6 months of experience., However, all candidates must have at least a four year high school diploma or its educational equivalent and 6 months of the experience described in â€œ1â€ above., SPECIAL NOTES:  To be eligible for placement in Assignment Level II, individuals must have, after meeting the minimum requirements, either one year served at Assignment Level I or one additional year of the experience described in \"1\" above., To be eligible for placement in Assignment Level III, individuals must have, after meeting the minimum requirements, either one year served at Assignment Level II or two additional years of the experience described in \"1\" above, at least one year of which must have been supervisory, or spent performing professional procurement duties equivalent to those performed at Assignment Level III.]  "
      ]
     },
     "execution_count": 216,
     "metadata": {},
     "output_type": "execute_result"
    }
   ],
   "source": [
    "qual1.head()"
   ]
  },
  {
   "cell_type": "code",
   "execution_count": 244,
   "metadata": {},
   "outputs": [],
   "source": [
    "# lets find out first which are the highest paying Buisness Titles"
   ]
  },
  {
   "cell_type": "code",
   "execution_count": null,
   "metadata": {},
   "outputs": [],
   "source": []
  },
  {
   "cell_type": "code",
   "execution_count": 234,
   "metadata": {},
   "outputs": [],
   "source": [
    "# Groupby multiple columns\n",
    "xyz=jbdata.groupby(['Agency','Business Title']).agg(\n",
    "    {\n",
    "         'Salary Range From':\"mean\",\n",
    "         'Salary Range To':\"mean\",    \n",
    "         '# Of Positions': \"count\",\n",
    "    }\n",
    ")"
   ]
  },
  {
   "cell_type": "code",
   "execution_count": 235,
   "metadata": {},
   "outputs": [],
   "source": [
    "xyz.reset_index(inplace=True)"
   ]
  },
  {
   "cell_type": "code",
   "execution_count": 236,
   "metadata": {},
   "outputs": [
    {
     "data": {
      "text/html": [
       "<div>\n",
       "<style scoped>\n",
       "    .dataframe tbody tr th:only-of-type {\n",
       "        vertical-align: middle;\n",
       "    }\n",
       "\n",
       "    .dataframe tbody tr th {\n",
       "        vertical-align: top;\n",
       "    }\n",
       "\n",
       "    .dataframe thead th {\n",
       "        text-align: right;\n",
       "    }\n",
       "</style>\n",
       "<table border=\"1\" class=\"dataframe\">\n",
       "  <thead>\n",
       "    <tr style=\"text-align: right;\">\n",
       "      <th></th>\n",
       "      <th>Agency</th>\n",
       "      <th>Business Title</th>\n",
       "      <th>Salary Range From</th>\n",
       "      <th>Salary Range To</th>\n",
       "      <th># Of Positions</th>\n",
       "    </tr>\n",
       "  </thead>\n",
       "  <tbody>\n",
       "    <tr>\n",
       "      <th>0</th>\n",
       "      <td>ADMIN FOR CHILDREN'S SVCS</td>\n",
       "      <td>APA Foster Care Program Evaluator</td>\n",
       "      <td>60049.0</td>\n",
       "      <td>89008.0</td>\n",
       "      <td>2</td>\n",
       "    </tr>\n",
       "    <tr>\n",
       "      <th>1</th>\n",
       "      <td>ADMIN FOR CHILDREN'S SVCS</td>\n",
       "      <td>Administrative Assistant</td>\n",
       "      <td>49390.0</td>\n",
       "      <td>59183.0</td>\n",
       "      <td>1</td>\n",
       "    </tr>\n",
       "    <tr>\n",
       "      <th>2</th>\n",
       "      <td>ADMIN FOR CHILDREN'S SVCS</td>\n",
       "      <td>Agency Implementation and Support Program Evaluator</td>\n",
       "      <td>61850.0</td>\n",
       "      <td>76745.0</td>\n",
       "      <td>1</td>\n",
       "    </tr>\n",
       "    <tr>\n",
       "      <th>3</th>\n",
       "      <td>ADMIN FOR CHILDREN'S SVCS</td>\n",
       "      <td>Agency Interne</td>\n",
       "      <td>66636.0</td>\n",
       "      <td>70353.0</td>\n",
       "      <td>2</td>\n",
       "    </tr>\n",
       "    <tr>\n",
       "      <th>4</th>\n",
       "      <td>ADMIN FOR CHILDREN'S SVCS</td>\n",
       "      <td>Asset Management Specialist</td>\n",
       "      <td>46405.0</td>\n",
       "      <td>67568.0</td>\n",
       "      <td>2</td>\n",
       "    </tr>\n",
       "  </tbody>\n",
       "</table>\n",
       "</div>"
      ],
      "text/plain": [
       "                      Agency  \\\n",
       "0  ADMIN FOR CHILDREN'S SVCS   \n",
       "1  ADMIN FOR CHILDREN'S SVCS   \n",
       "2  ADMIN FOR CHILDREN'S SVCS   \n",
       "3  ADMIN FOR CHILDREN'S SVCS   \n",
       "4  ADMIN FOR CHILDREN'S SVCS   \n",
       "\n",
       "                                        Business Title  Salary Range From  \\\n",
       "0                    APA Foster Care Program Evaluator            60049.0   \n",
       "1                             Administrative Assistant            49390.0   \n",
       "2  Agency Implementation and Support Program Evaluator            61850.0   \n",
       "3                                       Agency Interne            66636.0   \n",
       "4                          Asset Management Specialist            46405.0   \n",
       "\n",
       "   Salary Range To  # Of Positions  \n",
       "0          89008.0               2  \n",
       "1          59183.0               1  \n",
       "2          76745.0               1  \n",
       "3          70353.0               2  \n",
       "4          67568.0               2  "
      ]
     },
     "execution_count": 236,
     "metadata": {},
     "output_type": "execute_result"
    }
   ],
   "source": [
    "xyz.head()"
   ]
  },
  {
   "cell_type": "code",
   "execution_count": 237,
   "metadata": {},
   "outputs": [],
   "source": [
    "xyz[\"Average Salary\"]=(xyz[\"Salary Range From\"]+xyz[\"Salary Range To\"])/2"
   ]
  },
  {
   "cell_type": "code",
   "execution_count": 245,
   "metadata": {},
   "outputs": [],
   "source": [
    "xyz=xyz.sort_values(by=\"Average Salary\",ascending=False)"
   ]
  },
  {
   "cell_type": "code",
   "execution_count": 251,
   "metadata": {},
   "outputs": [],
   "source": [
    "xc=xyz.head(10)"
   ]
  },
  {
   "cell_type": "code",
   "execution_count": 269,
   "metadata": {},
   "outputs": [
    {
     "data": {
      "application/vnd.plotly.v1+json": {
       "config": {
        "plotlyServerURL": "https://plot.ly"
       },
       "data": [
        {
         "alignmentgroup": "True",
         "hoverlabel": {
          "namelength": 0
         },
         "hovertemplate": "Business Title=%{x}<br>Average Salary=%{y}",
         "legendgroup": "",
         "marker": {
          "color": "#636efa"
         },
         "name": "",
         "offsetgroup": "",
         "orientation": "v",
         "showlegend": false,
         "textposition": "auto",
         "type": "bar",
         "x": [
          "Deputy Commissioner, Bureau of Customer Services",
          "Deputy Commissioner, Water and Sewer Operations",
          "DHS FIRST DEPUTY COMMISSIONER",
          "Executive Deputy Commissioner of Operations",
          "BUDGET ANALYST (OMB)-MANAGERIA",
          "Deputy Commissioner, Wastewater Treatment",
          "Deputy Commissioner, Office of Development",
          "Deputy Commissioner, Office of Policy and Strategy",
          "Chief Compliance Officer",
          "Assistant Commissioner, Capital Planning & Delivery"
         ],
         "xaxis": "x",
         "y": [
          218587,
          209585,
          207889.5,
          205000,
          202844.5,
          198518,
          190560.5,
          190560.5,
          190000,
          182500
         ],
         "yaxis": "y"
        }
       ],
       "layout": {
        "barmode": "stack",
        "height": 600,
        "legend": {
         "tracegroupgap": 0
        },
        "template": {
         "data": {
          "bar": [
           {
            "error_x": {
             "color": "#2a3f5f"
            },
            "error_y": {
             "color": "#2a3f5f"
            },
            "marker": {
             "line": {
              "color": "#E5ECF6",
              "width": 0.5
             }
            },
            "type": "bar"
           }
          ],
          "barpolar": [
           {
            "marker": {
             "line": {
              "color": "#E5ECF6",
              "width": 0.5
             }
            },
            "type": "barpolar"
           }
          ],
          "carpet": [
           {
            "aaxis": {
             "endlinecolor": "#2a3f5f",
             "gridcolor": "white",
             "linecolor": "white",
             "minorgridcolor": "white",
             "startlinecolor": "#2a3f5f"
            },
            "baxis": {
             "endlinecolor": "#2a3f5f",
             "gridcolor": "white",
             "linecolor": "white",
             "minorgridcolor": "white",
             "startlinecolor": "#2a3f5f"
            },
            "type": "carpet"
           }
          ],
          "choropleth": [
           {
            "colorbar": {
             "outlinewidth": 0,
             "ticks": ""
            },
            "type": "choropleth"
           }
          ],
          "contour": [
           {
            "colorbar": {
             "outlinewidth": 0,
             "ticks": ""
            },
            "colorscale": [
             [
              0,
              "#0d0887"
             ],
             [
              0.1111111111111111,
              "#46039f"
             ],
             [
              0.2222222222222222,
              "#7201a8"
             ],
             [
              0.3333333333333333,
              "#9c179e"
             ],
             [
              0.4444444444444444,
              "#bd3786"
             ],
             [
              0.5555555555555556,
              "#d8576b"
             ],
             [
              0.6666666666666666,
              "#ed7953"
             ],
             [
              0.7777777777777778,
              "#fb9f3a"
             ],
             [
              0.8888888888888888,
              "#fdca26"
             ],
             [
              1,
              "#f0f921"
             ]
            ],
            "type": "contour"
           }
          ],
          "contourcarpet": [
           {
            "colorbar": {
             "outlinewidth": 0,
             "ticks": ""
            },
            "type": "contourcarpet"
           }
          ],
          "heatmap": [
           {
            "colorbar": {
             "outlinewidth": 0,
             "ticks": ""
            },
            "colorscale": [
             [
              0,
              "#0d0887"
             ],
             [
              0.1111111111111111,
              "#46039f"
             ],
             [
              0.2222222222222222,
              "#7201a8"
             ],
             [
              0.3333333333333333,
              "#9c179e"
             ],
             [
              0.4444444444444444,
              "#bd3786"
             ],
             [
              0.5555555555555556,
              "#d8576b"
             ],
             [
              0.6666666666666666,
              "#ed7953"
             ],
             [
              0.7777777777777778,
              "#fb9f3a"
             ],
             [
              0.8888888888888888,
              "#fdca26"
             ],
             [
              1,
              "#f0f921"
             ]
            ],
            "type": "heatmap"
           }
          ],
          "heatmapgl": [
           {
            "colorbar": {
             "outlinewidth": 0,
             "ticks": ""
            },
            "colorscale": [
             [
              0,
              "#0d0887"
             ],
             [
              0.1111111111111111,
              "#46039f"
             ],
             [
              0.2222222222222222,
              "#7201a8"
             ],
             [
              0.3333333333333333,
              "#9c179e"
             ],
             [
              0.4444444444444444,
              "#bd3786"
             ],
             [
              0.5555555555555556,
              "#d8576b"
             ],
             [
              0.6666666666666666,
              "#ed7953"
             ],
             [
              0.7777777777777778,
              "#fb9f3a"
             ],
             [
              0.8888888888888888,
              "#fdca26"
             ],
             [
              1,
              "#f0f921"
             ]
            ],
            "type": "heatmapgl"
           }
          ],
          "histogram": [
           {
            "marker": {
             "colorbar": {
              "outlinewidth": 0,
              "ticks": ""
             }
            },
            "type": "histogram"
           }
          ],
          "histogram2d": [
           {
            "colorbar": {
             "outlinewidth": 0,
             "ticks": ""
            },
            "colorscale": [
             [
              0,
              "#0d0887"
             ],
             [
              0.1111111111111111,
              "#46039f"
             ],
             [
              0.2222222222222222,
              "#7201a8"
             ],
             [
              0.3333333333333333,
              "#9c179e"
             ],
             [
              0.4444444444444444,
              "#bd3786"
             ],
             [
              0.5555555555555556,
              "#d8576b"
             ],
             [
              0.6666666666666666,
              "#ed7953"
             ],
             [
              0.7777777777777778,
              "#fb9f3a"
             ],
             [
              0.8888888888888888,
              "#fdca26"
             ],
             [
              1,
              "#f0f921"
             ]
            ],
            "type": "histogram2d"
           }
          ],
          "histogram2dcontour": [
           {
            "colorbar": {
             "outlinewidth": 0,
             "ticks": ""
            },
            "colorscale": [
             [
              0,
              "#0d0887"
             ],
             [
              0.1111111111111111,
              "#46039f"
             ],
             [
              0.2222222222222222,
              "#7201a8"
             ],
             [
              0.3333333333333333,
              "#9c179e"
             ],
             [
              0.4444444444444444,
              "#bd3786"
             ],
             [
              0.5555555555555556,
              "#d8576b"
             ],
             [
              0.6666666666666666,
              "#ed7953"
             ],
             [
              0.7777777777777778,
              "#fb9f3a"
             ],
             [
              0.8888888888888888,
              "#fdca26"
             ],
             [
              1,
              "#f0f921"
             ]
            ],
            "type": "histogram2dcontour"
           }
          ],
          "mesh3d": [
           {
            "colorbar": {
             "outlinewidth": 0,
             "ticks": ""
            },
            "type": "mesh3d"
           }
          ],
          "parcoords": [
           {
            "line": {
             "colorbar": {
              "outlinewidth": 0,
              "ticks": ""
             }
            },
            "type": "parcoords"
           }
          ],
          "scatter": [
           {
            "marker": {
             "colorbar": {
              "outlinewidth": 0,
              "ticks": ""
             }
            },
            "type": "scatter"
           }
          ],
          "scatter3d": [
           {
            "line": {
             "colorbar": {
              "outlinewidth": 0,
              "ticks": ""
             }
            },
            "marker": {
             "colorbar": {
              "outlinewidth": 0,
              "ticks": ""
             }
            },
            "type": "scatter3d"
           }
          ],
          "scattercarpet": [
           {
            "marker": {
             "colorbar": {
              "outlinewidth": 0,
              "ticks": ""
             }
            },
            "type": "scattercarpet"
           }
          ],
          "scattergeo": [
           {
            "marker": {
             "colorbar": {
              "outlinewidth": 0,
              "ticks": ""
             }
            },
            "type": "scattergeo"
           }
          ],
          "scattergl": [
           {
            "marker": {
             "colorbar": {
              "outlinewidth": 0,
              "ticks": ""
             }
            },
            "type": "scattergl"
           }
          ],
          "scattermapbox": [
           {
            "marker": {
             "colorbar": {
              "outlinewidth": 0,
              "ticks": ""
             }
            },
            "type": "scattermapbox"
           }
          ],
          "scatterpolar": [
           {
            "marker": {
             "colorbar": {
              "outlinewidth": 0,
              "ticks": ""
             }
            },
            "type": "scatterpolar"
           }
          ],
          "scatterpolargl": [
           {
            "marker": {
             "colorbar": {
              "outlinewidth": 0,
              "ticks": ""
             }
            },
            "type": "scatterpolargl"
           }
          ],
          "scatterternary": [
           {
            "marker": {
             "colorbar": {
              "outlinewidth": 0,
              "ticks": ""
             }
            },
            "type": "scatterternary"
           }
          ],
          "surface": [
           {
            "colorbar": {
             "outlinewidth": 0,
             "ticks": ""
            },
            "colorscale": [
             [
              0,
              "#0d0887"
             ],
             [
              0.1111111111111111,
              "#46039f"
             ],
             [
              0.2222222222222222,
              "#7201a8"
             ],
             [
              0.3333333333333333,
              "#9c179e"
             ],
             [
              0.4444444444444444,
              "#bd3786"
             ],
             [
              0.5555555555555556,
              "#d8576b"
             ],
             [
              0.6666666666666666,
              "#ed7953"
             ],
             [
              0.7777777777777778,
              "#fb9f3a"
             ],
             [
              0.8888888888888888,
              "#fdca26"
             ],
             [
              1,
              "#f0f921"
             ]
            ],
            "type": "surface"
           }
          ],
          "table": [
           {
            "cells": {
             "fill": {
              "color": "#EBF0F8"
             },
             "line": {
              "color": "white"
             }
            },
            "header": {
             "fill": {
              "color": "#C8D4E3"
             },
             "line": {
              "color": "white"
             }
            },
            "type": "table"
           }
          ]
         },
         "layout": {
          "annotationdefaults": {
           "arrowcolor": "#2a3f5f",
           "arrowhead": 0,
           "arrowwidth": 1
          },
          "colorscale": {
           "diverging": [
            [
             0,
             "#8e0152"
            ],
            [
             0.1,
             "#c51b7d"
            ],
            [
             0.2,
             "#de77ae"
            ],
            [
             0.3,
             "#f1b6da"
            ],
            [
             0.4,
             "#fde0ef"
            ],
            [
             0.5,
             "#f7f7f7"
            ],
            [
             0.6,
             "#e6f5d0"
            ],
            [
             0.7,
             "#b8e186"
            ],
            [
             0.8,
             "#7fbc41"
            ],
            [
             0.9,
             "#4d9221"
            ],
            [
             1,
             "#276419"
            ]
           ],
           "sequential": [
            [
             0,
             "#0d0887"
            ],
            [
             0.1111111111111111,
             "#46039f"
            ],
            [
             0.2222222222222222,
             "#7201a8"
            ],
            [
             0.3333333333333333,
             "#9c179e"
            ],
            [
             0.4444444444444444,
             "#bd3786"
            ],
            [
             0.5555555555555556,
             "#d8576b"
            ],
            [
             0.6666666666666666,
             "#ed7953"
            ],
            [
             0.7777777777777778,
             "#fb9f3a"
            ],
            [
             0.8888888888888888,
             "#fdca26"
            ],
            [
             1,
             "#f0f921"
            ]
           ],
           "sequentialminus": [
            [
             0,
             "#0d0887"
            ],
            [
             0.1111111111111111,
             "#46039f"
            ],
            [
             0.2222222222222222,
             "#7201a8"
            ],
            [
             0.3333333333333333,
             "#9c179e"
            ],
            [
             0.4444444444444444,
             "#bd3786"
            ],
            [
             0.5555555555555556,
             "#d8576b"
            ],
            [
             0.6666666666666666,
             "#ed7953"
            ],
            [
             0.7777777777777778,
             "#fb9f3a"
            ],
            [
             0.8888888888888888,
             "#fdca26"
            ],
            [
             1,
             "#f0f921"
            ]
           ]
          },
          "colorway": [
           "#636efa",
           "#EF553B",
           "#00cc96",
           "#ab63fa",
           "#FFA15A",
           "#19d3f3",
           "#FF6692",
           "#B6E880",
           "#FF97FF",
           "#FECB52"
          ],
          "font": {
           "color": "#2a3f5f"
          },
          "geo": {
           "bgcolor": "white",
           "lakecolor": "white",
           "landcolor": "#E5ECF6",
           "showlakes": true,
           "showland": true,
           "subunitcolor": "white"
          },
          "hoverlabel": {
           "align": "left"
          },
          "hovermode": "closest",
          "mapbox": {
           "style": "light"
          },
          "paper_bgcolor": "white",
          "plot_bgcolor": "#E5ECF6",
          "polar": {
           "angularaxis": {
            "gridcolor": "white",
            "linecolor": "white",
            "ticks": ""
           },
           "bgcolor": "#E5ECF6",
           "radialaxis": {
            "gridcolor": "white",
            "linecolor": "white",
            "ticks": ""
           }
          },
          "scene": {
           "xaxis": {
            "backgroundcolor": "#E5ECF6",
            "gridcolor": "white",
            "gridwidth": 2,
            "linecolor": "white",
            "showbackground": true,
            "ticks": "",
            "zerolinecolor": "white"
           },
           "yaxis": {
            "backgroundcolor": "#E5ECF6",
            "gridcolor": "white",
            "gridwidth": 2,
            "linecolor": "white",
            "showbackground": true,
            "ticks": "",
            "zerolinecolor": "white"
           },
           "zaxis": {
            "backgroundcolor": "#E5ECF6",
            "gridcolor": "white",
            "gridwidth": 2,
            "linecolor": "white",
            "showbackground": true,
            "ticks": "",
            "zerolinecolor": "white"
           }
          },
          "shapedefaults": {
           "line": {
            "color": "#2a3f5f"
           }
          },
          "ternary": {
           "aaxis": {
            "gridcolor": "white",
            "linecolor": "white",
            "ticks": ""
           },
           "baxis": {
            "gridcolor": "white",
            "linecolor": "white",
            "ticks": ""
           },
           "bgcolor": "#E5ECF6",
           "caxis": {
            "gridcolor": "white",
            "linecolor": "white",
            "ticks": ""
           }
          },
          "title": {
           "x": 0.05
          },
          "xaxis": {
           "automargin": true,
           "gridcolor": "white",
           "linecolor": "white",
           "ticks": "",
           "zerolinecolor": "white",
           "zerolinewidth": 2
          },
          "yaxis": {
           "automargin": true,
           "gridcolor": "white",
           "linecolor": "white",
           "ticks": "",
           "zerolinecolor": "white",
           "zerolinewidth": 2
          }
         }
        },
        "title": {
         "text": "Average Salary based on Titles"
        },
        "xaxis": {
         "anchor": "y",
         "domain": [
          0,
          0.98
         ],
         "title": {
          "text": "Business Title"
         }
        },
        "yaxis": {
         "anchor": "x",
         "domain": [
          0,
          1
         ],
         "title": {
          "text": "Average Salary"
         }
        }
       }
      },
      "text/html": [
       "<div>\n",
       "        \n",
       "        \n",
       "            <div id=\"1cf82aea-1f85-4754-b84e-242b49e97e5e\" class=\"plotly-graph-div\" style=\"height:600px; width:100%;\"></div>\n",
       "            <script type=\"text/javascript\">\n",
       "                require([\"plotly\"], function(Plotly) {\n",
       "                    window.PLOTLYENV=window.PLOTLYENV || {};\n",
       "                    \n",
       "                if (document.getElementById(\"1cf82aea-1f85-4754-b84e-242b49e97e5e\")) {\n",
       "                    Plotly.newPlot(\n",
       "                        '1cf82aea-1f85-4754-b84e-242b49e97e5e',\n",
       "                        [{\"alignmentgroup\": \"True\", \"hoverlabel\": {\"namelength\": 0}, \"hovertemplate\": \"Business Title=%{x}<br>Average Salary=%{y}\", \"legendgroup\": \"\", \"marker\": {\"color\": \"#636efa\"}, \"name\": \"\", \"offsetgroup\": \"\", \"orientation\": \"v\", \"showlegend\": false, \"textposition\": \"auto\", \"type\": \"bar\", \"x\": [\"Deputy Commissioner, Bureau of Customer Services\", \"Deputy Commissioner, Water and Sewer Operations\", \"DHS FIRST DEPUTY COMMISSIONER\", \"Executive Deputy Commissioner of Operations\", \"BUDGET ANALYST (OMB)-MANAGERIA\", \"Deputy Commissioner, Wastewater Treatment\", \"Deputy Commissioner, Office of Development\", \"Deputy Commissioner, Office of Policy and Strategy\", \"Chief Compliance Officer\", \"Assistant Commissioner, Capital Planning & Delivery\"], \"xaxis\": \"x\", \"y\": [218587.0, 209585.0, 207889.5, 205000.0, 202844.5, 198518.0, 190560.5, 190560.5, 190000.0, 182500.0], \"yaxis\": \"y\"}],\n",
       "                        {\"barmode\": \"stack\", \"height\": 600, \"legend\": {\"tracegroupgap\": 0}, \"template\": {\"data\": {\"bar\": [{\"error_x\": {\"color\": \"#2a3f5f\"}, \"error_y\": {\"color\": \"#2a3f5f\"}, \"marker\": {\"line\": {\"color\": \"#E5ECF6\", \"width\": 0.5}}, \"type\": \"bar\"}], \"barpolar\": [{\"marker\": {\"line\": {\"color\": \"#E5ECF6\", \"width\": 0.5}}, \"type\": \"barpolar\"}], \"carpet\": [{\"aaxis\": {\"endlinecolor\": \"#2a3f5f\", \"gridcolor\": \"white\", \"linecolor\": \"white\", \"minorgridcolor\": \"white\", \"startlinecolor\": \"#2a3f5f\"}, \"baxis\": {\"endlinecolor\": \"#2a3f5f\", \"gridcolor\": \"white\", \"linecolor\": \"white\", \"minorgridcolor\": \"white\", \"startlinecolor\": \"#2a3f5f\"}, \"type\": \"carpet\"}], \"choropleth\": [{\"colorbar\": {\"outlinewidth\": 0, \"ticks\": \"\"}, \"type\": \"choropleth\"}], \"contour\": [{\"colorbar\": {\"outlinewidth\": 0, \"ticks\": \"\"}, \"colorscale\": [[0.0, \"#0d0887\"], [0.1111111111111111, \"#46039f\"], [0.2222222222222222, \"#7201a8\"], [0.3333333333333333, \"#9c179e\"], [0.4444444444444444, \"#bd3786\"], [0.5555555555555556, \"#d8576b\"], [0.6666666666666666, \"#ed7953\"], [0.7777777777777778, \"#fb9f3a\"], [0.8888888888888888, \"#fdca26\"], [1.0, \"#f0f921\"]], \"type\": \"contour\"}], \"contourcarpet\": [{\"colorbar\": {\"outlinewidth\": 0, \"ticks\": \"\"}, \"type\": \"contourcarpet\"}], \"heatmap\": [{\"colorbar\": {\"outlinewidth\": 0, \"ticks\": \"\"}, \"colorscale\": [[0.0, \"#0d0887\"], [0.1111111111111111, \"#46039f\"], [0.2222222222222222, \"#7201a8\"], [0.3333333333333333, \"#9c179e\"], [0.4444444444444444, \"#bd3786\"], [0.5555555555555556, \"#d8576b\"], [0.6666666666666666, \"#ed7953\"], [0.7777777777777778, \"#fb9f3a\"], [0.8888888888888888, \"#fdca26\"], [1.0, \"#f0f921\"]], \"type\": \"heatmap\"}], \"heatmapgl\": [{\"colorbar\": {\"outlinewidth\": 0, \"ticks\": \"\"}, \"colorscale\": [[0.0, \"#0d0887\"], [0.1111111111111111, \"#46039f\"], [0.2222222222222222, \"#7201a8\"], [0.3333333333333333, \"#9c179e\"], [0.4444444444444444, \"#bd3786\"], [0.5555555555555556, \"#d8576b\"], [0.6666666666666666, \"#ed7953\"], [0.7777777777777778, \"#fb9f3a\"], [0.8888888888888888, \"#fdca26\"], [1.0, \"#f0f921\"]], \"type\": \"heatmapgl\"}], \"histogram\": [{\"marker\": {\"colorbar\": {\"outlinewidth\": 0, \"ticks\": \"\"}}, \"type\": \"histogram\"}], \"histogram2d\": [{\"colorbar\": {\"outlinewidth\": 0, \"ticks\": \"\"}, \"colorscale\": [[0.0, \"#0d0887\"], [0.1111111111111111, \"#46039f\"], [0.2222222222222222, \"#7201a8\"], [0.3333333333333333, \"#9c179e\"], [0.4444444444444444, \"#bd3786\"], [0.5555555555555556, \"#d8576b\"], [0.6666666666666666, \"#ed7953\"], [0.7777777777777778, \"#fb9f3a\"], [0.8888888888888888, \"#fdca26\"], [1.0, \"#f0f921\"]], \"type\": \"histogram2d\"}], \"histogram2dcontour\": [{\"colorbar\": {\"outlinewidth\": 0, \"ticks\": \"\"}, \"colorscale\": [[0.0, \"#0d0887\"], [0.1111111111111111, \"#46039f\"], [0.2222222222222222, \"#7201a8\"], [0.3333333333333333, \"#9c179e\"], [0.4444444444444444, \"#bd3786\"], [0.5555555555555556, \"#d8576b\"], [0.6666666666666666, \"#ed7953\"], [0.7777777777777778, \"#fb9f3a\"], [0.8888888888888888, \"#fdca26\"], [1.0, \"#f0f921\"]], \"type\": \"histogram2dcontour\"}], \"mesh3d\": [{\"colorbar\": {\"outlinewidth\": 0, \"ticks\": \"\"}, \"type\": \"mesh3d\"}], \"parcoords\": [{\"line\": {\"colorbar\": {\"outlinewidth\": 0, \"ticks\": \"\"}}, \"type\": \"parcoords\"}], \"scatter\": [{\"marker\": {\"colorbar\": {\"outlinewidth\": 0, \"ticks\": \"\"}}, \"type\": \"scatter\"}], \"scatter3d\": [{\"line\": {\"colorbar\": {\"outlinewidth\": 0, \"ticks\": \"\"}}, \"marker\": {\"colorbar\": {\"outlinewidth\": 0, \"ticks\": \"\"}}, \"type\": \"scatter3d\"}], \"scattercarpet\": [{\"marker\": {\"colorbar\": {\"outlinewidth\": 0, \"ticks\": \"\"}}, \"type\": \"scattercarpet\"}], \"scattergeo\": [{\"marker\": {\"colorbar\": {\"outlinewidth\": 0, \"ticks\": \"\"}}, \"type\": \"scattergeo\"}], \"scattergl\": [{\"marker\": {\"colorbar\": {\"outlinewidth\": 0, \"ticks\": \"\"}}, \"type\": \"scattergl\"}], \"scattermapbox\": [{\"marker\": {\"colorbar\": {\"outlinewidth\": 0, \"ticks\": \"\"}}, \"type\": \"scattermapbox\"}], \"scatterpolar\": [{\"marker\": {\"colorbar\": {\"outlinewidth\": 0, \"ticks\": \"\"}}, \"type\": \"scatterpolar\"}], \"scatterpolargl\": [{\"marker\": {\"colorbar\": {\"outlinewidth\": 0, \"ticks\": \"\"}}, \"type\": \"scatterpolargl\"}], \"scatterternary\": [{\"marker\": {\"colorbar\": {\"outlinewidth\": 0, \"ticks\": \"\"}}, \"type\": \"scatterternary\"}], \"surface\": [{\"colorbar\": {\"outlinewidth\": 0, \"ticks\": \"\"}, \"colorscale\": [[0.0, \"#0d0887\"], [0.1111111111111111, \"#46039f\"], [0.2222222222222222, \"#7201a8\"], [0.3333333333333333, \"#9c179e\"], [0.4444444444444444, \"#bd3786\"], [0.5555555555555556, \"#d8576b\"], [0.6666666666666666, \"#ed7953\"], [0.7777777777777778, \"#fb9f3a\"], [0.8888888888888888, \"#fdca26\"], [1.0, \"#f0f921\"]], \"type\": \"surface\"}], \"table\": [{\"cells\": {\"fill\": {\"color\": \"#EBF0F8\"}, \"line\": {\"color\": \"white\"}}, \"header\": {\"fill\": {\"color\": \"#C8D4E3\"}, \"line\": {\"color\": \"white\"}}, \"type\": \"table\"}]}, \"layout\": {\"annotationdefaults\": {\"arrowcolor\": \"#2a3f5f\", \"arrowhead\": 0, \"arrowwidth\": 1}, \"colorscale\": {\"diverging\": [[0, \"#8e0152\"], [0.1, \"#c51b7d\"], [0.2, \"#de77ae\"], [0.3, \"#f1b6da\"], [0.4, \"#fde0ef\"], [0.5, \"#f7f7f7\"], [0.6, \"#e6f5d0\"], [0.7, \"#b8e186\"], [0.8, \"#7fbc41\"], [0.9, \"#4d9221\"], [1, \"#276419\"]], \"sequential\": [[0.0, \"#0d0887\"], [0.1111111111111111, \"#46039f\"], [0.2222222222222222, \"#7201a8\"], [0.3333333333333333, \"#9c179e\"], [0.4444444444444444, \"#bd3786\"], [0.5555555555555556, \"#d8576b\"], [0.6666666666666666, \"#ed7953\"], [0.7777777777777778, \"#fb9f3a\"], [0.8888888888888888, \"#fdca26\"], [1.0, \"#f0f921\"]], \"sequentialminus\": [[0.0, \"#0d0887\"], [0.1111111111111111, \"#46039f\"], [0.2222222222222222, \"#7201a8\"], [0.3333333333333333, \"#9c179e\"], [0.4444444444444444, \"#bd3786\"], [0.5555555555555556, \"#d8576b\"], [0.6666666666666666, \"#ed7953\"], [0.7777777777777778, \"#fb9f3a\"], [0.8888888888888888, \"#fdca26\"], [1.0, \"#f0f921\"]]}, \"colorway\": [\"#636efa\", \"#EF553B\", \"#00cc96\", \"#ab63fa\", \"#FFA15A\", \"#19d3f3\", \"#FF6692\", \"#B6E880\", \"#FF97FF\", \"#FECB52\"], \"font\": {\"color\": \"#2a3f5f\"}, \"geo\": {\"bgcolor\": \"white\", \"lakecolor\": \"white\", \"landcolor\": \"#E5ECF6\", \"showlakes\": true, \"showland\": true, \"subunitcolor\": \"white\"}, \"hoverlabel\": {\"align\": \"left\"}, \"hovermode\": \"closest\", \"mapbox\": {\"style\": \"light\"}, \"paper_bgcolor\": \"white\", \"plot_bgcolor\": \"#E5ECF6\", \"polar\": {\"angularaxis\": {\"gridcolor\": \"white\", \"linecolor\": \"white\", \"ticks\": \"\"}, \"bgcolor\": \"#E5ECF6\", \"radialaxis\": {\"gridcolor\": \"white\", \"linecolor\": \"white\", \"ticks\": \"\"}}, \"scene\": {\"xaxis\": {\"backgroundcolor\": \"#E5ECF6\", \"gridcolor\": \"white\", \"gridwidth\": 2, \"linecolor\": \"white\", \"showbackground\": true, \"ticks\": \"\", \"zerolinecolor\": \"white\"}, \"yaxis\": {\"backgroundcolor\": \"#E5ECF6\", \"gridcolor\": \"white\", \"gridwidth\": 2, \"linecolor\": \"white\", \"showbackground\": true, \"ticks\": \"\", \"zerolinecolor\": \"white\"}, \"zaxis\": {\"backgroundcolor\": \"#E5ECF6\", \"gridcolor\": \"white\", \"gridwidth\": 2, \"linecolor\": \"white\", \"showbackground\": true, \"ticks\": \"\", \"zerolinecolor\": \"white\"}}, \"shapedefaults\": {\"line\": {\"color\": \"#2a3f5f\"}}, \"ternary\": {\"aaxis\": {\"gridcolor\": \"white\", \"linecolor\": \"white\", \"ticks\": \"\"}, \"baxis\": {\"gridcolor\": \"white\", \"linecolor\": \"white\", \"ticks\": \"\"}, \"bgcolor\": \"#E5ECF6\", \"caxis\": {\"gridcolor\": \"white\", \"linecolor\": \"white\", \"ticks\": \"\"}}, \"title\": {\"x\": 0.05}, \"xaxis\": {\"automargin\": true, \"gridcolor\": \"white\", \"linecolor\": \"white\", \"ticks\": \"\", \"zerolinecolor\": \"white\", \"zerolinewidth\": 2}, \"yaxis\": {\"automargin\": true, \"gridcolor\": \"white\", \"linecolor\": \"white\", \"ticks\": \"\", \"zerolinecolor\": \"white\", \"zerolinewidth\": 2}}}, \"title\": {\"text\": \"Average Salary based on Titles\"}, \"xaxis\": {\"anchor\": \"y\", \"domain\": [0.0, 0.98], \"title\": {\"text\": \"Business Title\"}}, \"yaxis\": {\"anchor\": \"x\", \"domain\": [0.0, 1.0], \"title\": {\"text\": \"Average Salary\"}}},\n",
       "                        {\"responsive\": true}\n",
       "                    ).then(function(){\n",
       "                            \n",
       "var gd = document.getElementById('1cf82aea-1f85-4754-b84e-242b49e97e5e');\n",
       "var x = new MutationObserver(function (mutations, observer) {{\n",
       "        var display = window.getComputedStyle(gd).display;\n",
       "        if (!display || display === 'none') {{\n",
       "            console.log([gd, 'removed!']);\n",
       "            Plotly.purge(gd);\n",
       "            observer.disconnect();\n",
       "        }}\n",
       "}});\n",
       "\n",
       "// Listen for the removal of the full notebook cells\n",
       "var notebookContainer = gd.closest('#notebook-container');\n",
       "if (notebookContainer) {{\n",
       "    x.observe(notebookContainer, {childList: true});\n",
       "}}\n",
       "\n",
       "// Listen for the clearing of the current output cell\n",
       "var outputEl = gd.closest('.output');\n",
       "if (outputEl) {{\n",
       "    x.observe(outputEl, {childList: true});\n",
       "}}\n",
       "\n",
       "                        })\n",
       "                };\n",
       "                });\n",
       "            </script>\n",
       "        </div>"
      ]
     },
     "metadata": {},
     "output_type": "display_data"
    }
   ],
   "source": [
    "fig = px.bar(xc,x=\"Business Title\",y=\"Average Salary\",title=\"Average Salary based on Titles\",barmode=\"stack\")\n",
    "fig.show()"
   ]
  },
  {
   "cell_type": "code",
   "execution_count": 254,
   "metadata": {},
   "outputs": [],
   "source": [
    "# lets find out the requirements for highest paying job"
   ]
  },
  {
   "cell_type": "code",
   "execution_count": 260,
   "metadata": {},
   "outputs": [],
   "source": [
    "text1=list(qual1[qual1[\"Business Title\"]==\"APA Foster Care Program Evaluator\"][\"Requirements\"])"
   ]
  },
  {
   "cell_type": "code",
   "execution_count": 262,
   "metadata": {},
   "outputs": [],
   "source": [
    "stop_words=set(stopwords.words(\"english\"))"
   ]
  },
  {
   "cell_type": "code",
   "execution_count": null,
   "metadata": {},
   "outputs": [],
   "source": []
  },
  {
   "cell_type": "code",
   "execution_count": null,
   "metadata": {},
   "outputs": [],
   "source": []
  }
 ],
 "metadata": {
  "kernelspec": {
   "display_name": "Python 3",
   "language": "python",
   "name": "python3"
  },
  "language_info": {
   "codemirror_mode": {
    "name": "ipython",
    "version": 3
   },
   "file_extension": ".py",
   "mimetype": "text/x-python",
   "name": "python",
   "nbconvert_exporter": "python",
   "pygments_lexer": "ipython3",
   "version": "3.7.3"
  }
 },
 "nbformat": 4,
 "nbformat_minor": 4
}
